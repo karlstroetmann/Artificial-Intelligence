{
 "cells": [
  {
   "cell_type": "code",
   "execution_count": null,
   "id": "3ab56590",
   "metadata": {},
   "outputs": [],
   "source": [
    "from IPython.core.display import HTML\n",
    "with open (\"../style.css\", \"r\") as file:\n",
    "    css = file.read()\n",
    "HTML(css)"
   ]
  },
  {
   "cell_type": "markdown",
   "id": "d7958f8b",
   "metadata": {},
   "source": [
    "# Automatic Differentiation with `autograd`"
   ]
  },
  {
   "cell_type": "markdown",
   "id": "b51c54e0",
   "metadata": {},
   "source": [
    "Technically, `autograd` is layer that wraps and extends `numpy`.  Hence it is most often imported as follows:"
   ]
  },
  {
   "cell_type": "code",
   "execution_count": null,
   "id": "ec4544c6",
   "metadata": {},
   "outputs": [],
   "source": [
    "import autograd\n",
    "import autograd.numpy as np"
   ]
  },
  {
   "cell_type": "markdown",
   "id": "3995a3b0",
   "metadata": {},
   "source": [
    "The function `sigmoid` implements the [sigmod function](https://en.wikipedia.org/wiki/Sigmoid_function), which is defined as\n",
    "$$ \\texttt{S}(x) = \\frac{1}{1 + \\mathrm{e}^{-x}}. $$"
   ]
  },
  {
   "cell_type": "code",
   "execution_count": null,
   "id": "615b3208",
   "metadata": {},
   "outputs": [],
   "source": [
    "def S(x):\n",
    "    return 1.0 / (1.0 + np.exp(-x))"
   ]
  },
  {
   "cell_type": "markdown",
   "id": "7f7c855e",
   "metadata": {},
   "source": [
    "The function `S_prime` computes the [derivative](https://en.wikipedia.org/wiki/Derivative) of the Sigmoid function.  We implement it using *automatic differentiation*.  This is the closest thing to magic I have seen yet."
   ]
  },
  {
   "cell_type": "code",
   "execution_count": null,
   "id": "98a3f134",
   "metadata": {},
   "outputs": [],
   "source": [
    "S_prime = autograd.grad(S)"
   ]
  },
  {
   "cell_type": "markdown",
   "id": "2405b7ee",
   "metadata": {},
   "source": [
    "In the lecture we have seen that the following identity holds for the derivative of the sigmoid function:\n",
    "$$ S'(x) = S(x) \\cdot \\bigl((1 - S(x)\\bigr) $$\n",
    "Let's test this identity."
   ]
  },
  {
   "cell_type": "code",
   "execution_count": null,
   "id": "bdf246b7",
   "metadata": {},
   "outputs": [],
   "source": [
    "for x in np.arange(-2.0, 2.0, 0.1):\n",
    "    print(S_prime(x)- S(x) * (1.0 - S(x)))"
   ]
  },
  {
   "cell_type": "markdown",
   "id": "a4cdea58",
   "metadata": {},
   "source": [
    "The identity seems to hold up to rounding errors."
   ]
  }
 ],
 "metadata": {
  "kernelspec": {
   "display_name": "Python 3 (ipykernel)",
   "language": "python",
   "name": "python3"
  },
  "language_info": {
   "codemirror_mode": {
    "name": "ipython",
    "version": 3
   },
   "file_extension": ".py",
   "mimetype": "text/x-python",
   "name": "python",
   "nbconvert_exporter": "python",
   "pygments_lexer": "ipython3",
   "version": "3.10.0"
  }
 },
 "nbformat": 4,
 "nbformat_minor": 5
}
