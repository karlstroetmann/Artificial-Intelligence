{
 "cells": [
  {
   "cell_type": "code",
   "execution_count": null,
   "metadata": {},
   "outputs": [],
   "source": [
    "from IPython.core.display import HTML\n",
    "with open('../style.css') as f:\n",
    "    css = f.read()\n",
    "HTML(css)"
   ]
  },
  {
   "cell_type": "markdown",
   "metadata": {},
   "source": [
    "# Alpha-Beta Pruning\n",
    "\n",
    "This notebook implements [alpha-beta pruning](https://en.wikipedia.org/wiki/Alpha-beta_pruning). *Memoization techniques* are only added in a naive way since adding these techniques in a sophisticated way results in an algorithm that is quite complicated.\n",
    "\n",
    "Effectively, this notebook is a *game solver* because it can be used to play various deterministic, zero-sum, two-person games with perfect information.  To this end, the implementation assumes that an external notebook defines a game and provides the following variables and functions:\n",
    "* `gPlayers` is a list of length two.  The elements of this list are the \n",
    "  players.  It is assumed that the first element in this list represents \n",
    "  the computer, while the second element is the human player.  The computer\n",
    "  always starts the game.\n",
    "* `gStart` is the start state of the game.\n",
    "* `next_states(state, player)` is a function that takes two arguments:\n",
    "  - `state` is a state of the game.\n",
    "  - `player` is the player whose turn it is to make a move.\n",
    "  The function call `next_states(state, player)` returns the list\n",
    "  of all states that can be reached by any move of `player`.\n",
    "* `utility(state)` takes a `state` and a `player` as its arguments.\n",
    "  If `state` is a *terminal state*, then the function returns the value\n",
    "  that this `state` has for the player who starts the game.  Otherwise, the function returns `None`.\n",
    "* `finished(state)` returns `True` if and only if `state` is a terminal state.\n",
    "* `get_move(state)` displays the given state and asks the human player for\n",
    "  her move.\n",
    "* `final_msg(state)` informs the human player about the result of the game.\n",
    "* `draw(state, canvas, value)` draws the given state on the canvas and informs\n",
    "  the user about the `value` of this state. \n",
    "   \n",
    "---"
   ]
  },
  {
   "cell_type": "markdown",
   "metadata": {},
   "source": [
    "In order to have some variation in our game, we use random numbers to choose between optimal moves."
   ]
  },
  {
   "cell_type": "code",
   "execution_count": null,
   "metadata": {},
   "outputs": [],
   "source": [
    "import random\n",
    "random.seed(0)"
   ]
  },
  {
   "cell_type": "markdown",
   "metadata": {},
   "source": [
    "The function `alphaBetaMax` takes three arguments:\n",
    "- `State` is the current state of the game,\n",
    "- `alpha` is a lower bound,\n",
    "- `beta` is an upper bound.\n",
    "\n",
    "The function `max_Value` returns the *value* that the given `State` has for the computer \n",
    "if both players play their optimal game.  This value is an element from the set $\\{-1, 0, 1\\}$.  \n",
    "- If the first player can force a win, the return value is `1`.\n",
    "- If the first player can at best force a draw, the return value is `0`.\n",
    "- If the second player can force a win, the return value is `-1`.\n",
    "\n",
    "Given that $\\texttt{value}(s)$ is the value of the state $s$, the function `alphaBetaMax` satisfies the following specification:\n",
    "- $\\alpha \\leq \\texttt{maxValue}(s) \\leq \\beta \\;\\rightarrow\\;\\texttt{alphaBetaMax}(s, \\alpha, \\beta) = \\texttt{maxValue}(s)$\n",
    "- $\\texttt{maxValue}(s) < \\alpha \\;\\rightarrow\\; \\texttt{alphaBetaMax}(s, \\alpha, \\beta) \\leq \\alpha$\n",
    "- $\\beta < \\texttt{maxValue}(s) \\;\\rightarrow\\; \\beta \\leq \\texttt{alphaBetaMax}(s, \\alpha, \\beta)$\n",
    "\n",
    "Note that this specification does not define the function `alphaBetaMax` as there are many functions that satisfy \n",
    "this specification.  "
   ]
  },
  {
   "cell_type": "code",
   "execution_count": null,
   "metadata": {},
   "outputs": [],
   "source": [
    "def alphaBetaMax(State, alpha, beta):\n",
    "    if finished(State):\n",
    "        return utility(State)\n",
    "    for ns in next_states(State, gPlayers[0]):\n",
    "        value = alphaBetaMin(ns, alpha, beta))\n",
    "        if value >= beta:\n",
    "            return value\n",
    "    return value"
   ]
  },
  {
   "cell_type": "markdown",
   "metadata": {},
   "source": [
    "Given that $\\texttt{minValue}(s)$ is the value of the state $s$, the function `alphaBetaMin` satisfies the following specification:\n",
    "- $\\alpha \\leq \\texttt{minValue}(s) \\leq \\beta \\;\\rightarrow\\;\\texttt{alphaBetaMin}(s, \\alpha, \\beta) = \\texttt{minValue}(s)$\n",
    "- $\\texttt{minValue}(s) < \\alpha \\;\\rightarrow\\; \\texttt{alphaBetaMin}(s, \\alpha, \\beta) \\leq \\alpha$\n",
    "- $\\beta < \\texttt{minValue}(s) \\;\\rightarrow\\; \\beta \\leq \\texttt{alphaBetaMin}(s, \\alpha, \\beta)$"
   ]
  },
  {
   "cell_type": "code",
   "execution_count": null,
   "metadata": {},
   "outputs": [],
   "source": [
    "def alphaBetaMin(State, alpha, beta):\n",
    "    if finished(State):\n",
    "        return utility(State)\n",
    "    value = beta\n",
    "    for ns in next_states(State, gPlayers[1]):\n",
    "        value = min(value, alphaBetaMax(ns, alpha, value))\n",
    "        if value <= alpha:\n",
    "            return value\n",
    "    return value"
   ]
  },
  {
   "cell_type": "code",
   "execution_count": null,
   "metadata": {},
   "outputs": [],
   "source": [
    "import random\n",
    "random.seed(1)"
   ]
  },
  {
   "cell_type": "markdown",
   "metadata": {},
   "source": [
    "The function `best_move` takes one argument:\n",
    "- `State` is the current state of the game.\n",
    "\n",
    "The function `best_move` returns a pair of the form $(v, s)$ where $s$ is a state and $v$ is the value of this state.  The state $s$ is a state that is reached from `State` if `player` makes one of her optimal moves.  In order to have some variation in the game, the function randomly chooses any of the optimal moves."
   ]
  },
  {
   "cell_type": "code",
   "execution_count": null,
   "metadata": {},
   "outputs": [],
   "source": [
    "def best_move(State):\n",
    "    NS        = next_states(State, gPlayers[0])\n",
    "    bestVal   = alphaBetaMax(State, -1, 1)\n",
    "    bestMoves = [s for s in NS if alphaBetaMin(s, -1, 1) == bestVal]\n",
    "    bestState = random.choice(bestMoves)\n",
    "    return bestVal, bestState"
   ]
  },
  {
   "cell_type": "markdown",
   "metadata": {},
   "source": [
    "The next line is needed because we need the function `IPython.display.clear_output` to clear the output in a cell."
   ]
  },
  {
   "cell_type": "code",
   "execution_count": null,
   "metadata": {},
   "outputs": [],
   "source": [
    "import IPython.display "
   ]
  },
  {
   "cell_type": "markdown",
   "metadata": {},
   "source": [
    "The function `play_game` plays the game that is specified externally via the functions `next_states` and `utility`.  The states of the game are drawn on the given `canvas`. "
   ]
  },
  {
   "cell_type": "code",
   "execution_count": null,
   "metadata": {},
   "outputs": [],
   "source": [
    "def play_game(canvas):\n",
    "    State = gStart\n",
    "    while (True):\n",
    "        val, State = best_move(State);\n",
    "        draw(State, canvas, f'For me, the game has the value {val}.')\n",
    "        if finished(State):\n",
    "            final_msg(State)\n",
    "            return\n",
    "        IPython.display.clear_output(wait=True)\n",
    "        State = get_move(State)\n",
    "        draw(State, canvas, '')\n",
    "        if finished(State):\n",
    "            IPython.display.clear_output(wait=True)\n",
    "            final_msg(State)\n",
    "            break"
   ]
  },
  {
   "cell_type": "code",
   "execution_count": null,
   "metadata": {},
   "outputs": [],
   "source": [
    "%%capture\n",
    "%run Tic-Tac-Toe-Bitboard.ipynb"
   ]
  },
  {
   "cell_type": "markdown",
   "metadata": {},
   "source": [
    "If we use *$\\alpha$-$\\beta$ pruning*, computing the value of the `Start` state of *tic-tac-toe* takes about 77 ms.  This should be compared to the more than 2 seconds that the *minimax algorithm* needs."
   ]
  },
  {
   "cell_type": "code",
   "execution_count": null,
   "metadata": {},
   "outputs": [],
   "source": [
    "%%time\n",
    "val = alphaBetaMax(gStart, -1, 1)"
   ]
  },
  {
   "cell_type": "markdown",
   "metadata": {},
   "source": [
    "## Naive Memoization"
   ]
  },
  {
   "cell_type": "markdown",
   "metadata": {},
   "source": [
    "The implementation of `memoize` that is given below uses the fact that the functions `alphaBetaMax` and `alphaBetaMin` are never called with the same arguments."
   ]
  },
  {
   "cell_type": "code",
   "execution_count": null,
   "metadata": {},
   "outputs": [],
   "source": [
    "gCache = {}\n",
    "\n",
    "def memoize(f):\n",
    "    global gCache\n",
    "    \n",
    "    def f_memoized(*args):\n",
    "        if args in gCache:\n",
    "            return gCache[args]\n",
    "        result = f(*args)\n",
    "        gCache[args] = result\n",
    "        return result\n",
    "    \n",
    "    return f_memoized"
   ]
  },
  {
   "cell_type": "code",
   "execution_count": null,
   "metadata": {},
   "outputs": [],
   "source": [
    "alphaBetaMax = memoize(alphaBetaMax)\n",
    "alphaBetaMin = memoize(alphaBetaMin)"
   ]
  },
  {
   "cell_type": "code",
   "execution_count": null,
   "metadata": {},
   "outputs": [],
   "source": [
    "%%time\n",
    "val = alphaBetaMax(gStart, -1, 1)"
   ]
  },
  {
   "cell_type": "markdown",
   "metadata": {},
   "source": [
    "Let us check the size of the cache."
   ]
  },
  {
   "cell_type": "code",
   "execution_count": null,
   "metadata": {},
   "outputs": [],
   "source": [
    "len(gCache)"
   ]
  },
  {
   "cell_type": "markdown",
   "metadata": {},
   "source": [
    "Let's draw the board."
   ]
  },
  {
   "cell_type": "code",
   "execution_count": null,
   "metadata": {
    "scrolled": false
   },
   "outputs": [],
   "source": [
    "canvas = create_canvas()\n",
    "draw(gStart, canvas, f'Current value of game for \"X\": {val}')"
   ]
  },
  {
   "cell_type": "markdown",
   "metadata": {},
   "source": [
    "Now its time to play.  In the input window that will pop up later, enter your move in the format \"row,col\"  with no space between row and column."
   ]
  },
  {
   "cell_type": "code",
   "execution_count": null,
   "metadata": {},
   "outputs": [],
   "source": [
    "play_game(canvas)"
   ]
  },
  {
   "cell_type": "code",
   "execution_count": null,
   "metadata": {
    "scrolled": false
   },
   "outputs": [],
   "source": [
    "gCache"
   ]
  },
  {
   "cell_type": "code",
   "execution_count": null,
   "metadata": {},
   "outputs": [],
   "source": []
  }
 ],
 "metadata": {
  "kernelspec": {
   "display_name": "Python 3 (ipykernel)",
   "language": "python",
   "name": "python3"
  },
  "language_info": {
   "codemirror_mode": {
    "name": "ipython",
    "version": 3
   },
   "file_extension": ".py",
   "mimetype": "text/x-python",
   "name": "python",
   "nbconvert_exporter": "python",
   "pygments_lexer": "ipython3",
   "version": "3.10.0"
  },
  "toc": {
   "base_numbering": 1,
   "nav_menu": {},
   "number_sections": true,
   "sideBar": true,
   "skip_h1_title": false,
   "title_cell": "Table of Contents",
   "title_sidebar": "Contents",
   "toc_cell": false,
   "toc_position": {},
   "toc_section_display": true,
   "toc_window_display": false
  },
  "varInspector": {
   "cols": {
    "lenName": 16,
    "lenType": 16,
    "lenVar": 40
   },
   "kernels_config": {
    "python": {
     "delete_cmd_postfix": "",
     "delete_cmd_prefix": "del ",
     "library": "var_list.py",
     "varRefreshCmd": "print(var_dic_list())"
    },
    "r": {
     "delete_cmd_postfix": ") ",
     "delete_cmd_prefix": "rm(",
     "library": "var_list.r",
     "varRefreshCmd": "cat(var_dic_list()) "
    }
   },
   "types_to_exclude": [
    "module",
    "function",
    "builtin_function_or_method",
    "instance",
    "_Feature"
   ],
   "window_display": false
  }
 },
 "nbformat": 4,
 "nbformat_minor": 2
}
