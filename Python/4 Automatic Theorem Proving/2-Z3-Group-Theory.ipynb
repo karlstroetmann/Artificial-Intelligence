{
 "cells": [
  {
   "cell_type": "code",
   "execution_count": 1,
   "id": "b0de9582",
   "metadata": {},
   "outputs": [
    {
     "data": {
      "text/html": [
       "<link href='http://fonts.googleapis.com/css?family=Alegreya+Sans:100,300,400,500,700,800,900,100italic,300italic,400italic,500italic,700italic,800italic,900italic' rel='stylesheet' type='text/css'>\n",
       "<link href='http://fonts.googleapis.com/css?family=Arvo:400,700,400italic' rel='stylesheet' type='text/css'>\n",
       "<link href='http://fonts.googleapis.com/css?family=PT+Mono' rel='stylesheet' type='text/css'>\n",
       "<link href='http://fonts.googleapis.com/css?family=Shadows+Into+Light' rel='stylesheet' type='text/css'>\n",
       "<link href='http://fonts.googleapis.com/css?family=Philosopher:400,700,400italic,700italic' rel='stylesheet' type='text/css'>\n",
       "<link href=\"http://fonts.googleapis.com/css?family=Sacramento\" rel=\"stylesheet\" type=\"text/css\">\n",
       "\n",
       "<style>\n",
       "\n",
       "@font-face {\n",
       "    font-family: \"Computer Modern\";\n",
       "    src: url('http://mirrors.ctan.org/fonts/cm-unicode/fonts/otf/cmunss.otf');\n",
       "}\n",
       "\n",
       ".container { width: 100% }\n",
       "\n",
       "/* Formatting for header cells */\n",
       ".text_cell_render h1 {\n",
       "    font-family: 'Philosopher', sans-serif;\n",
       "    font-weight: 400;\n",
       "    font-size: 2.2em;\n",
       "    line-height: 100%;\n",
       "    color: rgb(0, 80, 120);\n",
       "    margin-bottom: 0.1em;\n",
       "    margin-top: 0.1em;\n",
       "    display: block;\n",
       "}\t\n",
       ".text_cell_render h2 {\n",
       "    font-family: 'Philosopher', serif;\n",
       "    font-weight: 400;\n",
       "    font-size: 1.9em;\n",
       "    line-height: 100%;\n",
       "    color: rgb(200,100,0);\n",
       "    margin-bottom: 0.1em;\n",
       "    margin-top: 0.1em;\n",
       "    display: block;\n",
       "}\t\n",
       "\n",
       ".text_cell_render h3 {\n",
       "    font-family: 'Philosopher', serif;\n",
       "    margin-top:12px;\n",
       "    margin-bottom: 3px;\n",
       "    font-style: italic;\n",
       "    color: rgb(94,127,192);\n",
       "}\n",
       "\n",
       ".text_cell_render h4 {\n",
       "    font-family: 'Philosopher', serif;\n",
       "}\n",
       "\n",
       ".text_cell_render h5 {\n",
       "    font-family: 'Alegreya Sans', sans-serif;\n",
       "    font-weight: 300;\n",
       "    font-size: 16pt;\n",
       "    color: grey;\n",
       "    font-style: italic;\n",
       "    margin-bottom: .1em;\n",
       "    margin-top: 0.1em;\n",
       "    display: block;\n",
       "}\n",
       "\n",
       ".text_cell_render h6 {\n",
       "    font-family: 'PT Mono', sans-serif;\n",
       "    font-weight: 300;\n",
       "    font-size: 10pt;\n",
       "    color: grey;\n",
       "    margin-bottom: 1px;\n",
       "    margin-top: 1px;\n",
       "}\n",
       "\n",
       ".text_cell_render em {\n",
       "    font-family: 'Philosopher', sans-serif;\n",
       "    color:        blue;\n",
       "    background-color: rgb(255,220,180);\n",
       "    font-size:    110%;\n",
       "    margin-left:   2px;\n",
       "    margin-right:  2px;\n",
       "    font-weight:   100;\n",
       "}\n",
       "\n",
       ".text_cell_render b {\n",
       "    color:            rgb(255,195,195);\n",
       "    background-color: rgb(0,0,0);\n",
       "    font-size:    110%;\n",
       "    margin-left:   2px;\n",
       "    margin-right:  2px;\n",
       "    font-weight:   650;\n",
       "}\n",
       "\n",
       ".text_cell_render u {\n",
       "    color:            blue;\n",
       "    font-size:    110%;\n",
       "    margin-left:   2px;\n",
       "    margin-right:  2px;\n",
       "    font-weight:   650;\n",
       "}\n",
       "\n",
       ".text_cell_render tt {\n",
       "    font-size:    120%;\n",
       "    margin-left:   2px;\n",
       "    margin-right:  2px;\n",
       "    font-weight:   150;\n",
       "}\n",
       "\n",
       ".Codemirror {\n",
       "    font-family: \"PT Mono\";\n",
       "    font-size: 100%;\n",
       "}\n",
       "\n",
       "#fancy {\n",
       "    font-family:      Georgia;\n",
       "    position:         relative;\n",
       "    float:            left;\n",
       "    border:           2px solid red;\n",
       "    width:            600px;\n",
       "    padding-left:     20px;\n",
       "    padding-right:    20px;\n",
       "    padding-top:      10px;\n",
       "    font-family:      'Sacramento', cursive;\n",
       "    font-size:        26px;\n",
       "    background-color: #F4EBF3;\n",
       "    border-radius:    15px;\n",
       "}\n",
       "\n",
       "</Style>\n",
       "\n"
      ],
      "text/plain": [
       "<IPython.core.display.HTML object>"
      ]
     },
     "execution_count": 1,
     "metadata": {},
     "output_type": "execute_result"
    }
   ],
   "source": [
    "from IPython.display import HTML\n",
    "HTML(open('../style.css').read())"
   ]
  },
  {
   "cell_type": "code",
   "execution_count": 2,
   "id": "f34663b0",
   "metadata": {},
   "outputs": [],
   "source": [
    "from z3 import *"
   ]
  },
  {
   "cell_type": "markdown",
   "id": "a9a28ed9",
   "metadata": {},
   "source": [
    "We have to declare the sort `Group` in order to define the functions `mul`, `inv`and `one`."
   ]
  },
  {
   "cell_type": "code",
   "execution_count": 3,
   "id": "104014c6",
   "metadata": {},
   "outputs": [],
   "source": [
    "Group = DeclareSort('Group')"
   ]
  },
  {
   "cell_type": "markdown",
   "id": "03b0bb28",
   "metadata": {},
   "source": [
    "`Z3` does not allow us to use operators like `*`.  Instead, we have to define the function `mul`. "
   ]
  },
  {
   "cell_type": "code",
   "execution_count": 4,
   "id": "4a8ca80b",
   "metadata": {},
   "outputs": [],
   "source": [
    "mul = Function('mul', Group, Group, Group)\n",
    "inv = Function('inv', Group, Group)\n",
    "one = Const('one', Group)"
   ]
  },
  {
   "cell_type": "markdown",
   "id": "1df8056d",
   "metadata": {},
   "source": [
    "`x`, `y`, and `z` are declared as constants.  Effectively, these are variables."
   ]
  },
  {
   "cell_type": "code",
   "execution_count": 5,
   "id": "e559a76d",
   "metadata": {},
   "outputs": [],
   "source": [
    "x, y, z = Consts('x y z', Group)"
   ]
  },
  {
   "cell_type": "markdown",
   "id": "88da82fb",
   "metadata": {},
   "source": [
    "Below, we define the three axioms of group theory."
   ]
  },
  {
   "cell_type": "code",
   "execution_count": 6,
   "id": "3f52929d",
   "metadata": {},
   "outputs": [],
   "source": [
    "axioms = [\n",
    "    ForAll([x], mul(one, x) == x),\n",
    "    ForAll([x], mul(x, one) == x),\n",
    "    ForAll([x], mul(inv(x), x) == one),\n",
    "    ForAll([x], mul(x, inv(x)) == one),\n",
    "    ForAll([x, y, z], mul(mul(x, y), z) == mul(x, mul(y, z)))\n",
    "]"
   ]
  },
  {
   "cell_type": "markdown",
   "id": "f0d56c7f",
   "metadata": {},
   "source": [
    "Our goal is to prove that `inv(mul(x, y)) == mul(inv(y), inv(x))`. "
   ]
  },
  {
   "cell_type": "code",
   "execution_count": 7,
   "id": "a8255666",
   "metadata": {},
   "outputs": [],
   "source": [
    "goal = ForAll([x, y], inv(mul(x, y)) == mul(inv(y), inv(x)))"
   ]
  },
  {
   "cell_type": "code",
   "execution_count": 8,
   "id": "e1b2c6a7",
   "metadata": {},
   "outputs": [],
   "source": [
    "S = Solver()"
   ]
  },
  {
   "cell_type": "markdown",
   "id": "7a87b01e",
   "metadata": {},
   "source": [
    "The proof is indirect.  We assume the axioms and the negation of our goal."
   ]
  },
  {
   "cell_type": "code",
   "execution_count": 9,
   "id": "a7a31a37",
   "metadata": {},
   "outputs": [],
   "source": [
    "S.add(axioms + [Not(goal)])"
   ]
  },
  {
   "cell_type": "code",
   "execution_count": 10,
   "id": "8021c84f",
   "metadata": {},
   "outputs": [
    {
     "name": "stdout",
     "output_type": "stream",
     "text": [
      "The statement is a consequence of the axioms.\n"
     ]
    }
   ],
   "source": [
    "if S.check() == unsat:\n",
    "    print(\"The statement is a consequence of the axioms.\")\n",
    "else:\n",
    "    print(\"Z3 was not able to prove the statement from the axioms.\")"
   ]
  },
  {
   "cell_type": "code",
   "execution_count": null,
   "id": "f0c3b61d",
   "metadata": {},
   "outputs": [],
   "source": []
  }
 ],
 "metadata": {
  "kernelspec": {
   "display_name": "Python 3 (ipykernel)",
   "language": "python",
   "name": "python3"
  },
  "language_info": {
   "codemirror_mode": {
    "name": "ipython",
    "version": 3
   },
   "file_extension": ".py",
   "mimetype": "text/x-python",
   "name": "python",
   "nbconvert_exporter": "python",
   "pygments_lexer": "ipython3",
   "version": "3.12.8"
  }
 },
 "nbformat": 4,
 "nbformat_minor": 5
}
