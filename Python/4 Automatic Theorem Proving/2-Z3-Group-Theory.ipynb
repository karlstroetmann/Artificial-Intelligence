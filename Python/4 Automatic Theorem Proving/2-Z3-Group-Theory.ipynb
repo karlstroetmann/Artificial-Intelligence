{
 "cells": [
  {
   "cell_type": "code",
   "execution_count": null,
   "id": "b0de9582",
   "metadata": {},
   "outputs": [],
   "source": [
    "from IPython.display import HTML\n",
    "HTML(open('../style.css').read())"
   ]
  },
  {
   "cell_type": "code",
   "execution_count": null,
   "id": "f34663b0",
   "metadata": {},
   "outputs": [],
   "source": [
    "from z3 import *"
   ]
  },
  {
   "cell_type": "markdown",
   "id": "a9a28ed9",
   "metadata": {},
   "source": [
    "We have to declare the sort `Group` in order to define the functions `mul`, `inv`and `one`."
   ]
  },
  {
   "cell_type": "code",
   "execution_count": null,
   "id": "104014c6",
   "metadata": {},
   "outputs": [],
   "source": [
    "Group = DeclareSort('Group')"
   ]
  },
  {
   "cell_type": "markdown",
   "id": "03b0bb28",
   "metadata": {},
   "source": [
    "`Z3` does not allow us to use operators like `*`.  Instead, we have to define the function `mul`. "
   ]
  },
  {
   "cell_type": "code",
   "execution_count": null,
   "id": "4a8ca80b",
   "metadata": {},
   "outputs": [],
   "source": [
    "mul = Function('mul', Group, Group, Group)\n",
    "inv = Function('inv', Group, Group)\n",
    "one = Const('one', Group)"
   ]
  },
  {
   "cell_type": "markdown",
   "id": "1df8056d",
   "metadata": {},
   "source": [
    "`x`, `y`, and `z` are declared as constants.  Effectively, these are variables."
   ]
  },
  {
   "cell_type": "code",
   "execution_count": null,
   "id": "e559a76d",
   "metadata": {},
   "outputs": [],
   "source": [
    "x, y, z = Consts('x y z', Group)"
   ]
  },
  {
   "cell_type": "markdown",
   "id": "88da82fb",
   "metadata": {},
   "source": [
    "Below, we define the three axioms of group theory."
   ]
  },
  {
   "cell_type": "code",
   "execution_count": null,
   "id": "3f52929d",
   "metadata": {},
   "outputs": [],
   "source": [
    "axioms = [\n",
    "    ForAll([x], mul(one, x) == x),\n",
    "    ForAll([x], mul(x, one) == x),\n",
    "    ForAll([x], mul(inv(x), x) == one),\n",
    "    ForAll([x], mul(x, inv(x)) == one),\n",
    "    ForAll([x, y, z], mul(mul(x, y), z) == mul(x, mul(y, z)))\n",
    "]"
   ]
  },
  {
   "cell_type": "markdown",
   "id": "f0d56c7f",
   "metadata": {},
   "source": [
    "Our goal is to prove that `inv(mul(x, y)) == mul(inv(y), inv(x))`. "
   ]
  },
  {
   "cell_type": "code",
   "execution_count": null,
   "id": "a8255666",
   "metadata": {},
   "outputs": [],
   "source": [
    "goal = ForAll([x, y], inv(mul(x, y)) == mul(inv(y), inv(x)))"
   ]
  },
  {
   "cell_type": "code",
   "execution_count": null,
   "id": "e1b2c6a7",
   "metadata": {},
   "outputs": [],
   "source": [
    "S = Solver()"
   ]
  },
  {
   "cell_type": "markdown",
   "id": "7a87b01e",
   "metadata": {},
   "source": [
    "The proof is indirect.  We assume the axioms and the negation of our goal."
   ]
  },
  {
   "cell_type": "code",
   "execution_count": null,
   "id": "a7a31a37",
   "metadata": {},
   "outputs": [],
   "source": [
    "S.add(axioms + [Not(goal)])"
   ]
  },
  {
   "cell_type": "code",
   "execution_count": null,
   "id": "8021c84f",
   "metadata": {},
   "outputs": [],
   "source": [
    "if S.check() == unsat:\n",
    "    print(\"The statement is a consequence of the axioms.\")\n",
    "else:\n",
    "    print(\"Z3 was not able to prove the statement from the axioms.\")"
   ]
  },
  {
   "cell_type": "code",
   "execution_count": null,
   "id": "f0c3b61d",
   "metadata": {},
   "outputs": [],
   "source": []
  }
 ],
 "metadata": {
  "kernelspec": {
   "display_name": "Python 3 (ipykernel)",
   "language": "python",
   "name": "python3"
  },
  "language_info": {
   "codemirror_mode": {
    "name": "ipython",
    "version": 3
   },
   "file_extension": ".py",
   "mimetype": "text/x-python",
   "name": "python",
   "nbconvert_exporter": "python",
   "pygments_lexer": "ipython3",
   "version": "3.12.2"
  }
 },
 "nbformat": 4,
 "nbformat_minor": 5
}
