{
 "cells": [
  {
   "cell_type": "code",
   "execution_count": null,
   "metadata": {},
   "outputs": [],
   "source": [
    "from IPython.display import HTML\n",
    "HTML(open ('../style.css', 'r').read())"
   ]
  },
  {
   "cell_type": "markdown",
   "metadata": {},
   "source": [
    "# The Knuth-Bendix Completion Algorithm"
   ]
  },
  {
   "cell_type": "markdown",
   "metadata": {},
   "source": [
    "This notebook presents the [Knuth-Bendix completion algorithm](https://en.wikipedia.org/wiki/Knuth%E2%80%93Bendix_completion_algorithm) for transforming a set of equations into a *confluent* term rewriting system.  This notebook is divided into eight sections.\n",
    "- [Parsing](#Parsing)\n",
    "- [Matching](#Matching)\n",
    "- [Term Rewriting](#Term-Rewriting)\n",
    "- [Unification](#Unification)\n",
    "- [Knuth-Bendix Ordering](#The-Knuth-Bendix-Ordering)\n",
    "- [Critical Pairs](#Critical-Pairs)\n",
    "- [The Completion Algorithm](#The-Completion-Algorithm)\n",
    "- [Examples](#Examples)"
   ]
  },
  {
   "cell_type": "markdown",
   "metadata": {},
   "source": [
    "## Parsing"
   ]
  },
  {
   "cell_type": "markdown",
   "metadata": {},
   "source": [
    "To begin, we need a parser that is capable of parsing terms and equations. This parser is implemented in the notebook `Parser.ipynb` and can parse equations of terms that use the binary operators `+`, `-`, `*`, `/`, `\\`, `%`, and `^`.  The precedences of these operators are as follows:\n",
    "1. `+` and `-` have the precedence $1$, which is the lowest precedence.\n",
    "   Furthermore, they are *left-associative*.\n",
    "2. `*`, `/`, `\\`, `%` have the precedence $2$ and are also *left associative*.\n",
    "3. `^` has the precedence $3$ and is *right associative*.\n",
    "\n",
    "Furthermore, *function symbols* and *variables* are supported. Every string consisting of letters, digits, and underscores that does start with a letter is considered a function symbol if it is followed by an opening parenthesis.  Otherwise, it is taken to be a variable. Terms are defined inductively:\n",
    "- Every variable is a term.\n",
    "- If $f$ is a function symbol and $t_1$, $\\cdots$, $t_n$ are terms, then $f(t_1,\\cdots,t_n)$ is a term.\n",
    "- If $s$ and $t$ are terms and $o$ is an operator, then $s\\; o\\; t$ is a term.  \n",
    "\n",
    "The notebook `Parser.ipynb` also provides the function `to_str` for turning terms or equations into strings.  All together, the notebook provides the following functions:\n",
    "- `parse_file(file_name)` parses a file containing equations between terms.\n",
    "  It returns a list of the equations that have been parsed.\n",
    "- `parse_equation(s)` converts the string `s` into an equation.\n",
    "- `parse_term(s)` converts the string `s` into a term.\n",
    "- `to_str(o)` converts an object `o` into a string.  The object `o` either is\n",
    "  * a term,\n",
    "  * an equation,\n",
    "  * a list of equations,\n",
    "  * a set of equations, or\n",
    "  * a dictionary representing a *substitution*.\n",
    "\n",
    "Terms and equations are represented as *nested tuples*.  These are defined recursively:\n",
    "- a string is a *nested tuple*,\n",
    "- a tuple `t` is a *nested tuple* iff `t[0]` is a string and for all \n",
    "  $i \\in \\{1,\\cdots,\\texttt{len}(t)-1\\}$ we have that `t[i]` is a nested tuple.\n",
    "  \n",
    "The parser is implemented using the parser generator [Ply](https://www.dabeaz.com/ply/ply.html)."
   ]
  },
  {
   "cell_type": "code",
   "execution_count": null,
   "metadata": {},
   "outputs": [],
   "source": [
    "%run Parser.ipynb"
   ]
  },
  {
   "cell_type": "code",
   "execution_count": null,
   "metadata": {},
   "outputs": [],
   "source": [
    "!cat Examples/quasigroups.eqn || type Examples\\quasigroups.eqn"
   ]
  },
  {
   "cell_type": "code",
   "execution_count": null,
   "metadata": {},
   "outputs": [],
   "source": [
    "def test():\n",
    "    t = parse_term('x * y * z')\n",
    "    print(t)\n",
    "    print(to_str(t))\n",
    "    eq = parse_equation('i(x) * x = 1')\n",
    "    print(eq)\n",
    "    print(to_str(parse_file('Examples/quasigroups.eqn')))\n",
    "    \n",
    "test()"
   ]
  },
  {
   "cell_type": "markdown",
   "metadata": {},
   "source": [
    "[Back to top](#The-Knuth-Bendix-Completion-Algorithm)"
   ]
  },
  {
   "cell_type": "markdown",
   "metadata": {},
   "source": [
    "## Matching"
   ]
  },
  {
   "cell_type": "markdown",
   "metadata": {},
   "source": [
    "The *substitution* $\\sigma$ maps variables to terms.  It is represented as a dictionary.  If $t$ is a term and $\\sigma$ is the substitution \n",
    "$$ \\sigma = \\{ x_1: s_1, \\cdots, x_n:s_n \\}, $$\n",
    "then *applying* the substitution $\\sigma$ to the term $t$ replaces the variables $x_i$ with the terms $s_i$.  The application of $\\sigma$ to $t$ is written as $t\\sigma$ and is defined by induction on $t$:\n",
    "- $x_i\\sigma := s_i$,\n",
    "- $v\\sigma := v$ if $v$ is a variable and $v \\not\\in \\{x_1,\\cdots,x_n\\}$,\n",
    "- $f(t_1,\\cdots,t_n)\\sigma := f(t_1\\sigma, \\cdots, t_n\\sigma)$.\n",
    "  \n",
    "A term $p$ *matches* a term $t$ iff there exists a substitution $\\sigma$ such that $p\\sigma = t$. "
   ]
  },
  {
   "cell_type": "markdown",
   "metadata": {},
   "source": [
    "The function `is_var(t)` checks whether the term `t` is interpreted a variable. Variables are represented as nested tuples of the form `($var, name)`, where `name` is the name of the variable."
   ]
  },
  {
   "cell_type": "code",
   "execution_count": null,
   "metadata": {},
   "outputs": [],
   "source": [
    "def is_var(t):\n",
    "    return t[0] == '$var'"
   ]
  },
  {
   "cell_type": "markdown",
   "metadata": {},
   "source": [
    "Given a string `x`, the function `make_var(x)` creates a variable with name `x`."
   ]
  },
  {
   "cell_type": "code",
   "execution_count": null,
   "metadata": {},
   "outputs": [],
   "source": [
    "def make_var(x):\n",
    "    return ('$var', x)"
   ]
  },
  {
   "cell_type": "markdown",
   "metadata": {},
   "source": [
    "Given a term `p`, a term `t`,  and a substitution `σ`, the function `match_pattern(p, t, σ)` tries to extend the\n",
    "substitution `σ` so that the equation\n",
    "$$ p \\sigma = t $$\n",
    "is satisfied.  If this is possible, the function returns `True` and updates the substitution `σ` so that\n",
    "$p \\sigma = t$ holds.  Otherwise, the function returns `False`."
   ]
  },
  {
   "cell_type": "code",
   "execution_count": null,
   "metadata": {},
   "outputs": [],
   "source": [
    "def match_pattern(pattern, term, σ):\n",
    "    match pattern:\n",
    "        case '$var', var:\n",
    "            if var in σ:\n",
    "                return σ[var] == term\n",
    "            else:\n",
    "                σ[var] = term           # extend σ\n",
    "                return True\n",
    "        case _:\n",
    "            if pattern[0] == term[0] and len(pattern) == len(term):\n",
    "                return all(match_pattern(pattern[i], term[i], σ) for i in range(1, len(pattern)))\n",
    "            else:\n",
    "                return False"
   ]
  },
  {
   "cell_type": "code",
   "execution_count": null,
   "metadata": {},
   "outputs": [],
   "source": [
    "def test():\n",
    "    p = parse_term('i(x) * z')\n",
    "    t = parse_term('i(i(y)) * i(y)')\n",
    "    σ = {}\n",
    "    match_pattern(p, t, σ)\n",
    "    print(to_str(σ))\n",
    "    \n",
    "test()"
   ]
  },
  {
   "cell_type": "markdown",
   "metadata": {},
   "source": [
    "Given a term `t`, the function `find_variables(t)` computes the set of all variables occurring in `t`.  If, instead, $t$ is a list of terms or a set of terms, then `find_variables(t)` computes the set of those variables that occur in any of the terms of $t$."
   ]
  },
  {
   "cell_type": "code",
   "execution_count": null,
   "metadata": {},
   "outputs": [],
   "source": [
    "def find_variables(t):\n",
    "    if isinstance(t, set) or isinstance(t, list):\n",
    "        return { var for term in t\n",
    "                     for var  in find_variables(term)\n",
    "               }\n",
    "    if is_var(t):\n",
    "        _, var = t\n",
    "        return { var }\n",
    "    _, *L = t\n",
    "    return find_variables(L)"
   ]
  },
  {
   "cell_type": "code",
   "execution_count": null,
   "metadata": {},
   "outputs": [],
   "source": [
    "def test():\n",
    "    eq = parse_equation('(x * y) * z = x * (y * z)')\n",
    "    print(find_variables(eq))\n",
    "    \n",
    "test()"
   ]
  },
  {
   "cell_type": "markdown",
   "metadata": {},
   "source": [
    "Given a term `t` and a substitution `σ` that is represented as a dictionary of the form\n",
    "$$ \\sigma = \\{ x_1: s_1, \\cdots, x_n:s_n \\}, $$\n",
    "the function `apply(t, σ)` computes the term that results from replacing the variables $x_i$ with the terms $s_i$ in `t` for all $i=1,\\cdots,n$.  This term is written as $t\\sigma$ and if $\\sigma = \\{ x_1: s_1, \\cdots, x_n:s_n \\}$, then $t\\sigma$ is defined by induction on `t` as follows:\n",
    "- $x_i\\sigma := s_i$,\n",
    "- $v\\sigma := v$ if $v$ is a variable and $v \\not\\in \\{x_1,\\cdots,x_n\\}$,\n",
    "- $f(t_1,\\cdots,t_m)\\sigma := f(t_1\\sigma, \\cdots, t_m\\sigma)$."
   ]
  },
  {
   "cell_type": "code",
   "execution_count": null,
   "metadata": {},
   "outputs": [],
   "source": [
    "def apply(t, σ):\n",
    "    \"Apply the substitution σ to the term t.\"\n",
    "    if is_var(t):\n",
    "        _, var = t\n",
    "        if var in σ:\n",
    "            return σ[var]\n",
    "        else:\n",
    "            return t\n",
    "    else: \n",
    "        f, *Ts = t\n",
    "        return (f,) + tuple(apply(s, σ) for s in Ts)"
   ]
  },
  {
   "cell_type": "code",
   "execution_count": null,
   "metadata": {},
   "outputs": [],
   "source": [
    "def test():\n",
    "    p = parse_term('i(x) * x')\n",
    "    t = parse_term('i(i(y)) * i(y)')\n",
    "    σ = {}\n",
    "    match_pattern(p, t, σ)\n",
    "    print(f'apply({to_str(p)}, {to_str(σ)}) = {to_str(apply(p, σ))}')\n",
    "\n",
    "test()"
   ]
  },
  {
   "cell_type": "markdown",
   "metadata": {},
   "source": [
    "Given a set of terms or equations `Ts` and a substitution `σ`, the function `apply_set(Ts, σ)` applies the substitution `σ` to all elements in `Ts`."
   ]
  },
  {
   "cell_type": "code",
   "execution_count": null,
   "metadata": {},
   "outputs": [],
   "source": [
    "def apply_set(Ts, σ):\n",
    "    return { apply(t, σ) for t in Ts }"
   ]
  },
  {
   "cell_type": "markdown",
   "metadata": {},
   "source": [
    "If  $\\sigma = \\big\\{ x_1 \\mapsto s_1, \\cdots, x_m \\mapsto s_m \\big\\}$ and\n",
    "$\\tau = \\big\\{ y_1 \\mapsto t_1, \\cdots, y_n \\mapsto t_n \\big\\}$ \n",
    "are two substitutions that are *non-overlapping*, i.e. such that $\\{x_1,\\cdots, x_m\\} \\cap \\{y_1,\\cdots,y_n\\} = \\{\\}$ holds,\n",
    "then we define the *composition* $\\sigma\\tau$ of $\\sigma$ and $\\tau$ as follows:\n",
    "$$\\sigma\\tau := \\big\\{ x_1 \\mapsto s_1\\tau, \\cdots, x_m \\mapsto s_m\\tau,\\; y_1 \\mapsto t_1, \\cdots, y_n \\mapsto t_n \\big\\}$$\n",
    "This definition implies that the following *associative law* is valid:\n",
    "$$ s(\\sigma\\tau) = (s\\sigma)\\tau $$\n",
    "The function $\\texttt{compose}(\\sigma, \\tau)$ takes two non-overlapping substitutions and computes their *composition* $\\sigma\\tau$."
   ]
  },
  {
   "cell_type": "code",
   "execution_count": null,
   "metadata": {},
   "outputs": [],
   "source": [
    "def compose(σ, τ):\n",
    "    Result = { x: apply(s, τ) for (x, s) in σ.items() }\n",
    "    Result.update(τ)\n",
    "    return Result"
   ]
  },
  {
   "cell_type": "code",
   "execution_count": null,
   "metadata": {},
   "outputs": [],
   "source": [
    "def test():\n",
    "    t1 = parse_term('i(y)')\n",
    "    t2 = parse_term('a * b')\n",
    "    t3 = parse_term('i(b)')\n",
    "    σ = { 'x': t1 }\n",
    "    τ = { 'y': t2, 'z': t3  }\n",
    "    print(f'compose({to_str(σ)}, {to_str(τ)}) = {to_str(compose(σ, τ))}')\n",
    "    \n",
    "test()"
   ]
  },
  {
   "cell_type": "markdown",
   "metadata": {},
   "source": [
    "[Back to top](#The-Knuth-Bendix-Completion-Algorithm)"
   ]
  },
  {
   "cell_type": "markdown",
   "metadata": {},
   "source": [
    "## Term Rewriting"
   ]
  },
  {
   "cell_type": "code",
   "execution_count": null,
   "metadata": {},
   "outputs": [],
   "source": [
    "from string import ascii_lowercase\n",
    "ascii_lowercase"
   ]
  },
  {
   "cell_type": "markdown",
   "metadata": {},
   "source": [
    "Given a term `s` and a set of variables `V`, the function `rename_variables(s, V)` renames the variables in `s` so that they differ from the variables in the set `V`.  This will only work if the number of variables occurring in `V` times two is less than the number of letters in the latin alphabet, i.e. less than 26.  Therefore, the set `V` must have at most 13 variables.  For our examples, this is not a restriction."
   ]
  },
  {
   "cell_type": "code",
   "execution_count": null,
   "metadata": {},
   "outputs": [],
   "source": [
    "def rename_variables(s, Vars):\n",
    "    assert len(Vars) <= 13, f'Error: too many variables in {Vars}.'\n",
    "    NewVars = set(ascii_lowercase) - Vars\n",
    "    NewVars = sorted(list(NewVars))\n",
    "    σ       = { x: make_var(NewVars[i]) for (i, x) in enumerate(Vars) }\n",
    "    return apply(s, σ)"
   ]
  },
  {
   "cell_type": "code",
   "execution_count": null,
   "metadata": {
    "scrolled": true
   },
   "outputs": [],
   "source": [
    "def test():\n",
    "    t = parse_equation('x * y * z = x * (y * z)')\n",
    "    V = find_variables(t)\n",
    "    print(f'rename_variables({to_str(t)}, {V}) = {to_str(rename_variables(t, V))}')\n",
    "    \n",
    "test()"
   ]
  },
  {
   "cell_type": "markdown",
   "metadata": {},
   "source": [
    "The function `simplify_step(t, E)` takes two arguments:\n",
    "- `t` is a term,\n",
    "- `E` is a set of equations of the form `('=', l, r)`.\n",
    "\n",
    "The function tries to find an equation `l = r` in `E` and a subterm `s` in the term `t` such that the left hand side `l` of the equation matches the subterm `s` using some substitution $\\sigma$, i.e. we have $s = l\\sigma$.  Then the term `t` is simplified by replacing the subterm `s` in `t` by $r\\sigma$.  More formally, if `u` is the position of `s` in `t`, i.e. `t/u = s` then `t` is simplified into the term \n",
    "$$ t = t[u \\mapsto l\\sigma] \\rightarrow_{\\{l=r\\}} t[u \\mapsto r\\sigma]. $$\n",
    "If an appropriate subterm `s` is found, the simplified term is returned.  Otherwise, the function returns `None`.  \n",
    "\n",
    "If multiple subterms of `t` can simplified, then the function `simplify_step(t, E)` simplifies all subterms."
   ]
  },
  {
   "cell_type": "code",
   "execution_count": null,
   "metadata": {},
   "outputs": [],
   "source": [
    "def simplify_step(t, Equations):\n",
    "    if is_var(t):\n",
    "        return None      # variables can't be simplified\n",
    "    for eq in Equations:\n",
    "        _, lhs, rhs = eq\n",
    "        σ = {}\n",
    "        if match_pattern(lhs, t, σ):\n",
    "            return apply(rhs, σ)\n",
    "    f, *args   = t\n",
    "    simpleArgs = []\n",
    "    change     = False\n",
    "    for arg in args:\n",
    "        simple = simplify_step(arg, Equations)\n",
    "        if simple != None:\n",
    "            simpleArgs += [simple]\n",
    "            change = True\n",
    "        else:\n",
    "            simpleArgs += [arg]\n",
    "    if change:\n",
    "        return (f,) + tuple(simpleArgs)\n",
    "    return None"
   ]
  },
  {
   "cell_type": "code",
   "execution_count": null,
   "metadata": {},
   "outputs": [],
   "source": [
    "def test():\n",
    "    E = { parse_equation('(x * y) * z = x * (y * z)') }\n",
    "    t = parse_term('(a * b) * i(b)')\n",
    "    print(f'simplify_step({to_str(t)}, {to_str(E)}) = {to_str(simplify_step(t, E))}')\n",
    "    \n",
    "test()"
   ]
  },
  {
   "cell_type": "markdown",
   "metadata": {},
   "source": [
    "The function `normal_form(t, E)` takes a term `t` and a list (or set) of equations `E` and tries to simplify the term `t` as much as possible using the equations from `E`.  \n",
    "\n",
    "In the implementation, we have to be careful to rename the variables occurring in `E` so that they are different from the variables occurring in `t`.  **Furthermore, we have to take care that we don't identify different variables in `E` by accident.**  Therefore, we rename the variables in `E` so that they are both different from the variables in `t` and from the old variables occurring in `E`."
   ]
  },
  {
   "cell_type": "code",
   "execution_count": null,
   "metadata": {},
   "outputs": [],
   "source": [
    "def normal_form(t, E):\n",
    "    Vars = find_variables(t) | find_variables(E)\n",
    "    NewE = []\n",
    "    for eq in E:\n",
    "        NewE += [ rename_variables(eq, Vars) ]   \n",
    "    while True:\n",
    "        s = simplify_step(t, NewE)\n",
    "        if s == None:\n",
    "            return t\n",
    "        t = s"
   ]
  },
  {
   "cell_type": "code",
   "execution_count": null,
   "metadata": {},
   "outputs": [],
   "source": [
    "!cat Examples/group-theory-1.eqn || type Examples\\group-theory-1.eqn"
   ]
  },
  {
   "cell_type": "code",
   "execution_count": null,
   "metadata": {},
   "outputs": [],
   "source": [
    "def test():\n",
    "    E  = parse_file('Examples/group-theory-1.eqn')\n",
    "    t  = parse_term('1 * (b * i(a)) * a')\n",
    "    print(f'E = {to_str(E)}')\n",
    "    print(f'normal_form({to_str(t)}, E) = {to_str(normal_form(t, E))}')\n",
    "    \n",
    "test()"
   ]
  },
  {
   "cell_type": "markdown",
   "metadata": {},
   "source": [
    "[Back to top](#The-Knuth-Bendix-Completion-Algorithm)"
   ]
  },
  {
   "cell_type": "markdown",
   "metadata": {},
   "source": [
    "## Unification\n",
    "\n",
    "In this section, we implement the [unification](https://en.wikipedia.org/wiki/Unification_(computer_science)) algorithm of Martelli and Montanari."
   ]
  },
  {
   "cell_type": "markdown",
   "metadata": {},
   "source": [
    "Given a variable name `x` and a term `t`, the function `occurs(x, t)` checks whether `x` occurs in `t`."
   ]
  },
  {
   "cell_type": "code",
   "execution_count": null,
   "metadata": {},
   "outputs": [],
   "source": [
    "def occurs(x, t):\n",
    "    if is_var(t):\n",
    "        _, var = t\n",
    "        return x == var\n",
    "    return any(occurs(x, arg) for arg in t[1:])"
   ]
  },
  {
   "cell_type": "markdown",
   "metadata": {},
   "source": [
    "The algorithm implemented below takes a pair `(E, σ)` as its input.  Here `E` is a set of *syntactical equations* that need to be solved and `σ` is a substitution that is initially empty.  The pair `(E, σ)` is then transformed using the rules of *Martelli and Montanari*.  The transformation is successful if the pair `(E, σ)` can be transformed into a pair of the form `({}, μ)`.  Then `μ` is the *solution* to the system of equations `E` and hence `μ` is a *most general unifier* of `E`.\n",
    "\n",
    "The rules that can be used to solve a system of *syntactical equations* are as follows:\n",
    "   - If $y\\in\\mathcal{V}$ is a variable that does **not** occur in the term $t$,\n",
    "     then we perform the following reduction: \n",
    "     $$ \\Big\\langle E \\cup \\big\\{ y \\doteq t \\big\\}, \\sigma \\Big\\rangle \\quad\\leadsto \\quad \n",
    "         \\Big\\langle E[y \\mapsto t], \\sigma\\big[ y \\mapsto t \\big] \\Big\\rangle \n",
    "     $$     \n",
    "   - If the variable $y$ occurs in the term $t$ and $y$ is different from $t$, then the system of \n",
    "     syntactical equations\n",
    "     $E \\cup \\big\\{ y \\doteq t \\big\\}$ is not solvable:\n",
    "     $$ \\Big\\langle E \\cup \\big\\{ y \\doteq t \\big\\}, \\sigma \\Big\\rangle\\;\\leadsto\\; \\texttt{None} \\quad\n",
    "        \\mbox{if $y \\in \\textrm{Var}(t)$ and $y \\not=t$.}$$\n",
    "   - If $y\\in\\mathcal{V}$ is a variable and $t$ is no variable, then we use the following rule:\n",
    "     $$ \\Big\\langle E \\cup \\big\\{ t \\doteq y \\big\\}, \\sigma \\Big\\rangle \\quad\\leadsto \\quad \n",
    "         \\Big\\langle E \\cup \\big\\{ y \\doteq t \\big\\}, \\sigma \\Big\\rangle.\n",
    "     $$   \n",
    "   - Trivial syntactical equations of variables can be dropped:\n",
    "     $$ \\Big\\langle E \\cup \\big\\{ x \\doteq x \\big\\}, \\sigma \\Big\\rangle \\quad\\leadsto \\quad\n",
    "         \\Big\\langle E, \\sigma \\Big\\rangle.\n",
    "     $$   \n",
    "   - If $f$ is an $n$-ary function symbol, then we have: \n",
    "     $$ \\Big\\langle E \\cup \\big\\{ f(s_1,\\cdots,s_n) \\doteq f(t_1,\\cdots,t_n) \\big\\}, \\sigma \\Big\\rangle \n",
    "         \\;\\leadsto\\; \n",
    "         \\Big\\langle E \\cup \\big\\{ s_1 \\doteq t_1, \\cdots, s_n \\doteq t_n\\}, \\sigma \\Big\\rangle.\n",
    "     $$   \n",
    "   - The system of syntactical equations $E \\cup \\big\\{ f(s_1,\\cdots,s_m) \\doteq g(t_1,\\cdots,t_n) \\big\\}$\n",
    "     has **no** solution if the function symbols $f$ and $g$ are different:\n",
    "     $$ \\Big\\langle E \\cup \\big\\{ f(s_1,\\cdots,s_m) \\doteq g(t_1,\\cdots,t_n) \\big\\},\n",
    "      \\sigma \\Big\\rangle \\;\\leadsto\\; \\texttt{None} \\qquad \\mbox{if $f \\not= g$}.\n",
    "     $$"
   ]
  },
  {
   "cell_type": "markdown",
   "metadata": {},
   "source": [
    "Given two terms $s$ and $t$, the function $\\texttt{unify}(s, t)$ computes the <em style=\"color:blue;\">most general unifier</em> of $s$ and $t$."
   ]
  },
  {
   "cell_type": "code",
   "execution_count": null,
   "metadata": {},
   "outputs": [],
   "source": [
    "def unify(s, t):\n",
    "    return solve({('≐', s, t)}, {})"
   ]
  },
  {
   "cell_type": "markdown",
   "metadata": {},
   "source": [
    "Given a set of <em style=\"color:blue;\">syntactical equations</em> $E$ and a substitution $\\sigma$, the function $\\texttt{solve}(E, \\sigma)$ applies the rules of Martelli and Montanari to solve $E$."
   ]
  },
  {
   "cell_type": "code",
   "execution_count": null,
   "metadata": {},
   "outputs": [],
   "source": [
    "def solve(E, σ):\n",
    "    while E != set():\n",
    "        _, s, t = E.pop()\n",
    "        if s == t: # remove trivial equations\n",
    "            continue\n",
    "        if is_var(s):\n",
    "            _, x = s\n",
    "            if occurs(x, t):\n",
    "                return None\n",
    "            else: # set x to t\n",
    "                E = apply_set(E, { x: t })\n",
    "                σ = compose(σ, { x: t })\n",
    "        elif is_var(t):\n",
    "            E.add(('≐', t, s))\n",
    "        else:\n",
    "            f    , g     = s[0]      , t[0]\n",
    "            sArgs, tArgs = s[1:]     , t[1:]\n",
    "            m    , n     = len(sArgs), len(tArgs)\n",
    "            if f != g or m != n:\n",
    "                return None\n",
    "            else:\n",
    "                E |= { ('≐', sArgs[i], tArgs[i]) for i in range(m) }\n",
    "    return σ"
   ]
  },
  {
   "cell_type": "code",
   "execution_count": null,
   "metadata": {},
   "outputs": [],
   "source": [
    "def test():\n",
    "    s = parse_term('x * i(x) * (y * z)')\n",
    "    t = parse_term('a * i(1) * b')\n",
    "    print(f'unify({to_str(s)}, {to_str(t)}) = {to_str(unify(s, t))}')\n",
    "    \n",
    "test()"
   ]
  },
  {
   "cell_type": "markdown",
   "metadata": {},
   "source": [
    "[Back to top](#The-Knuth-Bendix-Completion-Algorithm)"
   ]
  },
  {
   "cell_type": "markdown",
   "metadata": {},
   "source": [
    "## The Knuth-Bendix Ordering\n",
    "\n",
    "In order to turn an equation $s = t$ into a rewrite rule, we have to check whether the term $s$ is *more complex* than the term $t$, so that $s$ should be simplified to $t$, or whether $t$ is *more complex* than $s$ and we should rewrite $t$ into $s$.  To this end, we implement the *Knuth-Bendix ordering*, which is a method to compare terms."
   ]
  },
  {
   "cell_type": "markdown",
   "metadata": {},
   "source": [
    "Given a term `t` and a variable name `x`, the function `count(t, x)` computes the number of times that `x` occurs in `t`."
   ]
  },
  {
   "cell_type": "code",
   "execution_count": null,
   "metadata": {},
   "outputs": [],
   "source": [
    "def count(t, x):\n",
    "    match t:\n",
    "        case '$var', y:\n",
    "            return 1 if x == y else 0\n",
    "        case _, *Ts:\n",
    "            return sum(count(arg, x) for arg in Ts)"
   ]
  },
  {
   "cell_type": "code",
   "execution_count": null,
   "metadata": {},
   "outputs": [],
   "source": [
    "def test():\n",
    "    t = parse_term('x * (i(x) * y)')\n",
    "    print(f'count({to_str(t)}, \"x\") = {count(t, \"x\")}')\n",
    "    \n",
    "test()"
   ]
  },
  {
   "cell_type": "markdown",
   "metadata": {},
   "source": [
    "In order to define the *Knuth-Bendix ordering* on terms, three prerequisites need to be satisfied:\n",
    "1. We need to assign a *weight* $w(f)$ to every function symbol $f$.  These weights are \n",
    "   natural numbers.  There must be at most one function symbol $g$ such that $w(g) = 0$.\n",
    "   Furthermore, if $w(g) = 0$, then $g$ has to be unary.\n",
    "   \n",
    "   We define the weights via the dictionary `Weight`, i.e. we have $w(f) = \\texttt{Weight}[f]$.\n",
    "2. We need to define a *strict order* $<$ on the set of function symbols.\n",
    "\n",
    "   This ordering is implemented via the dictionary `Ordering`.  We define\n",
    "   $$ f < g \\;\\stackrel{_\\textrm{def}}{\\Longleftrightarrow}\\; \\texttt{Ordering}[f] < \\texttt{Ordering}[f]. $$\n",
    "3. The order $<$ on the function symbols has to be *admissible* with respect to the weight function $w$, i.e. the following\n",
    "   condition needs to be satisfied:\n",
    "   $$ w(f) = 0 \\rightarrow \\forall g:  \\bigl(g \\not=f \\rightarrow g < f\\bigr). $$\n",
    "   To put this in words: If the function symbol $f$ has a weight of $0$, then \n",
    "   all other function symbols $g$ have to be smaller than $f$ w.r.t. the strict order $<$.\n",
    "   Note that this implies that there can be at most    one function symbol with $f$ such that $w(f) = 0$. \n",
    "   This function symbol $f$ is then the maximum w.r.t. the order $<$.\n",
    "   \n",
    "   Below, for efficiency reasons, the function `max_fct` returns the function symbol $f$ that is maximal w.r.t. the strict order $<$."
   ]
  },
  {
   "cell_type": "code",
   "execution_count": null,
   "metadata": {},
   "outputs": [],
   "source": [
    "WEIGHT   = { '1': 1, '*': 1, '/': 1, '\\\\': 1, 'i': 0 }\n",
    "ORDERING = { '1': 0, '*': 1, '/': 2, '\\\\': 3, 'i': 5 }\n",
    "max_fct  = lambda: 'i' "
   ]
  },
  {
   "cell_type": "markdown",
   "metadata": {},
   "source": [
    "Given a term `t` the function `weight(t)` computes the *weight* $w(t)$, where $w(t)$ is defined by induction on $t$:\n",
    "- $w(x) := 1$ for all variables $x$,\n",
    "- $w\\bigl(f(t_1,\\cdots,t_n)\\bigr) := \\texttt{Weight}[f] + \\sum\\limits_{i=1}^n w(t_i)$."
   ]
  },
  {
   "cell_type": "code",
   "execution_count": null,
   "metadata": {},
   "outputs": [],
   "source": [
    "def weight(t):\n",
    "    match t:\n",
    "        case '$var', _:\n",
    "            return 1\n",
    "        case f, *Ts:\n",
    "            return WEIGHT[f] + sum(weight(arg) for arg in Ts)"
   ]
  },
  {
   "cell_type": "code",
   "execution_count": null,
   "metadata": {},
   "outputs": [],
   "source": [
    "def test():\n",
    "    t = parse_term('x * (i(x) * 1)')\n",
    "    print(f'weight({to_str(t)}) = {weight(t)}')\n",
    "    \n",
    "test()    "
   ]
  },
  {
   "cell_type": "markdown",
   "metadata": {},
   "source": [
    "Given a term `s` and a term `t`, the function `is_tower(s, t)` returns `True` iff the following is true:\n",
    "$$ \\exists n\\in\\mathbb{N}:\\bigl( n > 0 \\wedge t = f^{n}(s) \\wedge f = \\texttt{max_fct}()\\bigr). $$  \n",
    "Here the expression $f^n(s)$ is the $n$-fold application of $f$ to $s$, e.g. we have $f^1(s) = f(s)$, $f^2(s) = f(f(s))$, and in general $f^{n+1}(s) = f\\bigl(f^{n}(s)\\bigr)$."
   ]
  },
  {
   "cell_type": "code",
   "execution_count": null,
   "metadata": {},
   "outputs": [],
   "source": [
    "def is_tower(s, t):\n",
    "    if len(t) != 2:   # f is not unary\n",
    "        return False\n",
    "    f, t1 = t\n",
    "    if f != max_fct():\n",
    "        return False\n",
    "    if t1 == s:\n",
    "        return True\n",
    "    return is_tower(s, t1)"
   ]
  },
  {
   "cell_type": "code",
   "execution_count": null,
   "metadata": {},
   "outputs": [],
   "source": [
    "def test():\n",
    "    s = parse_term('i(a)')\n",
    "    t = parse_term('i(i(a))')\n",
    "    print(f'is_tower({to_str(s)}, {to_str(t)}) = {is_tower(s, t)}')\n",
    "    \n",
    "test()    "
   ]
  },
  {
   "cell_type": "markdown",
   "metadata": {},
   "source": [
    "The *Knuth-Bendix order* $s \\prec_{\\textrm{kbo}} t$ is defined for terms $s$ and $t$.  We have $s \\prec_{\\textrm{kbo}} t$ iff one of the following two conditions hold:\n",
    "1. $w(s) < w(t)$ and $\\texttt{count}(s, x) \\leq \\texttt{count}(t, x)$ for all variables $x$ occurring in $s$ .\n",
    "2. $w(s) = w(t)$, $\\texttt{count}(s, x) \\leq \\texttt{count}(t, x)$ for all variables $x$ occurring in $s$, and\n",
    "   one of the following subconditions holds:\n",
    "   * $t = f^n(s)$ where $n \\geq 1$ and $f$ is the maximum w.r.t. the order $<$ on function symbols,\n",
    "     i.e. we have $f = \\texttt{max_fct}()$.\n",
    "   * $s = f(s_1,\\cdots,s_m)$, $t=g(t_1,\\cdots,t_n)$, and $f<g$.\n",
    "   * $s = f(s_1,\\cdots,s_m)$, $t=f(t_1,\\cdots,t_m)$, and\n",
    "     $[s_1,\\cdots,s_m] \\prec_{\\textrm{lex}} [t_1,\\cdots,t_m]$.\n",
    "     \n",
    "     Here, $\\prec_{\\textrm{lex}}$ denotes the *lexicographic extension* of the ordering $\\prec_{\\textrm{kbo}}$ to\n",
    "     lists of terms.  It is defined as follows:\n",
    "     $$ [x] + R_1 \\prec_{\\textrm{lex}} [y] + R_2 \\;\\stackrel{_\\textrm{def}}{\\Longleftrightarrow}\\;\n",
    "      x \\prec_{\\textrm{kbo}} y \\,\\vee\\, \\bigl(x = y \\wedge R_1 \\prec_{\\textrm{lex}} R_2\\bigr)\n",
    "     $$"
   ]
  },
  {
   "cell_type": "markdown",
   "metadata": {},
   "source": [
    "Given two terms `s` and `t` the function `is_simpler(s, t)` returns `True` if $s \\prec_{\\textrm{kbo}} t$."
   ]
  },
  {
   "cell_type": "code",
   "execution_count": null,
   "metadata": {},
   "outputs": [],
   "source": [
    "def is_simpler(s, t):\n",
    "    if is_var(t):\n",
    "        return False\n",
    "    if is_var(s):\n",
    "        _, x = s\n",
    "        return occurs(x, t)\n",
    "    Vs = find_variables(s)\n",
    "    for x in Vs:\n",
    "        if count(t, x) < count(s, x):\n",
    "            return False\n",
    "    ws = weight(s)\n",
    "    wt = weight(t)\n",
    "    if ws < wt:\n",
    "        return True    \n",
    "    if ws > wt:\n",
    "        return False\n",
    "    # ws == wt\n",
    "    if is_tower(s, t):\n",
    "        return True\n",
    "    f, *Ss = s\n",
    "    g, *Ts = t\n",
    "    if ORDERING[f] < ORDERING[g]:\n",
    "        return True\n",
    "    if ORDERING[f] > ORDERING[g]:\n",
    "        return False\n",
    "    return is_simpler_list(Ss, Ts)"
   ]
  },
  {
   "cell_type": "markdown",
   "metadata": {},
   "source": [
    "Given two lists `S` and `T` of terms, the function `is_simpler_list(S, T)` checks whether `S` is lexicographically simpler than `T` if the elements of `S` and `T` are compared with the *Knuth-Bendix ordering* $\\prec_{\\textrm{kbo}}$.  It is assumed that `S` and `T` have the same length."
   ]
  },
  {
   "cell_type": "code",
   "execution_count": null,
   "metadata": {},
   "outputs": [],
   "source": [
    "def is_simpler_list(S, T):\n",
    "    if S == [] == T:\n",
    "        return False\n",
    "    if is_simpler(S[0], T[0]):\n",
    "        return True\n",
    "    if S[0] == T[0]:\n",
    "        return is_simpler_list(S[1:], T[1:])\n",
    "    return False"
   ]
  },
  {
   "cell_type": "code",
   "execution_count": null,
   "metadata": {},
   "outputs": [],
   "source": [
    "def test():\n",
    "    #l = parse_term('(x * y) * z')\n",
    "    #r = parse_term('x * (y * z)')\n",
    "    l = parse_term('i(a)')\n",
    "    r = parse_term('i(i(a))')\n",
    "    print(f'is_simpler({to_str(r)}, {to_str(l)}) = {is_simpler(r, l)}')\n",
    "    print(f'is_simpler({to_str(l)}, {to_str(r)}) = {is_simpler(l, r)}')\n",
    "    \n",
    "test()"
   ]
  },
  {
   "cell_type": "markdown",
   "metadata": {},
   "source": [
    "We define the class `OrderException` to be able to deal with equations that can't be ordered into a rewrite rule. "
   ]
  },
  {
   "cell_type": "code",
   "execution_count": null,
   "metadata": {},
   "outputs": [],
   "source": [
    "class OrderException(Exception):\n",
    "    pass"
   ]
  },
  {
   "cell_type": "markdown",
   "metadata": {},
   "source": [
    "Given an equation `eq` and an `Ordering` of the function symbols occurring `eq`, the function `order_equation` orders the equation `eq` with respect to the *Knuth-Bendix ordering*, i.e. in the ordered equation, the right hand side is simpler than the left hand side.  If the left hand side and the right hand side are incomparable, the function raises an `OrderException`."
   ]
  },
  {
   "cell_type": "code",
   "execution_count": null,
   "metadata": {},
   "outputs": [],
   "source": [
    "def order_equation(eq):\n",
    "    _, s, t = eq\n",
    "    if is_simpler(t, s):\n",
    "        return ('=', s, t)\n",
    "    elif is_simpler(s, t):\n",
    "        return ('=', t, s)\n",
    "    else:\n",
    "        Msg = f'Knuth-Bendix algorithm failed: Could not order {to_str(s)} = {to_str(t)}'\n",
    "        raise OrderException(Msg)"
   ]
  },
  {
   "cell_type": "code",
   "execution_count": null,
   "metadata": {},
   "outputs": [],
   "source": [
    "def test():\n",
    "    equation = 'i(i(a)) = i(i(i(i(a))))'\n",
    "    eq = parse_equation(equation)\n",
    "    print(f'order_equation({to_str(eq)}) = {to_str(order_equation(eq))}')\n",
    "\n",
    "test()"
   ]
  },
  {
   "cell_type": "markdown",
   "metadata": {},
   "source": [
    "[Back to top](#The-Knuth-Bendix-Completion-Algorithm)"
   ]
  },
  {
   "cell_type": "markdown",
   "metadata": {},
   "source": [
    "## Critical Pairs\n",
    "\n",
    "The central notion of the Knuth-Bendix algorithm is the notion of a *critical pair*.  \n",
    "\n",
    "Given two equations `lhs1 = rhs1` and `lhs2 = rhs2`, a pair of terms `(s, t)` is a critical pair of these equations if we have the following:\n",
    "- `u` is a non-trivial position in `lhs1`, i.e. `lhs1/u` is not a variable,\n",
    "- The subterm `lhs1/u` is unifiable with `lhs2`, i.e.\n",
    "  $$\\mu = \\texttt{mgu}(\\texttt{lhs}_1 / \\texttt{u}, \\texttt{lhs}_2) \\not= \\texttt{None},$$\n",
    "- $s = \\texttt{lhs}_1\\mu[\\texttt{u} \\mapsto \\texttt{rhs}_2\\mu]$ and $t = \\texttt{rhs}_1\\mu$. \n",
    "\n",
    "The idea is then that the term $\\texttt{lhs1}\\mu$ can be rewritten into different ways:\n",
    "- $\\texttt{lhs1}\\mu \\rightarrow \\texttt{rhs1}\\mu = t$,\n",
    "- $\\texttt{lhs1}\\mu \\rightarrow \\texttt{lhs}_1\\mu[\\texttt{u} \\mapsto \\texttt{rhs}_2\\mu] = s$.\n",
    "\n",
    "The function `critical_pairs` implemented in this section computes the critical pairs between two rewrite rules. "
   ]
  },
  {
   "cell_type": "markdown",
   "metadata": {},
   "source": [
    "Given a term `t`, the function `non_triv_positions` computes the set $\\mathcal{P}os(t)$ of all *positions* in `t` that do not point to variables.  Such positions are called *non-trivial positions*.  Given a term `t`, the set $\\mathcal{P}os(t)$ of all positions in $t$ is defined by induction on `t`. \n",
    "1. $\\mathcal{P}os(v) := \\bigl\\{()\\bigr\\} \\quad \\mbox{if $v$ is a variable} $\n",
    "2. $\\mathcal{P}os\\bigl(f(t_0,\\cdots,t_{n-1})\\bigr) := \n",
    "     \\bigl\\{()\\bigr\\} \\cup \n",
    "     \\bigl\\{ (i,) + u \\mid i \\in\\{0,\\cdots,n-1\\} \\wedge u \\in \\mathcal{P}os(t_i) \\bigr\\}\n",
    "   $\n",
    "   \n",
    "Note that since we are programming in Python, positions are zero-based.  Given a position $v$ in a term $t$, we define $t/v$ as the *subterm of $t$ at position $v$* by induction on $t$:\n",
    "1. $t/() := t$,\n",
    "2. $f(t_0,\\cdots,t_{n-1})/u := t_{u\\texttt{[0]}}/u\\texttt{[1:]}$.\n",
    "\n",
    "Given a term $s$, a term $t$, and a position $u \\in \\mathcal{P}os(t)$, we also define the *replacement of the subterm at position $u$ by $t$*, written $s[u \\mapsto t]$ by induction on $u$:\n",
    "1. $s\\bigl[() \\mapsto t\\bigr] := t$.\n",
    "2. $f(s_0,\\cdots,s_{n-1})\\bigl[\\bigl((i,) + u\\bigr) \\mapsto t\\bigr] := f\\bigl(s_0,\\cdots,s_i[u \\mapsto t],\\cdots,s_{n-1}\\bigr)$."
   ]
  },
  {
   "cell_type": "code",
   "execution_count": null,
   "metadata": {},
   "outputs": [],
   "source": [
    "def non_triv_positions(t):\n",
    "    if is_var(t):\n",
    "        return set()\n",
    "    _, *args = t\n",
    "    Result = { () }\n",
    "    for i, arg in enumerate(args):\n",
    "        Result |= { (i,) + a for a in non_triv_positions(arg) }\n",
    "    return Result"
   ]
  },
  {
   "cell_type": "code",
   "execution_count": null,
   "metadata": {},
   "outputs": [],
   "source": [
    "def test():\n",
    "    t = parse_term('x * i(x) * 1')\n",
    "    print(f'non_triv_positions({to_str(t)}) = {non_triv_positions(t)}')\n",
    "    \n",
    "test()"
   ]
  },
  {
   "cell_type": "markdown",
   "metadata": {},
   "source": [
    "Given a term `t` and a position `u` in `t`, the function `subterm(t, u)` extracts the subterm that is located at position `u`, i.e. it computes `t/u`. The position `u` is zero-based."
   ]
  },
  {
   "cell_type": "code",
   "execution_count": null,
   "metadata": {},
   "outputs": [],
   "source": [
    "def subterm(t, u):\n",
    "    if len(u) == 0:\n",
    "        return t\n",
    "    _, *args = t\n",
    "    i, *ur   = u\n",
    "    return subterm(args[i], ur)"
   ]
  },
  {
   "cell_type": "code",
   "execution_count": null,
   "metadata": {},
   "outputs": [],
   "source": [
    "def test():\n",
    "    t = parse_term('(x * i(x)) * 1')\n",
    "    print(f'subterm({to_str(t)}, (0,1)) = {to_str(subterm(t, (0,1)))}')\n",
    "    \n",
    "test()"
   ]
  },
  {
   "cell_type": "markdown",
   "metadata": {},
   "source": [
    "Given a term `t`, a position `u` in `t` and a term `s`, the function `replace_at(t, u, s)` replaces the subterm at position `u` with `t`.  The position `u` uses zero-based indexing.  Hence it returns the term\n",
    "$$ t[u \\mapsto s]. $$"
   ]
  },
  {
   "cell_type": "code",
   "execution_count": null,
   "metadata": {},
   "outputs": [],
   "source": [
    "def replace_at(t, u, s):\n",
    "    if len(u) == 0:\n",
    "        return s\n",
    "    i, *ur   = u\n",
    "    f, *Args = t\n",
    "    NewArgs  = []\n",
    "    for j, arg in enumerate(Args):\n",
    "        if j == i:\n",
    "            NewArgs.append(replace_at(arg, ur, s))\n",
    "        else:\n",
    "            NewArgs.append(arg)\n",
    "    return (f,) + tuple(NewArgs)"
   ]
  },
  {
   "cell_type": "code",
   "execution_count": null,
   "metadata": {},
   "outputs": [],
   "source": [
    "def test():\n",
    "    t = parse_term('(x * i(x)) * 1')\n",
    "    s = parse_term('a * b') \n",
    "    print(f'replace_at({to_str(t)}, (0,1), {to_str(s)}) = {to_str(replace_at(t, (0,1), s))}')\n",
    "\n",
    "test()"
   ]
  },
  {
   "cell_type": "markdown",
   "metadata": {},
   "source": [
    "Given two equations `eq1` and `eq2`, the function `critical_pairs(eq1, eq2)` computes the set of all *critical pairs* between these equations.  A pair of terms `(s, t)` is a critical pair of `eq1` and `eq2` if we have\n",
    "- `eq1` has the form `lhs1 = rhs1`,\n",
    "- `eq2` has the form `lhs2 = rhs2`,\n",
    "- `u` is a non-trivial position in `lhs1`,\n",
    "- $\\mu = \\texttt{mgu}(\\texttt{lhs}_1/u, \\texttt{lhs}_2) \\not= \\texttt{None}$,\n",
    "- $s = \\texttt{lhs}_1\\mu[u \\leftarrow \\texttt{rhs}_2\\mu]$ and $t = \\texttt{rhs}_1\\mu$. "
   ]
  },
  {
   "cell_type": "code",
   "execution_count": null,
   "metadata": {},
   "outputs": [],
   "source": [
    "def critical_pairs(eq1, eq2):\n",
    "    Vars = find_variables(eq1) | find_variables(eq2)\n",
    "    eq2  = rename_variables(eq2, Vars) \n",
    "    _, lhs1, rhs1 = eq1\n",
    "    _, lhs2, rhs2 = eq2\n",
    "    Result = set()\n",
    "    Positions = non_triv_positions(lhs1)\n",
    "    for u in Positions:\n",
    "        𝜇 = unify(subterm(lhs1, u), lhs2)\n",
    "        if 𝜇 != None:\n",
    "            lhs1_new = apply(replace_at(lhs1, u, rhs2), 𝜇)\n",
    "            rhs1_new = apply(rhs1, 𝜇)\n",
    "            Result.add( (('=', lhs1_new, rhs1_new), eq1, eq2))\n",
    "    return Result"
   ]
  },
  {
   "cell_type": "code",
   "execution_count": null,
   "metadata": {},
   "outputs": [],
   "source": [
    "def test():\n",
    "    eq1 = parse_equation('(x * y) * z = x * (y * z)')\n",
    "    eq2 = parse_equation('i(x) * x = 1')\n",
    "    for ((_, s, t), _, _) in critical_pairs(eq1, eq2):\n",
    "        print(f'critical_pairs({to_str(eq1)}, {to_str(eq2)}) = ' + '{' + f'{to_str(s)} = {to_str(t)}' + '}')\n",
    "        \n",
    "test()"
   ]
  },
  {
   "cell_type": "markdown",
   "metadata": {},
   "source": [
    "[Back to top](#The-Knuth-Bendix-Completion-Algorithm)"
   ]
  },
  {
   "cell_type": "markdown",
   "metadata": {},
   "source": [
    "## The Completion Algorithm"
   ]
  },
  {
   "cell_type": "markdown",
   "metadata": {},
   "source": [
    "Given a set of `RewriteRules` and a newly derived rewrite `rule`, the function `simplify_rules(RewriteRules, rule)` adds `rule` to the set `RewriteRules`.  When the function returns, every equation in the set `RewriteRules` is in normal form with respect to all other equations in `RewriteRules`. "
   ]
  },
  {
   "cell_type": "code",
   "execution_count": null,
   "metadata": {},
   "outputs": [],
   "source": [
    "def simplify_rules(RewriteRules, rule):\n",
    "    UnusedRules = [ rule ]\n",
    "    while UnusedRules != []:\n",
    "        UnchangedRules = set()\n",
    "        r = UnusedRules.pop()\n",
    "        for eq in RewriteRules:\n",
    "            simple = normal_form(eq, { r })\n",
    "            if simple != eq:\n",
    "                simple = normal_form(simple, RewriteRules | { r })\n",
    "                if simple[1] != simple[2]:\n",
    "                    simple = order_equation(simple)\n",
    "                    UnusedRules.append(simple)\n",
    "                    print('simplified:')\n",
    "                    print(f'old:     {to_str(eq)}')\n",
    "                    print(f'new:     {to_str(simple)}')\n",
    "                else:\n",
    "                    print(f'removed: {to_str(eq)}')\n",
    "            else:\n",
    "                UnchangedRules.add(eq)\n",
    "        RewriteRules = UnchangedRules | { r }\n",
    "    return RewriteRules"
   ]
  },
  {
   "cell_type": "markdown",
   "metadata": {},
   "source": [
    "The function `print_equations` prints the set of `Equations` one by one and numbers them."
   ]
  },
  {
   "cell_type": "code",
   "execution_count": null,
   "metadata": {},
   "outputs": [],
   "source": [
    "def print_equations(Equations):\n",
    "    cnt = 1\n",
    "    for _, l, r in Equations:\n",
    "        print(f'{cnt}. {to_str(l)} = {to_str(r)}')\n",
    "        cnt += 1"
   ]
  },
  {
   "cell_type": "markdown",
   "metadata": {},
   "source": [
    "Given an equation `eq` of the form `eq = ('=', lhs, rhs)`, the function `complexity(eq)` computes a measure of complexity for the given equation.   This measure of complexity is the length of the string that represents the equation.  This measure of complexity is later used to choose between equations: Less complex equations are more interesting and should be considered first when computing critical pairs."
   ]
  },
  {
   "cell_type": "code",
   "execution_count": null,
   "metadata": {},
   "outputs": [],
   "source": [
    "def complexity(eq):\n",
    "    return len(to_str(eq))"
   ]
  },
  {
   "cell_type": "markdown",
   "metadata": {},
   "source": [
    "Given a set of equations `RewriteRules` and a single rewrite rule `eq`, the function `all_critical_pairs(RewriteRules, eq)` computes the set of all *critical pairs* that can be build by building critical pairs with an equation from `RewriteRules` and the equation `eq`.  It is assumed that `eq` is already an element of `RewriteRules`.  "
   ]
  },
  {
   "cell_type": "code",
   "execution_count": null,
   "metadata": {},
   "outputs": [],
   "source": [
    "def all_critical_pairs(RewriteRules, eq):\n",
    "    Result = set()\n",
    "    for eq1 in RewriteRules:\n",
    "        Result |= { cp for cp in critical_pairs(eq1, eq) }\n",
    "        Result |= { cp for cp in critical_pairs(eq, eq1) }\n",
    "    return Result"
   ]
  },
  {
   "cell_type": "markdown",
   "metadata": {},
   "source": [
    "The module `heapq` provides heap-based priority queues, which are implemented as lists."
   ]
  },
  {
   "cell_type": "code",
   "execution_count": null,
   "metadata": {},
   "outputs": [],
   "source": [
    "import heapq as hq"
   ]
  },
  {
   "cell_type": "markdown",
   "metadata": {},
   "source": [
    "Given a file name that contains a set of equations and a dictionary encoding an ordering of the function symbols, the function `knuth_bendix_algorithm` implements the *Knuth-Bendix algorithm*:\n",
    "1. The equations read from the file are oriented into rewrite rules.\n",
    "2. These oriented equations are pushed onto the priority queue `EquationQueue` according to their complexity.\n",
    "3. The set `RewriteRules` is initialized as the empty set.  The idea is that all critical pairs between\n",
    "   equations in `RewriteRules` have already been computed and that the resulting new equations have been added\n",
    "   to the priority queue `EquationQueue`. \n",
    "4. As long as the priority queue `EquationQueue` is not empty, the least complex equation `eq` is removed from the \n",
    "   priority queue and simplified using the known `RewriteRules`.  \n",
    "5. If the simplified version of `eq` is not trivial, all critical pairs between `eq` and the \n",
    "   existing `RewriteRules` are computed.  The resulting equations are pushed onto the priority queue `EquationQueue`.\n",
    "6. When no new critical pairs can be found, the set of `RewriteRules` is returned.\n",
    "   This set is then guaranteed to be a *confluent* set of rewrite rules."
   ]
  },
  {
   "cell_type": "code",
   "execution_count": null,
   "metadata": {},
   "outputs": [],
   "source": [
    "def knuth_bendix_algorithm(file):\n",
    "    Equations    = set()\n",
    "    Axioms       = set(parse_file(file))\n",
    "    RewriteRules = set()\n",
    "    try:\n",
    "        for eq in Axioms:\n",
    "            ordered_eq = order_equation(eq)\n",
    "            Equations.add(ordered_eq)\n",
    "            print(f'given:   {to_str(ordered_eq)}')\n",
    "        EquationQueue = []\n",
    "        for eq in Equations:\n",
    "            hq.heappush(EquationQueue, (complexity(eq), eq))\n",
    "        while EquationQueue != []:\n",
    "            _, eq = hq.heappop(EquationQueue)\n",
    "            eq = normal_form(eq, RewriteRules)\n",
    "            if eq[1] != eq[2]:\n",
    "                lr = order_equation(eq)\n",
    "                print(f'added:   {to_str(lr)}')\n",
    "                Pairs = all_critical_pairs(RewriteRules | { lr }, lr)\n",
    "                for eq, r1, r2 in Pairs:\n",
    "                    new_eq = normal_form(eq, RewriteRules)\n",
    "                    if new_eq[1] != new_eq[2]:\n",
    "                        print(f'found:   {to_str(eq)} from {to_str(r1)}, {to_str(r2)}')\n",
    "                        hq.heappush(EquationQueue, (complexity(new_eq), new_eq))\n",
    "                RewriteRules = simplify_rules(RewriteRules, lr)\n",
    "    except OrderException as e:\n",
    "        print(e)\n",
    "    print()\n",
    "    print_equations(RewriteRules)\n",
    "    return RewriteRules"
   ]
  },
  {
   "cell_type": "markdown",
   "metadata": {},
   "source": [
    "[Back to top](#The-Knuth-Bendix-Completion-Algorithm)"
   ]
  },
  {
   "cell_type": "markdown",
   "metadata": {},
   "source": [
    "## Examples"
   ]
  },
  {
   "cell_type": "markdown",
   "metadata": {},
   "source": [
    "In this section we present a number of examples where the *Knuth-Bendix completion* algorithm is able to produce a confluent system of equations.  In detail, we discuss the following examples:\n",
    "1. [Group Theory](#Group-Theory)\n",
    "2. [Central Groupoids](#Central-Groupoids)\n",
    "3. [Quasigroups](#Quasigroups)\n",
    "4. [Quasigroups with Idempotence](#Quasigroups-with-Idempotence)\n",
    "5. [Quasigroups with Unipotence](#Quasigroups-with-Unipotence)\n",
    "6. [Loops](#Loops)"
   ]
  },
  {
   "cell_type": "markdown",
   "metadata": {},
   "source": [
    "### Group Theory\n",
    "\n",
    "A structure $\\mathcal{G} = \\langle G, 1, *, i \\rangle$ is a [group](https://en.wikipedia.org/wiki/Group_(mathematics)) iff\n",
    "1. $G$ is a set.\n",
    "2. $1 \\in G$,\n",
    "\n",
    "   where $1$ is called the *left-neutral element*.\n",
    "3. $*: G \\times G \\rightarrow G$,\n",
    "\n",
    "   where $*$ is called the *multiplication* of $\\mathcal{G}$.\n",
    "4. $i: G \\rightarrow G$,\n",
    "\n",
    "   where for any $x \\in G$ the element $i(x)$ is called the *left-inverse* of $x$.\n",
    "5. The following equations hold for all $x,y,z \\in G$:\n",
    "   * $1 * x = x$, i.e. $1$ is a *left-neutral element*.\n",
    "   * $i(x) * x = 1$, i.e. $i(x)$ is a *left-inverse* of $x$.\n",
    "   * $(x * y) * z = x * (y * z)$, i.e. the multiplication is *associative*.\n",
    "\n",
    "A typical example of a group is the set of invertible $n \\times n$ matrices.\n",
    "\n",
    "Given the axioms defining a group, the *Knuth-Bendix completion* algorithm is able to prove the following:\n",
    "1. The *left neutral element* is also a *right neutral element*, we have:\n",
    "   $$ x * 1 = x \\quad \\mbox{for all $x\\in G$.} $$\n",
    "2. The *left inverse* is also a *right inverse*, we have:\n",
    "   $$ x * i(x) = 1 \\quad \\mbox{for all $x\\in G$.} $$\n",
    "3. The operations $i$ and $*$ commute as follows:\n",
    "   $$ i(x * y) = i(y) * i(x) \\quad \\mbox{for all $x,y\\in G$.}$$"
   ]
  },
  {
   "cell_type": "code",
   "execution_count": null,
   "metadata": {},
   "outputs": [],
   "source": [
    "!cat Examples/group-theory-1.eqn || type Examples\\group-theory-1.eqn"
   ]
  },
  {
   "cell_type": "code",
   "execution_count": null,
   "metadata": {
    "scrolled": false
   },
   "outputs": [],
   "source": [
    "%%time\n",
    "Rules = knuth_bendix_algorithm('Examples/group-theory-1.eqn')"
   ]
  },
  {
   "cell_type": "markdown",
   "metadata": {},
   "source": [
    "It is natural to ask whether the axiom describing the *left neutral element* and the axiom describing the *left inverse* can be replaced by corresponding axioms that require $1$ to be a *right neutral element* and $i(x)$ to be a *right inverse*.  The *Knuth-Bendix completion* algorithm shows that this is indeed the case."
   ]
  },
  {
   "cell_type": "code",
   "execution_count": null,
   "metadata": {},
   "outputs": [],
   "source": [
    "!cat Examples/group-theory-2.eqn || type Examples\\group-theory-2.eqn"
   ]
  },
  {
   "cell_type": "code",
   "execution_count": null,
   "metadata": {
    "scrolled": false
   },
   "outputs": [],
   "source": [
    "%%time\n",
    "Rules = knuth_bendix_algorithm('Examples/group-theory-2.eqn')"
   ]
  },
  {
   "cell_type": "markdown",
   "metadata": {},
   "source": [
    "#### LR Systems\n",
    "\n",
    "Next, it is natural to ask what happens if we have a *left neutral element* and a *right inverse*.  Algebraic Structures of this kind are called *LR systems*.  The *Knuth-Bendix completion algorithm* shows that, in general, *LR systems* are different from groups."
   ]
  },
  {
   "cell_type": "code",
   "execution_count": null,
   "metadata": {},
   "outputs": [],
   "source": [
    "!cat Examples/lr-system.eqn || type Examples\\lr-system.eqn"
   ]
  },
  {
   "cell_type": "code",
   "execution_count": null,
   "metadata": {
    "scrolled": false
   },
   "outputs": [],
   "source": [
    "%%time\n",
    "Rules = knuth_bendix_algorithm('Examples/lr-system.eqn')"
   ]
  },
  {
   "cell_type": "markdown",
   "metadata": {},
   "source": [
    "#### RL Systems\n",
    "\n",
    "Similarly, if we have a *right neutral element* and a *left inverse* the resulting structure need not be a group. Systems of this kind are called *RL system*."
   ]
  },
  {
   "cell_type": "code",
   "execution_count": null,
   "metadata": {},
   "outputs": [],
   "source": [
    "!cat Examples/rl-system.eqn || type Examples\\rl-system.eqn"
   ]
  },
  {
   "cell_type": "code",
   "execution_count": null,
   "metadata": {
    "scrolled": false
   },
   "outputs": [],
   "source": [
    "%%time\n",
    "Rules = knuth_bendix_algorithm('Examples/rl-system.eqn')"
   ]
  },
  {
   "cell_type": "markdown",
   "metadata": {},
   "source": [
    "### Central Groupoids\n",
    "\n",
    "A structure $\\mathcal{G} = \\langle G, *\\rangle$ is a *central groupoid* iff\n",
    "1. $G$ is a a non-empty set.\n",
    "2. $*: G \\times G \\rightarrow G$,\n",
    "3. The following equation holds for all $x,y,z \\in G$:\n",
    "   $$ (x * y) * (y * z) = y $$\n",
    "   \n",
    "Central Groupoids have been defined by Trevor Adams in his paper [Products of Points—Some Simple Algebras and Their Identities](https://www.semanticscholar.org/paper/Products-of-Points—Some-Simple-Algebras-and-Their-Evans/0d9885e3cb4398234735759119a3dd7c67e9541d) and are also discussed by Donald E. Knuth in his paper [notes on Central Groupoids](https://www.sciencedirect.com/science/article/pii/S0021980070800321)."
   ]
  },
  {
   "cell_type": "code",
   "execution_count": null,
   "metadata": {},
   "outputs": [],
   "source": [
    "!cat Examples/central-groupoid.eqn || type Examples\\central-groupoid.eqn"
   ]
  },
  {
   "cell_type": "code",
   "execution_count": null,
   "metadata": {
    "scrolled": false
   },
   "outputs": [],
   "source": [
    "%%time\n",
    "Rules = knuth_bendix_algorithm('Examples/central-groupoid.eqn')"
   ]
  },
  {
   "cell_type": "markdown",
   "metadata": {},
   "source": [
    "[Back to top](#The-Knuth-Bendix-Completion-Algorithm)"
   ]
  },
  {
   "cell_type": "markdown",
   "metadata": {},
   "source": [
    "### Quasigroups\n",
    "\n",
    "A structure $\\mathcal{G} = \\langle G, *, /, \\backslash \\rangle$ is a [quasigroup](https://en.wikipedia.org/wiki/Quasigroup) iff\n",
    "1. $G$ is a non-empty set.\n",
    "2. $*: G \\times G \\rightarrow G$, \n",
    "\n",
    "   where $*$ is called the *multiplication* of $\\mathcal{G}$.\n",
    "3. $/: G \\times G \\rightarrow G$, \n",
    "\n",
    "   where $/$ is called the *left division* of $\\mathcal{G}$.   \n",
    "4. $\\backslash: G \\times G \\rightarrow G$, \n",
    "\n",
    "   where $\\backslash$ is called the *right division* of $\\mathcal{G}$.   \n",
    "5. The following equations hold for all $x,y \\in G$:\n",
    "   * $x * (x \\backslash y) = y$, \n",
    "   * $(x / y) * y = x$,\n",
    "   * $x \\backslash (x * y) = y$,\n",
    "   * $(x * y) / y = x$."
   ]
  },
  {
   "cell_type": "code",
   "execution_count": null,
   "metadata": {},
   "outputs": [],
   "source": [
    "!cat Examples/quasigroups.eqn || type Examples\\quasigroups.eqn"
   ]
  },
  {
   "cell_type": "code",
   "execution_count": null,
   "metadata": {},
   "outputs": [],
   "source": [
    "%%time\n",
    "Rules = knuth_bendix_algorithm('Examples/quasigroups.eqn')"
   ]
  },
  {
   "cell_type": "markdown",
   "metadata": {},
   "source": [
    "### Quasigroups with Idempotence\n",
    "\n",
    "A *quasigroup with idempotence* is a quasigroup that additionally satisfies the identity $x * x = x$.  Therefore, a structure $\\mathcal{G} = \\langle G, *, /, \\backslash \\rangle$ is a *quasigroup with idempotence* iff\n",
    "1. $G$ is a set.\n",
    "2. $*: G \\times G \\rightarrow G$, \n",
    "\n",
    "   where $*$ is called the *multiplication* of $\\mathcal{G}$.\n",
    "3. $/: G \\times G \\rightarrow G$, \n",
    "\n",
    "   where $/$ is called the *left division* of $\\mathcal{G}$.   \n",
    "4. $\\backslash: G \\times G \\rightarrow G$, \n",
    "\n",
    "   where $\\backslash$ is called the *right division* of $\\mathcal{G}$.   \n",
    "5. The following equations hold for all $x,y \\in G$:\n",
    "   * $x * (x \\backslash y) = y$, \n",
    "   * $(x / y) * y = x$,\n",
    "   * $x \\backslash (x * y) = y$,\n",
    "   * $(x * y) / y = x$,\n",
    "   * $x * x = x$."
   ]
  },
  {
   "cell_type": "code",
   "execution_count": null,
   "metadata": {},
   "outputs": [],
   "source": [
    "!cat Examples/quasigroup-idempotence.eqn || type Examples\\quasigroup-idempotence.eqn"
   ]
  },
  {
   "cell_type": "code",
   "execution_count": null,
   "metadata": {},
   "outputs": [],
   "source": [
    "%%time\n",
    "Rules = knuth_bendix_algorithm('Examples/quasigroup-idempotence.eqn')"
   ]
  },
  {
   "cell_type": "markdown",
   "metadata": {},
   "source": [
    "### Quasigroups with Unipotence\n",
    "\n",
    "A *quasigroup with idempotence* is a quasigroup that additionally satisfies the identity $x * x = 1$\n",
    "where $1$ is a constant symbol. Therefore, a structure $\\mathcal{G} = \\langle G, 1, *, /, \\backslash \\rangle$ is a *quasigroup with idempotence* iff\n",
    "1. $G$ is a set.\n",
    "2. $1 \\in G$.\n",
    "2. $*: G \\times G \\rightarrow G$, \n",
    "\n",
    "   where $*$ is called the *multiplication* of $\\mathcal{G}$.\n",
    "3. $/: G \\times G \\rightarrow G$, \n",
    "\n",
    "   where $/$ is called the *left division* of $\\mathcal{G}$.   \n",
    "4. $\\backslash: G \\times G \\rightarrow G$, \n",
    "\n",
    "   where $\\backslash$ is called the *right division* of $\\mathcal{G}$.   \n",
    "5. The following equations hold for all $x,y \\in G$:\n",
    "   * $x * (x \\backslash y) = y$, \n",
    "   * $(x / y) * y = x$,\n",
    "   * $x \\backslash (x * y) = y$,\n",
    "   * $(x * y) / y = x$,\n",
    "   * $x * x = 1$."
   ]
  },
  {
   "cell_type": "code",
   "execution_count": null,
   "metadata": {},
   "outputs": [],
   "source": [
    "!cat Examples/quasigroup-unipotence.eqn || type Examples\\quasigroup-unipotence.eqn"
   ]
  },
  {
   "cell_type": "code",
   "execution_count": null,
   "metadata": {},
   "outputs": [],
   "source": [
    "%%time\n",
    "Rules = knuth_bendix_algorithm('Examples/quasigroup-unipotence.eqn')"
   ]
  },
  {
   "cell_type": "markdown",
   "metadata": {},
   "source": [
    "### Loops\n",
    "\n",
    "A *loop* is a quasigroup that additionally has an identity element.  Therefore, a structure $\\mathcal{G} = \\langle G, 1, *, /, \\backslash \\rangle$ is a [loop](https://en.wikipedia.org/wiki/Quasigroup#Loops) iff\n",
    "1. $G$ is a set.\n",
    "2. $1 \\in G$.\n",
    "2. $*: G \\times G \\rightarrow G$, \n",
    "\n",
    "   where $*$ is called the *multiplication* of $\\mathcal{G}$.\n",
    "3. $/: G \\times G \\rightarrow G$, \n",
    "\n",
    "   where $/$ is called the *left division* of $\\mathcal{G}$.   \n",
    "4. $\\backslash: G \\times G \\rightarrow G$, \n",
    "\n",
    "   where $\\backslash$ is called the *right division* of $\\mathcal{G}$.   \n",
    "5. The following equations hold for all $x,y \\in G$:\n",
    "   * $1 * x = x$,\n",
    "   * $x * 1 = x$,\n",
    "   * $x * (x \\backslash y) = y$, \n",
    "   * $(x / y) * y = x$,\n",
    "   * $x \\backslash (x * y) = y$,\n",
    "   * $(x * y) / y = x$."
   ]
  },
  {
   "cell_type": "code",
   "execution_count": null,
   "metadata": {},
   "outputs": [],
   "source": [
    "!cat Examples/loops.eqn || type Examples\\loops.eqn"
   ]
  },
  {
   "cell_type": "code",
   "execution_count": null,
   "metadata": {},
   "outputs": [],
   "source": [
    "%%time\n",
    "Rules = knuth_bendix_algorithm('Examples/loops.eqn')"
   ]
  }
 ],
 "metadata": {
  "kernelspec": {
   "display_name": "Python 3 (ipykernel)",
   "language": "python",
   "name": "python3"
  },
  "language_info": {
   "codemirror_mode": {
    "name": "ipython",
    "version": 3
   },
   "file_extension": ".py",
   "mimetype": "text/x-python",
   "name": "python",
   "nbconvert_exporter": "python",
   "pygments_lexer": "ipython3",
   "version": "3.12.8"
  },
  "varInspector": {
   "cols": {
    "lenName": 16,
    "lenType": 16,
    "lenVar": 40
   },
   "kernels_config": {
    "python": {
     "delete_cmd_postfix": "",
     "delete_cmd_prefix": "del ",
     "library": "var_list.py",
     "varRefreshCmd": "print(var_dic_list())"
    },
    "r": {
     "delete_cmd_postfix": ") ",
     "delete_cmd_prefix": "rm(",
     "library": "var_list.r",
     "varRefreshCmd": "cat(var_dic_list()) "
    }
   },
   "types_to_exclude": [
    "module",
    "function",
    "builtin_function_or_method",
    "instance",
    "_Feature"
   ],
   "window_display": false
  }
 },
 "nbformat": 4,
 "nbformat_minor": 4
}
