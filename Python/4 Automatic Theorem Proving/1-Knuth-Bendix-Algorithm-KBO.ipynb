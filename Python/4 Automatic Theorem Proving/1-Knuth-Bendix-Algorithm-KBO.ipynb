{
 "cells": [
  {
   "cell_type": "code",
   "execution_count": 1,
   "metadata": {},
   "outputs": [
    {
     "data": {
      "text/html": [
       "<link href='http://fonts.googleapis.com/css?family=Alegreya+Sans:100,300,400,500,700,800,900,100italic,300italic,400italic,500italic,700italic,800italic,900italic' rel='stylesheet' type='text/css'>\n",
       "<link href='http://fonts.googleapis.com/css?family=Arvo:400,700,400italic' rel='stylesheet' type='text/css'>\n",
       "<link href='http://fonts.googleapis.com/css?family=PT+Mono' rel='stylesheet' type='text/css'>\n",
       "<link href='http://fonts.googleapis.com/css?family=Shadows+Into+Light' rel='stylesheet' type='text/css'>\n",
       "<link href='http://fonts.googleapis.com/css?family=Philosopher:400,700,400italic,700italic' rel='stylesheet' type='text/css'>\n",
       "<link href=\"http://fonts.googleapis.com/css?family=Sacramento\" rel=\"stylesheet\" type=\"text/css\">\n",
       "\n",
       "<style>\n",
       "\n",
       "@font-face {\n",
       "    font-family: \"Computer Modern\";\n",
       "    src: url('http://mirrors.ctan.org/fonts/cm-unicode/fonts/otf/cmunss.otf');\n",
       "}\n",
       "\n",
       ".container { width: 100% }\n",
       "\n",
       "/* Formatting for header cells */\n",
       ".text_cell_render h1 {\n",
       "    font-family: 'Philosopher', sans-serif;\n",
       "    font-weight: 400;\n",
       "    font-size: 2.2em;\n",
       "    line-height: 100%;\n",
       "    color: rgb(0, 80, 120);\n",
       "    margin-bottom: 0.1em;\n",
       "    margin-top: 0.1em;\n",
       "    display: block;\n",
       "}\t\n",
       ".text_cell_render h2 {\n",
       "    font-family: 'Philosopher', serif;\n",
       "    font-weight: 400;\n",
       "    font-size: 1.9em;\n",
       "    line-height: 100%;\n",
       "    color: rgb(200,100,0);\n",
       "    margin-bottom: 0.1em;\n",
       "    margin-top: 0.1em;\n",
       "    display: block;\n",
       "}\t\n",
       "\n",
       ".text_cell_render h3 {\n",
       "    font-family: 'Philosopher', serif;\n",
       "    margin-top:12px;\n",
       "    margin-bottom: 3px;\n",
       "    font-style: italic;\n",
       "    color: rgb(94,127,192);\n",
       "}\n",
       "\n",
       ".text_cell_render h4 {\n",
       "    font-family: 'Philosopher', serif;\n",
       "}\n",
       "\n",
       ".text_cell_render h5 {\n",
       "    font-family: 'Alegreya Sans', sans-serif;\n",
       "    font-weight: 300;\n",
       "    font-size: 16pt;\n",
       "    color: grey;\n",
       "    font-style: italic;\n",
       "    margin-bottom: .1em;\n",
       "    margin-top: 0.1em;\n",
       "    display: block;\n",
       "}\n",
       "\n",
       ".text_cell_render h6 {\n",
       "    font-family: 'PT Mono', sans-serif;\n",
       "    font-weight: 300;\n",
       "    font-size: 10pt;\n",
       "    color: grey;\n",
       "    margin-bottom: 1px;\n",
       "    margin-top: 1px;\n",
       "}\n",
       "\n",
       ".text_cell_render em {\n",
       "    font-family: 'Philosopher', sans-serif;\n",
       "    color:        blue;\n",
       "    background-color: rgb(255,220,180);\n",
       "    font-size:    110%;\n",
       "    margin-left:   2px;\n",
       "    margin-right:  2px;\n",
       "    font-weight:   100;\n",
       "}\n",
       "\n",
       ".text_cell_render b {\n",
       "    color:            rgb(255,195,195);\n",
       "    background-color: rgb(0,0,0);\n",
       "    font-size:    110%;\n",
       "    margin-left:   2px;\n",
       "    margin-right:  2px;\n",
       "    font-weight:   650;\n",
       "}\n",
       "\n",
       ".text_cell_render u {\n",
       "    color:            blue;\n",
       "    font-size:    110%;\n",
       "    margin-left:   2px;\n",
       "    margin-right:  2px;\n",
       "    font-weight:   650;\n",
       "}\n",
       "\n",
       ".text_cell_render tt {\n",
       "    font-size:    120%;\n",
       "    margin-left:   2px;\n",
       "    margin-right:  2px;\n",
       "    font-weight:   150;\n",
       "}\n",
       "\n",
       ".Codemirror {\n",
       "    font-family: \"PT Mono\";\n",
       "    font-size: 100%;\n",
       "}\n",
       "\n",
       "#fancy {\n",
       "    font-family:      Georgia;\n",
       "    position:         relative;\n",
       "    float:            left;\n",
       "    border:           2px solid red;\n",
       "    width:            600px;\n",
       "    padding-left:     20px;\n",
       "    padding-right:    20px;\n",
       "    padding-top:      10px;\n",
       "    font-family:      'Sacramento', cursive;\n",
       "    font-size:        26px;\n",
       "    background-color: #F4EBF3;\n",
       "    border-radius:    15px;\n",
       "}\n",
       "\n",
       "</Style>\n",
       "\n"
      ],
      "text/plain": [
       "<IPython.core.display.HTML object>"
      ]
     },
     "execution_count": 1,
     "metadata": {},
     "output_type": "execute_result"
    }
   ],
   "source": [
    "from IPython.display import HTML\n",
    "HTML(open ('../style.css', 'r').read())"
   ]
  },
  {
   "cell_type": "markdown",
   "metadata": {},
   "source": [
    "# The Knuth-Bendix Completion Algorithm"
   ]
  },
  {
   "cell_type": "markdown",
   "metadata": {},
   "source": [
    "This notebook presents the [Knuth-Bendix completion algorithm](https://en.wikipedia.org/wiki/Knuth%E2%80%93Bendix_completion_algorithm) for transforming a set of equations into a *confluent* term rewriting system.  This notebook is divided into eight sections.\n",
    "- [Parsing](#Parsing)\n",
    "- [Matching](#Matching)\n",
    "- [Term Rewriting](#Term-Rewriting)\n",
    "- [Unification](#Unification)\n",
    "- [Knuth-Bendix Ordering](#The-Knuth-Bendix-Ordering)\n",
    "- [Critical Pairs](#Critical-Pairs)\n",
    "- [The Completion Algorithm](#The-Completion-Algorithm)\n",
    "- [Examples](#Examples)"
   ]
  },
  {
   "cell_type": "markdown",
   "metadata": {},
   "source": [
    "## Parsing"
   ]
  },
  {
   "cell_type": "markdown",
   "metadata": {},
   "source": [
    "To begin, we need a parser that is capable of parsing terms and equations. This parser is implemented in the notebook `Parser.ipynb` and can parse equations of terms that use the binary operators `+`, `-`, `*`, `/`, `\\`, `%`, and `^`.  The precedences of these operators are as follows:\n",
    "1. `+` and `-` have the precedence $1$, which is the lowest precedence.\n",
    "   Furthermore, they are *left-associative*.\n",
    "2. `*`, `/`, `\\`, `%` have the precedence $2$ and are also *left associative*.\n",
    "3. `^` has the precedence $3$ and is *right associative*.\n",
    "\n",
    "Furthermore, *function symbols* and *variables* are supported. Every string consisting of letters, digits, and underscores that does start with a letter is considered a function symbol if it is followed by an opening parenthesis.  Otherwise, it is taken to be a variable. Terms are defined inductively:\n",
    "- Every variable is a term.\n",
    "- If $f$ is a function symbol and $t_1$, $\\cdots$, $t_n$ are terms, then $f(t_1,\\cdots,t_n)$ is a term.\n",
    "- If $s$ and $t$ are terms and $o$ is an operator, then $s\\; o\\; t$ is a term.  \n",
    "\n",
    "The notebook `Parser.ipynb` also provides the function `to_str` for turning terms or equations into strings.  All together, the notebook provides the following functions:\n",
    "- `parse_file(file_name)` parses a file containing equations between terms.\n",
    "  It returns a list of the equations that have been parsed.\n",
    "- `parse_equation(s)` converts the string `s` into an equation.\n",
    "- `parse_term(s)` converts the string `s` into a term.\n",
    "- `to_str(o)` converts an object `o` into a string.  The object `o` either is\n",
    "  * a term,\n",
    "  * an equation,\n",
    "  * a list of equations,\n",
    "  * a set of equations, or\n",
    "  * a dictionary representing a *substitution*.\n",
    "\n",
    "Terms and equations are represented as *nested tuples*.  These are defined recursively:\n",
    "- a string is a *nested tuple*,\n",
    "- a tuple `t` is a *nested tuple* iff `t[0]` is a string and for all \n",
    "  $i \\in \\{1,\\cdots,\\texttt{len}(t)-1\\}$ we have that `t[i]` is a nested tuple.\n",
    "  \n",
    "The parser is implemented using the parser generator [Ply](https://www.dabeaz.com/ply/ply.html)."
   ]
  },
  {
   "cell_type": "code",
   "execution_count": 2,
   "metadata": {},
   "outputs": [],
   "source": [
    "%%capture\n",
    "%run Parser.ipynb"
   ]
  },
  {
   "cell_type": "code",
   "execution_count": 3,
   "metadata": {},
   "outputs": [
    {
     "name": "stdout",
     "output_type": "stream",
     "text": [
      "x * (x \\ y) = y;\r\n",
      "(x / y) * y = x;\r\n",
      "x \\ (x * y) = y;\r\n",
      "(x * y) / y = x;"
     ]
    }
   ],
   "source": [
    "!cat Examples/quasigroups.eqn || type Examples\\quasigroups.eqn"
   ]
  },
  {
   "cell_type": "code",
   "execution_count": 4,
   "metadata": {},
   "outputs": [
    {
     "name": "stdout",
     "output_type": "stream",
     "text": [
      "('*', ('*', ('$var', 'x'), ('$var', 'y')), ('$var', 'z'))\n",
      "(x * y) * z\n",
      "('=', ('*', ('i', ('$var', 'x')), ('$var', 'x')), ('1',))\n",
      "[x * (x \\ y) = y, (x / y) * y = x, x \\ (x * y) = y, (x * y) / y = x]\n"
     ]
    }
   ],
   "source": [
    "def test():\n",
    "    t = parse_term('x * y * z')\n",
    "    print(t)\n",
    "    print(to_str(t))\n",
    "    eq = parse_equation('i(x) * x = 1')\n",
    "    print(eq)\n",
    "    print(to_str(parse_file('Examples/quasigroups.eqn')))\n",
    "    \n",
    "test()"
   ]
  },
  {
   "cell_type": "markdown",
   "metadata": {},
   "source": [
    "[Back to top](#The-Knuth-Bendix-Completion-Algorithm)"
   ]
  },
  {
   "cell_type": "markdown",
   "metadata": {},
   "source": [
    "## Matching"
   ]
  },
  {
   "cell_type": "markdown",
   "metadata": {},
   "source": [
    "The *substitution* $\\sigma$ maps variables to terms.  It is represented as a dictionary.  If $t$ is a term and $\\sigma$ is the substitution \n",
    "$$ \\sigma = \\{ x_1: s_1, \\cdots, x_n:s_n \\}, $$\n",
    "then *applying* the substitution $\\sigma$ to the term $t$ replaces the variables $x_i$ with the terms $s_i$.  The application of $\\sigma$ to $t$ is written as $t\\sigma$ and is defined by induction on $t$:\n",
    "- $x_i\\sigma := s_i$,\n",
    "- $v\\sigma := v$ if $v$ is a variable and $v \\not\\in \\{x_1,\\cdots,x_n\\}$,\n",
    "- $f(t_1,\\cdots,t_n)\\sigma := f(t_1\\sigma, \\cdots, t_n\\sigma)$.\n",
    "  \n",
    "A term $p$ *matches* a term $t$ iff there exists a substitution $\\sigma$ such that $p\\sigma = t$. "
   ]
  },
  {
   "cell_type": "markdown",
   "metadata": {},
   "source": [
    "The function `is_var(t)` checks whether the term `t` is interpreted a variable. Variables are represented as nested tuples of the form `($var, name)`, where `name` is the name of the variable."
   ]
  },
  {
   "cell_type": "code",
   "execution_count": 5,
   "metadata": {},
   "outputs": [],
   "source": [
    "def is_var(t):\n",
    "    return t[0] == '$var'"
   ]
  },
  {
   "cell_type": "markdown",
   "metadata": {},
   "source": [
    "Given a string `x`, the function `make_var(x)` creates a variable with name `x`."
   ]
  },
  {
   "cell_type": "code",
   "execution_count": 6,
   "metadata": {},
   "outputs": [],
   "source": [
    "def make_var(x):\n",
    "    return ('$var', x)"
   ]
  },
  {
   "cell_type": "markdown",
   "metadata": {},
   "source": [
    "Given a term `p`, a term `t`,  and a substitution `σ`, the function `match_pattern(p, t, σ)` tries to extend the\n",
    "substitution `σ` so that the equation\n",
    "$$ p \\sigma = t $$\n",
    "is satisfied.  If this is possible, the function returns `True` and updates the substitution `σ` so that\n",
    "$p \\sigma = t$ holds.  Otherwise, the function returns `False`."
   ]
  },
  {
   "cell_type": "code",
   "execution_count": 7,
   "metadata": {},
   "outputs": [],
   "source": [
    "def match_pattern(pattern, term, σ):\n",
    "    match pattern:\n",
    "        case '$var', var:\n",
    "            if var in σ:\n",
    "                return σ[var] == term\n",
    "            else:\n",
    "                σ[var] = term           # extend σ\n",
    "                return True\n",
    "        case _:\n",
    "            if pattern[0] == term[0] and len(pattern) == len(term):\n",
    "                return all(match_pattern(pattern[i], term[i], σ) for i in range(1, len(pattern)))\n",
    "            else:\n",
    "                return False"
   ]
  },
  {
   "cell_type": "code",
   "execution_count": 8,
   "metadata": {},
   "outputs": [
    {
     "name": "stdout",
     "output_type": "stream",
     "text": [
      "{z: i(y), x: i(y)}\n"
     ]
    }
   ],
   "source": [
    "def test():\n",
    "    p = parse_term('i(x) * z')\n",
    "    t = parse_term('i(i(y)) * i(y)')\n",
    "    σ = {}\n",
    "    match_pattern(p, t, σ)\n",
    "    print(to_str(σ))\n",
    "    \n",
    "test()"
   ]
  },
  {
   "cell_type": "markdown",
   "metadata": {},
   "source": [
    "Given a term `t`, the function `find_variables(t)` computes the set of all variables occurring in `t`.  If, instead, $t$ is a list of terms or a set of terms, then `find_variables(t)` computes the set of those variables that occur in any of the terms of $t$."
   ]
  },
  {
   "cell_type": "code",
   "execution_count": 9,
   "metadata": {},
   "outputs": [],
   "source": [
    "def find_variables(t):\n",
    "    if isinstance(t, set) or isinstance(t, list):\n",
    "        return { var for term in t\n",
    "                     for var  in find_variables(term)\n",
    "               }\n",
    "    if is_var(t):\n",
    "        _, var = t\n",
    "        return { var }\n",
    "    _, *L = t\n",
    "    return find_variables(L)"
   ]
  },
  {
   "cell_type": "code",
   "execution_count": 10,
   "metadata": {},
   "outputs": [
    {
     "name": "stdout",
     "output_type": "stream",
     "text": [
      "{'y', 'z', 'x'}\n"
     ]
    }
   ],
   "source": [
    "def test():\n",
    "    eq = parse_equation('(x * y) * z = x * (y * z)')\n",
    "    print(find_variables(eq))\n",
    "    \n",
    "test()"
   ]
  },
  {
   "cell_type": "markdown",
   "metadata": {},
   "source": [
    "Given a term `t` and a substitution `σ` that is represented as a dictionary of the form\n",
    "$$ \\sigma = \\{ x_1: s_1, \\cdots, x_n:s_n \\}, $$\n",
    "the function `apply(t, σ)` computes the term that results from replacing the variables $x_i$ with the terms $s_i$ in `t` for all $i=1,\\cdots,n$.  This term is written as $t\\sigma$ and if $\\sigma = \\{ x_1: s_1, \\cdots, x_n:s_n \\}$, then $t\\sigma$ is defined by induction on `t` as follows:\n",
    "- $x_i\\sigma := s_i$,\n",
    "- $v\\sigma := v$ if $v$ is a variable and $v \\not\\in \\{x_1,\\cdots,x_n\\}$,\n",
    "- $f(t_1,\\cdots,t_m)\\sigma := f(t_1\\sigma, \\cdots, t_m\\sigma)$."
   ]
  },
  {
   "cell_type": "code",
   "execution_count": 11,
   "metadata": {},
   "outputs": [],
   "source": [
    "def apply(t, σ):\n",
    "    \"Apply the substitution σ to the term t.\"\n",
    "    if is_var(t):\n",
    "        _, var = t\n",
    "        if var in σ:\n",
    "            return σ[var]\n",
    "        else:\n",
    "            return t\n",
    "    else: \n",
    "        f, *Ts = t\n",
    "        return (f,) + tuple(apply(s, σ) for s in Ts)"
   ]
  },
  {
   "cell_type": "code",
   "execution_count": 12,
   "metadata": {},
   "outputs": [
    {
     "name": "stdout",
     "output_type": "stream",
     "text": [
      "apply(i(x) * x, {x: i(y)}) = i(i(y)) * i(y)\n"
     ]
    }
   ],
   "source": [
    "def test():\n",
    "    p = parse_term('i(x) * x')\n",
    "    t = parse_term('i(i(y)) * i(y)')\n",
    "    σ = {}\n",
    "    match_pattern(p, t, σ)\n",
    "    print(f'apply({to_str(p)}, {to_str(σ)}) = {to_str(apply(p, σ))}')\n",
    "\n",
    "test()"
   ]
  },
  {
   "cell_type": "markdown",
   "metadata": {},
   "source": [
    "Given a set of terms or equations `Ts` and a substitution `σ`, the function `apply_set(Ts, σ)` applies the substitution `σ` to all elements in `Ts`."
   ]
  },
  {
   "cell_type": "code",
   "execution_count": 13,
   "metadata": {},
   "outputs": [],
   "source": [
    "def apply_set(Ts, σ):\n",
    "    return { apply(t, σ) for t in Ts }"
   ]
  },
  {
   "cell_type": "markdown",
   "metadata": {},
   "source": [
    "If  $\\sigma = \\big\\{ x_1 \\mapsto s_1, \\cdots, x_m \\mapsto s_m \\big\\}$ and\n",
    "$\\tau = \\big\\{ y_1 \\mapsto t_1, \\cdots, y_n \\mapsto t_n \\big\\}$ \n",
    "are two substitutions that are *non-overlapping*, i.e. such that $\\{x_1,\\cdots, x_m\\} \\cap \\{y_1,\\cdots,y_n\\} = \\{\\}$ holds,\n",
    "then we define the *composition* $\\sigma\\tau$ of $\\sigma$ and $\\tau$ as follows:\n",
    "$$\\sigma\\tau := \\big\\{ x_1 \\mapsto s_1\\tau, \\cdots, x_m \\mapsto s_m\\tau,\\; y_1 \\mapsto t_1, \\cdots, y_n \\mapsto t_n \\big\\}$$\n",
    "This definition implies that the following *associative law* is valid:\n",
    "$$ s(\\sigma\\tau) = (s\\sigma)\\tau $$\n",
    "The function $\\texttt{compose}(\\sigma, \\tau)$ takes two non-overlapping substitutions and computes their *composition* $\\sigma\\tau$."
   ]
  },
  {
   "cell_type": "code",
   "execution_count": 14,
   "metadata": {},
   "outputs": [],
   "source": [
    "def compose(σ, τ):\n",
    "    Result = { x: apply(s, τ) for (x, s) in σ.items() }\n",
    "    Result.update(τ)\n",
    "    return Result"
   ]
  },
  {
   "cell_type": "code",
   "execution_count": 15,
   "metadata": {},
   "outputs": [
    {
     "name": "stdout",
     "output_type": "stream",
     "text": [
      "compose({x: i(y)}, {y: a * b, z: i(b)}) = {x: i(a * b), y: a * b, z: i(b)}\n"
     ]
    }
   ],
   "source": [
    "def test():\n",
    "    t1 = parse_term('i(y)')\n",
    "    t2 = parse_term('a * b')\n",
    "    t3 = parse_term('i(b)')\n",
    "    σ = { 'x': t1 }\n",
    "    τ = { 'y': t2, 'z': t3  }\n",
    "    print(f'compose({to_str(σ)}, {to_str(τ)}) = {to_str(compose(σ, τ))}')\n",
    "    \n",
    "test()"
   ]
  },
  {
   "cell_type": "markdown",
   "metadata": {},
   "source": [
    "[Back to top](#The-Knuth-Bendix-Completion-Algorithm)"
   ]
  },
  {
   "cell_type": "markdown",
   "metadata": {},
   "source": [
    "## Term Rewriting"
   ]
  },
  {
   "cell_type": "code",
   "execution_count": 16,
   "metadata": {},
   "outputs": [
    {
     "data": {
      "text/plain": [
       "'abcdefghijklmnopqrstuvwxyz'"
      ]
     },
     "execution_count": 16,
     "metadata": {},
     "output_type": "execute_result"
    }
   ],
   "source": [
    "from string import ascii_lowercase\n",
    "ascii_lowercase"
   ]
  },
  {
   "cell_type": "markdown",
   "metadata": {},
   "source": [
    "Given a term `s` and a set of variables `V`, the function `rename_variables(s, V)` renames the variables in `s` so that they differ from the variables in the set `V`.  This will only work if the number of variables occurring in `V` times two is less than the number of letters in the latin alphabet, i.e. less than 26.  Therefore, the set `V` must have at most 13 variables.  For our examples, this is not a restriction."
   ]
  },
  {
   "cell_type": "code",
   "execution_count": 17,
   "metadata": {},
   "outputs": [],
   "source": [
    "def rename_variables(s, Vars):\n",
    "    assert len(Vars) <= 13, f'Error: too many variables in {Vars}.'\n",
    "    NewVars = set(ascii_lowercase) - Vars\n",
    "    NewVars = sorted(list(NewVars))\n",
    "    σ       = { x: make_var(NewVars[i]) for (i, x) in enumerate(Vars) }\n",
    "    return apply(s, σ)"
   ]
  },
  {
   "cell_type": "code",
   "execution_count": 18,
   "metadata": {},
   "outputs": [
    {
     "name": "stdout",
     "output_type": "stream",
     "text": [
      "rename_variables((x * y) * z = x * (y * z), {'y', 'z', 'x'}) = (c * a) * b = c * (a * b)\n"
     ]
    }
   ],
   "source": [
    "def test():\n",
    "    t = parse_equation('x * y * z = x * (y * z)')\n",
    "    V = find_variables(t)\n",
    "    print(f'rename_variables({to_str(t)}, {V}) = {to_str(rename_variables(t, V))}')\n",
    "    \n",
    "test()"
   ]
  },
  {
   "cell_type": "markdown",
   "metadata": {},
   "source": [
    "The function `simplify_step(t, E)` takes two arguments:\n",
    "- `t` is a term,\n",
    "- `E` is a set of equations of the form `('=', l, r)`.\n",
    "\n",
    "The function tries to find an equation `l = r` in `E` and a subterm `s` in the term `t` such that the left hand side `l` of the equation matches the subterm `s` using some substitution $\\sigma$, i.e. we have $s = l\\sigma$.  Then the term `t` is simplified by replacing the subterm `s` in `t` by $r\\sigma$.  More formally, if `u` is the position of `s` in `t`, i.e. `t/u = s` then `t` is simplified into the term \n",
    "$$ t = t[u \\mapsto l\\sigma] \\rightarrow_{\\{l=r\\}} t[u \\mapsto r\\sigma]. $$\n",
    "If an appropriate subterm `s` is found, the simplified term is returned.  Otherwise, the function returns `None`.  \n",
    "\n",
    "If multiple subterms of `t` can simplified, then the function `simplify_step(t, E)` simplifies all subterms."
   ]
  },
  {
   "cell_type": "code",
   "execution_count": 19,
   "metadata": {},
   "outputs": [],
   "source": [
    "def simplify_step(t, Equations):\n",
    "    if is_var(t):\n",
    "        return None      # variables can't be simplified\n",
    "    for eq in Equations:\n",
    "        _, lhs, rhs = eq\n",
    "        σ = {}\n",
    "        if match_pattern(lhs, t, σ):\n",
    "            return apply(rhs, σ)\n",
    "    f, *args   = t\n",
    "    simpleArgs = []\n",
    "    change     = False\n",
    "    for arg in args:\n",
    "        simple = simplify_step(arg, Equations)\n",
    "        if simple != None:\n",
    "            simpleArgs += [simple]\n",
    "            change = True\n",
    "        else:\n",
    "            simpleArgs += [arg]\n",
    "    if change:\n",
    "        return (f,) + tuple(simpleArgs)\n",
    "    return None"
   ]
  },
  {
   "cell_type": "code",
   "execution_count": 20,
   "metadata": {},
   "outputs": [
    {
     "name": "stdout",
     "output_type": "stream",
     "text": [
      "simplify_step((a * b) * i(b), {(x * y) * z = x * (y * z)}) = a * (b * i(b))\n"
     ]
    }
   ],
   "source": [
    "def test():\n",
    "    E = { parse_equation('(x * y) * z = x * (y * z)') }\n",
    "    t = parse_term('(a * b) * i(b)')\n",
    "    print(f'simplify_step({to_str(t)}, {to_str(E)}) = {to_str(simplify_step(t, E))}')\n",
    "    \n",
    "test()"
   ]
  },
  {
   "cell_type": "markdown",
   "metadata": {},
   "source": [
    "The function `normal_form(t, E)` takes a term `t` and a list (or set) of equations `E` and tries to simplify the term `t` as much as possible using the equations from `E`.  \n",
    "\n",
    "In the implementation, we have to be careful to rename the variables occurring in `E` so that they are different from the variables occurring in `t`.  **Furthermore, we have to take care that we don't identify different variables in `E` by accident.**  Therefore, we rename the variables in `E` so that they are both different from the variables in `t` and from the old variables occurring in `E`."
   ]
  },
  {
   "cell_type": "code",
   "execution_count": 21,
   "metadata": {},
   "outputs": [],
   "source": [
    "def normal_form(t, E):\n",
    "    Vars = find_variables(t) | find_variables(E)\n",
    "    NewE = [ rename_variables(eq, Vars) for eq in E ]\n",
    "    while True:\n",
    "        s = simplify_step(t, NewE)\n",
    "        if s == None:\n",
    "            return t\n",
    "        t = s"
   ]
  },
  {
   "cell_type": "code",
   "execution_count": 22,
   "metadata": {},
   "outputs": [
    {
     "name": "stdout",
     "output_type": "stream",
     "text": [
      "      1 * x = x;\r\n",
      "   i(x) * x = 1;\r\n",
      "(x * y) * z = x * (y * z);"
     ]
    }
   ],
   "source": [
    "!cat Examples/group-theory-1.eqn || type Examples\\group-theory-1.eqn"
   ]
  },
  {
   "cell_type": "code",
   "execution_count": 23,
   "metadata": {},
   "outputs": [
    {
     "name": "stdout",
     "output_type": "stream",
     "text": [
      "E = [1 * x = x, i(x) * x = 1, (x * y) * z = x * (y * z)]\n",
      "normal_form((1 * (b * i(a))) * a, E) = b * 1\n"
     ]
    }
   ],
   "source": [
    "def test():\n",
    "    E  = parse_file('Examples/group-theory-1.eqn')\n",
    "    t  = parse_term('1 * (b * i(a)) * a')\n",
    "    print(f'E = {to_str(E)}')\n",
    "    print(f'normal_form({to_str(t)}, E) = {to_str(normal_form(t, E))}')\n",
    "    \n",
    "test()"
   ]
  },
  {
   "cell_type": "markdown",
   "metadata": {},
   "source": [
    "[Back to top](#The-Knuth-Bendix-Completion-Algorithm)"
   ]
  },
  {
   "cell_type": "markdown",
   "metadata": {},
   "source": [
    "## Unification\n",
    "\n",
    "In this section, we implement the [unification](https://en.wikipedia.org/wiki/Unification_(computer_science)) algorithm of Martelli and Montanari."
   ]
  },
  {
   "cell_type": "markdown",
   "metadata": {},
   "source": [
    "Given a variable name `x` and a term `t`, the function `occurs(x, t)` checks whether `x` occurs in `t`."
   ]
  },
  {
   "cell_type": "code",
   "execution_count": 24,
   "metadata": {},
   "outputs": [],
   "source": [
    "def occurs(x, t):\n",
    "    if is_var(t):\n",
    "        _, var = t\n",
    "        return x == var\n",
    "    return any(occurs(x, arg) for arg in t[1:])"
   ]
  },
  {
   "cell_type": "markdown",
   "metadata": {},
   "source": [
    "The algorithm implemented below takes a pair `(E, σ)` as its input.  Here `E` is a set of *syntactical equations* that need to be solved and `σ` is a substitution that is initially empty.  The pair `(E, σ)` is then transformed using the rules of *Martelli and Montanari*.  The transformation is successful if the pair `(E, σ)` can be transformed into a pair of the form `({}, μ)`.  Then `μ` is the *solution* to the system of equations `E` and hence `μ` is a *most general unifier* of `E`.\n",
    "\n",
    "The rules that can be used to solve a system of *syntactical equations* are as follows:\n",
    "   - If $y\\in\\mathcal{V}$ is a variable that does **not** occur in the term $t$,\n",
    "     then we perform the following reduction: \n",
    "     $$ \\Big\\langle E \\cup \\big\\{ y \\doteq t \\big\\}, \\sigma \\Big\\rangle \\quad\\leadsto \\quad \n",
    "         \\Big\\langle E[y \\mapsto t], \\sigma\\big[ y \\mapsto t \\big] \\Big\\rangle \n",
    "     $$     \n",
    "   - If the variable $y$ occurs in the term $t$ and $y$ is different from $t$, then the system of \n",
    "     syntactical equations\n",
    "     $E \\cup \\big\\{ y \\doteq t \\big\\}$ is not solvable:\n",
    "     $$ \\Big\\langle E \\cup \\big\\{ y \\doteq t \\big\\}, \\sigma \\Big\\rangle\\;\\leadsto\\; \\texttt{None} \\quad\n",
    "        \\mbox{if $y \\in \\textrm{Var}(t)$ and $y \\not=t$.}$$\n",
    "   - If $y\\in\\mathcal{V}$ is a variable and $t$ is not a variable, then we use the following rule:\n",
    "     $$ \\Big\\langle E \\cup \\big\\{ t \\doteq y \\big\\}, \\sigma \\Big\\rangle \\quad\\leadsto \\quad \n",
    "         \\Big\\langle E \\cup \\big\\{ y \\doteq t \\big\\}, \\sigma \\Big\\rangle.\n",
    "     $$   \n",
    "   - Trivial syntactical equations of variables can be dropped:\n",
    "     $$ \\Big\\langle E \\cup \\big\\{ x \\doteq x \\big\\}, \\sigma \\Big\\rangle \\quad\\leadsto \\quad\n",
    "         \\Big\\langle E, \\sigma \\Big\\rangle.\n",
    "     $$   \n",
    "   - If $f$ is an $n$-ary function symbol, then we have: \n",
    "     $$ \\Big\\langle E \\cup \\big\\{ f(s_1,\\cdots,s_n) \\doteq f(t_1,\\cdots,t_n) \\big\\}, \\sigma \\Big\\rangle \n",
    "         \\;\\leadsto\\; \n",
    "         \\Big\\langle E \\cup \\big\\{ s_1 \\doteq t_1, \\cdots, s_n \\doteq t_n\\}, \\sigma \\Big\\rangle.\n",
    "     $$   \n",
    "   - The system of syntactical equations $E \\cup \\big\\{ f(s_1,\\cdots,s_m) \\doteq g(t_1,\\cdots,t_n) \\big\\}$\n",
    "     has **no** solution if the function symbols $f$ and $g$ are different:\n",
    "     $$ \\Big\\langle E \\cup \\big\\{ f(s_1,\\cdots,s_m) \\doteq g(t_1,\\cdots,t_n) \\big\\},\n",
    "      \\sigma \\Big\\rangle \\;\\leadsto\\; \\texttt{None} \\qquad \\mbox{if $f \\not= g$}.\n",
    "     $$\n",
    "     \n",
    "     Here, we tacitly assume that every function symbol $f$ has a fixed arity."
   ]
  },
  {
   "cell_type": "markdown",
   "metadata": {},
   "source": [
    "Given two terms $s$ and $t$, the function $\\texttt{unify}(s, t)$ computes the <em style=\"color:blue;\">most general unifier</em> of $s$ and $t$."
   ]
  },
  {
   "cell_type": "code",
   "execution_count": 25,
   "metadata": {},
   "outputs": [],
   "source": [
    "def unify(s, t):\n",
    "    return solve({('≐', s, t)}, {})"
   ]
  },
  {
   "cell_type": "markdown",
   "metadata": {},
   "source": [
    "Given a set of <em style=\"color:blue;\">syntactical equations</em> $E$ and a substitution $\\sigma$, the function $\\texttt{solve}(E, \\sigma)$ applies the rules of Martelli and Montanari to solve $E$."
   ]
  },
  {
   "cell_type": "code",
   "execution_count": 26,
   "metadata": {},
   "outputs": [],
   "source": [
    "def solve(E, σ):\n",
    "    while E != set():\n",
    "        _, s, t = E.pop()\n",
    "        if s == t: # remove trivial equations\n",
    "            continue\n",
    "        if is_var(s):\n",
    "            _, x = s\n",
    "            if occurs(x, t):\n",
    "                return None\n",
    "            else: # set x to t\n",
    "                E = apply_set(E, { x: t })\n",
    "                σ = compose(σ, { x: t })\n",
    "        elif is_var(t):\n",
    "            E.add(('≐', t, s))\n",
    "        else:\n",
    "            f    , g     = s[0]      , t[0]\n",
    "            sArgs, tArgs = s[1:]     , t[1:]\n",
    "            m    , n     = len(sArgs), len(tArgs)\n",
    "            if f != g or m != n:\n",
    "                return None\n",
    "            else:\n",
    "                E |= { ('≐', sArgs[i], tArgs[i]) for i in range(m) }\n",
    "    return σ"
   ]
  },
  {
   "cell_type": "code",
   "execution_count": 27,
   "metadata": {},
   "outputs": [
    {
     "name": "stdout",
     "output_type": "stream",
     "text": [
      "unify((x * i(x)) * (y * z), (a * i(1)) * b) = {x: 1, a: 1, b: y * z}\n"
     ]
    }
   ],
   "source": [
    "def test():\n",
    "    s = parse_term('x * i(x) * (y * z)')\n",
    "    t = parse_term('a * i(1) * b')\n",
    "    print(f'unify({to_str(s)}, {to_str(t)}) = {to_str(unify(s, t))}')\n",
    "    \n",
    "test()"
   ]
  },
  {
   "cell_type": "markdown",
   "metadata": {},
   "source": [
    "[Back to top](#The-Knuth-Bendix-Completion-Algorithm)"
   ]
  },
  {
   "cell_type": "markdown",
   "metadata": {},
   "source": [
    "## The Knuth-Bendix Ordering\n",
    "\n",
    "In order to turn an equation $s = t$ into a rewrite rule, we have to check whether the term $s$ is *more complex* than the term $t$, so that $s$ should be simplified to $t$, or whether $t$ is *more complex* than $s$ and we should rewrite $t$ into $s$.  To this end, we implement the *Knuth-Bendix ordering*, which is a method to compare terms."
   ]
  },
  {
   "cell_type": "markdown",
   "metadata": {},
   "source": [
    "Given a term `t` and a variable name `x`, the function `count(t, x)` computes the number of times that `x` occurs in `t`."
   ]
  },
  {
   "cell_type": "code",
   "execution_count": 28,
   "metadata": {},
   "outputs": [],
   "source": [
    "def count(t, x):\n",
    "    match t:\n",
    "        case '$var', y:\n",
    "            return 1 if x == y else 0\n",
    "        case _, *Ts:\n",
    "            return sum(count(arg, x) for arg in Ts)"
   ]
  },
  {
   "cell_type": "code",
   "execution_count": 29,
   "metadata": {},
   "outputs": [
    {
     "name": "stdout",
     "output_type": "stream",
     "text": [
      "count(x * (i(x) * y), \"x\") = 2\n",
      "count(x * (i(x) * y), \"y\") = 1\n",
      "count(x * (i(x) * y), \"z\") = 0\n"
     ]
    }
   ],
   "source": [
    "def test():\n",
    "    t = parse_term('x * (i(x) * y)')\n",
    "    print(f'count({to_str(t)}, \"x\") = {count(t, \"x\")}')\n",
    "    print(f'count({to_str(t)}, \"y\") = {count(t, \"y\")}')\n",
    "    print(f'count({to_str(t)}, \"z\") = {count(t, \"z\")}')\n",
    "    \n",
    "test()"
   ]
  },
  {
   "cell_type": "markdown",
   "metadata": {},
   "source": [
    "In order to define the *Knuth-Bendix ordering* on terms, three prerequisites need to be satisfied:\n",
    "1. We need to assign a *weight* $w(f)$ to every function symbol $f$.  These weights are \n",
    "   natural numbers.  There must be at most one function symbol $g$ such that $w(g) = 0$.\n",
    "   Furthermore, if $w(g) = 0$, then $g$ has to be unary.\n",
    "   \n",
    "   We define the weights via the dictionary `Weight`, i.e. we have $w(f) = \\texttt{Weight}[f]$.\n",
    "2. We need to define a *strict order* $<$ on the set of function symbols.\n",
    "\n",
    "   This ordering is implemented via the dictionary `Ordering`.  We define\n",
    "   $$ f < g \\;\\stackrel{_\\textrm{def}}{\\Longleftrightarrow}\\; \\texttt{Ordering}[f] < \\texttt{Ordering}[f]. $$\n",
    "3. The order $<$ on the function symbols has to be *admissible* with respect to the weight function $w$, i.e. the following\n",
    "   condition needs to be satisfied:\n",
    "   $$ w(f) = 0 \\rightarrow \\forall g:  \\bigl(g \\not=f \\rightarrow g < f\\bigr). $$\n",
    "   To put this in words: If the function symbol $f$ has a weight of $0$, then \n",
    "   all other function symbols $g$ have to be smaller than $f$ w.r.t. the strict order $<$.\n",
    "   Note that this implies that there can be at most    one function symbol with $f$ such that $w(f) = 0$. \n",
    "   This function symbol $f$ is then the maximum w.r.t. the order $<$.\n",
    "   \n",
    "   Below, for efficiency reasons, the function `max_fct` returns the function symbol $f$ that is maximal w.r.t. the strict order $<$."
   ]
  },
  {
   "cell_type": "code",
   "execution_count": 30,
   "metadata": {},
   "outputs": [],
   "source": [
    "WEIGHT   = { '1': 1, '*': 1, '/': 1, '\\\\': 1, 'i': 0 }\n",
    "ORDERING = { '1': 0, '*': 1, '/': 2, '\\\\': 3, 'i': 5 }\n",
    "max_fct  = lambda: 'i' "
   ]
  },
  {
   "cell_type": "markdown",
   "metadata": {},
   "source": [
    "Given a term `t` the function `weight(t)` computes the *weight* $w(t)$, where $w(t)$ is defined by induction on $t$:\n",
    "- $w(x) := 1$ for all variables $x$,\n",
    "- $w\\bigl(f(t_1,\\cdots,t_n)\\bigr) := \\texttt{Weight}[f] + \\sum\\limits_{i=1}^n w(t_i)$."
   ]
  },
  {
   "cell_type": "code",
   "execution_count": 31,
   "metadata": {},
   "outputs": [],
   "source": [
    "def weight(t):\n",
    "    match t:\n",
    "        case '$var', _:\n",
    "            return 1\n",
    "        case f, *Ts:\n",
    "            return WEIGHT[f] + sum(weight(arg) for arg in Ts)"
   ]
  },
  {
   "cell_type": "code",
   "execution_count": 32,
   "metadata": {},
   "outputs": [
    {
     "name": "stdout",
     "output_type": "stream",
     "text": [
      "weight(x * (i(x) * 1)) = 5\n"
     ]
    }
   ],
   "source": [
    "def test():\n",
    "    t = parse_term('x * (i(x) * 1)')\n",
    "    print(f'weight({to_str(t)}) = {weight(t)}')\n",
    "    \n",
    "test()    "
   ]
  },
  {
   "cell_type": "markdown",
   "metadata": {},
   "source": [
    "Given a term `s` and a term `t`, the function `is_tower(s, t)` returns `True` iff the following is true:\n",
    "$$ \\exists n\\in\\mathbb{N}:\\bigl( n > 0 \\wedge t = f^{n}(s) \\wedge f = \\texttt{max_fct}()\\bigr). $$  \n",
    "Here the expression $f^n(s)$ is the $n$-fold application of $f$ to $s$, e.g. we have $f^1(s) = f(s)$, $f^2(s) = f(f(s))$, and in general $f^{n+1}(s) = f\\bigl(f^{n}(s)\\bigr)$."
   ]
  },
  {
   "cell_type": "code",
   "execution_count": 33,
   "metadata": {},
   "outputs": [],
   "source": [
    "def is_tower(s, t):\n",
    "    if len(t) != 2:   # f is not unary\n",
    "        return False\n",
    "    f, t1 = t\n",
    "    if f != max_fct():\n",
    "        return False\n",
    "    if t1 == s:\n",
    "        return True\n",
    "    return is_tower(s, t1)"
   ]
  },
  {
   "cell_type": "code",
   "execution_count": 34,
   "metadata": {},
   "outputs": [
    {
     "name": "stdout",
     "output_type": "stream",
     "text": [
      "is_tower(i(a), i(i(a))) = True\n"
     ]
    }
   ],
   "source": [
    "def test():\n",
    "    s = parse_term('i(a)')\n",
    "    t = parse_term('i(i(a))')\n",
    "    print(f'is_tower({to_str(s)}, {to_str(t)}) = {is_tower(s, t)}')\n",
    "    \n",
    "test()    "
   ]
  },
  {
   "cell_type": "markdown",
   "metadata": {},
   "source": [
    "The *Knuth-Bendix order* $s \\prec_{\\textrm{kbo}} t$ is defined for terms $s$ and $t$.  We have $s \\prec_{\\textrm{kbo}} t$ iff one of the following two conditions hold:\n",
    "1. $w(s) < w(t)$ and $\\texttt{count}(s, x) \\leq \\texttt{count}(t, x)$ for all variables $x$ occurring in $s$ .\n",
    "2. $w(s) = w(t)$, $\\texttt{count}(s, x) \\leq \\texttt{count}(t, x)$ for all variables $x$ occurring in $s$, and\n",
    "   one of the following subconditions holds:\n",
    "   * $t = f^n(s)$ where $n \\geq 1$ and $f$ is the maximum w.r.t. the order $<$ on function symbols,\n",
    "     i.e. we have $f = \\texttt{max_fct}()$.\n",
    "   * $s = f(s_1,\\cdots,s_m)$, $t=g(t_1,\\cdots,t_n)$, and $f<g$.\n",
    "   * $s = f(s_1,\\cdots,s_m)$, $t=f(t_1,\\cdots,t_m)$, and\n",
    "     $[s_1,\\cdots,s_m] \\prec_{\\textrm{lex}} [t_1,\\cdots,t_m]$.\n",
    "     \n",
    "     Here, $\\prec_{\\textrm{lex}}$ denotes the *lexicographic extension* of the ordering $\\prec_{\\textrm{kbo}}$ to\n",
    "     lists of terms.  It is defined as follows:\n",
    "     $$ [x] + R_1 \\prec_{\\textrm{lex}} [y] + R_2 \\;\\stackrel{_\\textrm{def}}{\\Longleftrightarrow}\\;\n",
    "      x \\prec_{\\textrm{kbo}} y \\,\\vee\\, \\bigl(x = y \\wedge R_1 \\prec_{\\textrm{lex}} R_2\\bigr)\n",
    "     $$"
   ]
  },
  {
   "cell_type": "markdown",
   "metadata": {},
   "source": [
    "Given two terms `s` and `t` the function `is_simpler(s, t)` returns `True` if $s \\prec_{\\textrm{kbo}} t$."
   ]
  },
  {
   "cell_type": "code",
   "execution_count": 35,
   "metadata": {},
   "outputs": [],
   "source": [
    "def is_simpler(s, t):\n",
    "    if is_var(t):\n",
    "        return False\n",
    "    if is_var(s):\n",
    "        _, x = s\n",
    "        return occurs(x, t)\n",
    "    Vs = find_variables(s)\n",
    "    for x in Vs:\n",
    "        if count(t, x) < count(s, x):\n",
    "            return False\n",
    "    ws = weight(s)\n",
    "    wt = weight(t)\n",
    "    if ws < wt:\n",
    "        return True    \n",
    "    if ws > wt:\n",
    "        return False\n",
    "    # ws == wt\n",
    "    if is_tower(s, t):\n",
    "        return True\n",
    "    f, *Ss = s\n",
    "    g, *Ts = t\n",
    "    if ORDERING[f] < ORDERING[g]:\n",
    "        return True\n",
    "    if ORDERING[f] > ORDERING[g]:\n",
    "        return False\n",
    "    return is_simpler_list(Ss, Ts)"
   ]
  },
  {
   "cell_type": "markdown",
   "metadata": {},
   "source": [
    "Given two lists `S` and `T` of terms, the function `is_simpler_list(S, T)` checks whether `S` is lexicographically simpler than `T` if the elements of `S` and `T` are compared with the *Knuth-Bendix ordering* $\\prec_{\\textrm{kbo}}$.  It is assumed that `S` and `T` have the same length."
   ]
  },
  {
   "cell_type": "code",
   "execution_count": 36,
   "metadata": {},
   "outputs": [],
   "source": [
    "def is_simpler_list(S, T):\n",
    "    if S == [] == T:\n",
    "        return False\n",
    "    if is_simpler(S[0], T[0]):\n",
    "        return True\n",
    "    if S[0] == T[0]:\n",
    "        return is_simpler_list(S[1:], T[1:])\n",
    "    return False"
   ]
  },
  {
   "cell_type": "code",
   "execution_count": 37,
   "metadata": {},
   "outputs": [
    {
     "name": "stdout",
     "output_type": "stream",
     "text": [
      "is_simpler(x * (y * z), (x * y) * z) = True\n",
      "is_simpler((x * y) * z, x * (y * z)) = False\n",
      "is_simpler(i(i(a)), i(a)) = False\n",
      "is_simpler(i(a), i(i(a))) = True\n"
     ]
    }
   ],
   "source": [
    "def test():\n",
    "    l = parse_term('(x * y) * z')\n",
    "    r = parse_term('x * (y * z)')\n",
    "    print(f'is_simpler({to_str(r)}, {to_str(l)}) = {is_simpler(r, l)}')\n",
    "    print(f'is_simpler({to_str(l)}, {to_str(r)}) = {is_simpler(l, r)}')\n",
    "    l = parse_term('i(a)')\n",
    "    r = parse_term('i(i(a))')\n",
    "    print(f'is_simpler({to_str(r)}, {to_str(l)}) = {is_simpler(r, l)}')\n",
    "    print(f'is_simpler({to_str(l)}, {to_str(r)}) = {is_simpler(l, r)}')\n",
    "    \n",
    "test()"
   ]
  },
  {
   "cell_type": "markdown",
   "metadata": {},
   "source": [
    "We define the class `OrderException` to be able to deal with equations that can't be ordered into a rewrite rule. "
   ]
  },
  {
   "cell_type": "code",
   "execution_count": 38,
   "metadata": {},
   "outputs": [],
   "source": [
    "class OrderException(Exception):\n",
    "    pass"
   ]
  },
  {
   "cell_type": "markdown",
   "metadata": {},
   "source": [
    "Given an equation `eq` and an `Ordering` of the function symbols occurring `eq`, the function `order_equation` orders the equation `eq` with respect to the *Knuth-Bendix ordering*, i.e. in the ordered equation, the right hand side is simpler than the left hand side.  If the left hand side and the right hand side are incomparable, the function raises an `OrderException`."
   ]
  },
  {
   "cell_type": "code",
   "execution_count": 39,
   "metadata": {},
   "outputs": [],
   "source": [
    "def order_equation(eq):\n",
    "    _, s, t = eq\n",
    "    if is_simpler(t, s):\n",
    "        return ('=', s, t)\n",
    "    elif is_simpler(s, t):\n",
    "        return ('=', t, s)\n",
    "    else:\n",
    "        Msg = f'Knuth-Bendix algorithm failed: Could not order {to_str(s)} = {to_str(t)}'\n",
    "        raise OrderException(Msg)"
   ]
  },
  {
   "cell_type": "code",
   "execution_count": 40,
   "metadata": {},
   "outputs": [
    {
     "name": "stdout",
     "output_type": "stream",
     "text": [
      "order_equation(i(i(a)) = i(i(i(i(a))))) = i(i(i(i(a)))) = i(i(a))\n"
     ]
    }
   ],
   "source": [
    "def test():\n",
    "    equation = 'i(i(a)) = i(i(i(i(a))))'\n",
    "    eq = parse_equation(equation)\n",
    "    print(f'order_equation({to_str(eq)}) = {to_str(order_equation(eq))}')\n",
    "\n",
    "test()"
   ]
  },
  {
   "cell_type": "markdown",
   "metadata": {},
   "source": [
    "[Back to top](#The-Knuth-Bendix-Completion-Algorithm)"
   ]
  },
  {
   "cell_type": "markdown",
   "metadata": {},
   "source": [
    "## Critical Pairs\n",
    "\n",
    "The central notion of the Knuth-Bendix algorithm is the notion of a *critical pair*.  \n",
    "\n",
    "Given two equations `lhs1 = rhs1` and `lhs2 = rhs2`, a pair of terms `(s, t)` is a critical pair of these equations if we have the following:\n",
    "- `u` is a non-trivial position in `lhs1`, i.e. `lhs1/u` is not a variable,\n",
    "- The subterm `lhs1/u` is unifiable with `lhs2`, i.e.\n",
    "  $$\\mu = \\texttt{mgu}(\\texttt{lhs}_1 / \\texttt{u}, \\texttt{lhs}_2) \\not= \\texttt{None},$$\n",
    "- $s = \\texttt{lhs}_1\\mu[\\texttt{u} \\mapsto \\texttt{rhs}_2\\mu]$ and $t = \\texttt{rhs}_1\\mu$. \n",
    "\n",
    "The idea is then that the term $\\texttt{lhs}_1\\mu$ can be rewritten into different ways:\n",
    "- $\\texttt{lhs}_1\\mu \\rightarrow \\texttt{rhs}_1\\mu = t$,\n",
    "- $\\texttt{lhs}_1\\mu \\rightarrow \\texttt{lhs}_1\\mu[\\texttt{u} \\mapsto \\texttt{rhs}_2\\mu] = s$.\n",
    "\n",
    "The function `critical_pairs` implemented in this section computes the critical pairs between two rewrite rules. "
   ]
  },
  {
   "cell_type": "markdown",
   "metadata": {},
   "source": [
    "Given a term `t`, the function `non_triv_positions` computes the set $\\mathcal{P}os(t)$ of all *positions* in `t` that do not point to variables.  Such positions are called *non-trivial positions*.  Given a term `t`, the set $\\mathcal{P}os(t)$ of all positions in $t$ is defined by induction on `t`. \n",
    "1. $\\mathcal{P}os(v) := \\bigl\\{()\\bigr\\} \\quad \\mbox{if $v$ is a variable} $\n",
    "2. $\\mathcal{P}os\\bigl(f(t_0,\\cdots,t_{n-1})\\bigr) := \n",
    "     \\bigl\\{()\\bigr\\} \\cup \n",
    "     \\bigl\\{ (i,) + u \\mid i \\in\\{0,\\cdots,n-1\\} \\wedge u \\in \\mathcal{P}os(t_i) \\bigr\\}\n",
    "   $\n",
    "   \n",
    "Note that since we are programming in Python, positions are zero-based.  Given a position $v$ in a term $t$, we define $t/v$ as the *subterm of $t$ at position $v$* by induction on $t$:\n",
    "1. $t/() := t$,\n",
    "2. $f(t_0,\\cdots,t_{n-1})/u := t_{u\\texttt{[0]}}/u\\texttt{[1:]}$.\n",
    "\n",
    "Given a term $s$, a term $t$, and a position $u \\in \\mathcal{P}os(t)$, we also define the *replacement of the subterm at position $u$ by $t$*, written $s[u \\mapsto t]$ by induction on $u$:\n",
    "1. $s\\bigl[() \\mapsto t\\bigr] := t$.\n",
    "2. $f(s_0,\\cdots,s_{n-1})\\bigl[\\bigl((i,) + u\\bigr) \\mapsto t\\bigr] := f\\bigl(s_0,\\cdots,s_i[u \\mapsto t],\\cdots,s_{n-1}\\bigr)$."
   ]
  },
  {
   "cell_type": "code",
   "execution_count": 42,
   "metadata": {},
   "outputs": [],
   "source": [
    "def non_triv_positions(t):\n",
    "    if is_var(t):\n",
    "        return set()\n",
    "    _, *args = t\n",
    "    Result  = { () }\n",
    "    Result |= { (i,) + a for i, arg in enumerate(args) for a in non_triv_positions(arg) }\n",
    "    return Result"
   ]
  },
  {
   "cell_type": "code",
   "execution_count": 43,
   "metadata": {},
   "outputs": [
    {
     "name": "stdout",
     "output_type": "stream",
     "text": [
      "non_triv_positions((x * i(x)) * 1) = {(0, 1), (1,), (), (0,)}\n"
     ]
    }
   ],
   "source": [
    "def test():\n",
    "    t = parse_term('(x * i(x)) * 1')\n",
    "    print(f'non_triv_positions({to_str(t)}) = {non_triv_positions(t)}')\n",
    "    \n",
    "test()"
   ]
  },
  {
   "cell_type": "markdown",
   "metadata": {},
   "source": [
    "Given a term `t` and a position `u` in `t`, the function `subterm(t, u)` extracts the subterm that is located at position `u`, i.e. it computes `t/u`. The position `u` is zero-based."
   ]
  },
  {
   "cell_type": "code",
   "execution_count": 44,
   "metadata": {},
   "outputs": [],
   "source": [
    "def subterm(t, u):\n",
    "    if len(u) == 0:\n",
    "        return t\n",
    "    _, *args = t\n",
    "    i, *ur   = u\n",
    "    return subterm(args[i], ur)"
   ]
  },
  {
   "cell_type": "code",
   "execution_count": 45,
   "metadata": {},
   "outputs": [
    {
     "name": "stdout",
     "output_type": "stream",
     "text": [
      "subterm((x * i(x)) * 1, (0,1)) = i(x)\n"
     ]
    }
   ],
   "source": [
    "def test():\n",
    "    t = parse_term('(x * i(x)) * 1')\n",
    "    print(f'subterm({to_str(t)}, (0,1)) = {to_str(subterm(t, (0,1)))}')\n",
    "    \n",
    "test()"
   ]
  },
  {
   "cell_type": "markdown",
   "metadata": {},
   "source": [
    "Given a term `t`, a position `u` in `t` and a term `s`, the function `replace_at(t, u, s)` replaces the subterm at position `u` with `t`.  The position `u` uses zero-based indexing.  Hence it returns the term\n",
    "$$ t[u \\mapsto s]. $$"
   ]
  },
  {
   "cell_type": "code",
   "execution_count": 46,
   "metadata": {},
   "outputs": [],
   "source": [
    "def replace_at(t, u, s):\n",
    "    if len(u) == 0:\n",
    "        return s\n",
    "    i, *ur   = u\n",
    "    f, *Args = t\n",
    "    NewArgs  = []\n",
    "    for j, arg in enumerate(Args):\n",
    "        if j == i:\n",
    "            NewArgs.append(replace_at(arg, ur, s))\n",
    "        else:\n",
    "            NewArgs.append(arg)\n",
    "    return (f,) + tuple(NewArgs)"
   ]
  },
  {
   "cell_type": "code",
   "execution_count": 47,
   "metadata": {},
   "outputs": [
    {
     "name": "stdout",
     "output_type": "stream",
     "text": [
      "replace_at((x * i(x)) * 1, (0,1), a * b) = (x * (a * b)) * 1\n"
     ]
    }
   ],
   "source": [
    "def test():\n",
    "    t = parse_term('(x * i(x)) * 1')\n",
    "    s = parse_term('a * b') \n",
    "    print(f'replace_at({to_str(t)}, (0,1), {to_str(s)}) = {to_str(replace_at(t, (0,1), s))}')\n",
    "\n",
    "test()"
   ]
  },
  {
   "cell_type": "markdown",
   "metadata": {},
   "source": [
    "Given two equations `eq1` and `eq2`, the function `critical_pairs(eq1, eq2)` computes the set of all *critical pairs* between these equations.  A pair of terms `(s, t)` is a critical pair of `eq1` and `eq2` if we have\n",
    "- `eq1` has the form `lhs1 = rhs1`,\n",
    "- `eq2` has the form `lhs2 = rhs2`,\n",
    "- `u` is a non-trivial position in `lhs1`,\n",
    "- $\\mu = \\texttt{mgu}(\\texttt{lhs}_1/u, \\texttt{lhs}_2) \\not= \\texttt{None}$,\n",
    "- $s = \\texttt{lhs}_1\\mu[u \\leftarrow \\texttt{rhs}_2\\mu]$ and $t = \\texttt{rhs}_1\\mu$. "
   ]
  },
  {
   "cell_type": "code",
   "execution_count": 48,
   "metadata": {},
   "outputs": [],
   "source": [
    "def critical_pairs(eq1, eq2):\n",
    "    Vars = find_variables(eq1) | find_variables(eq2)\n",
    "    eq2  = rename_variables(eq2, Vars) \n",
    "    _, lhs1, rhs1 = eq1\n",
    "    _, lhs2, rhs2 = eq2\n",
    "    Result = set()\n",
    "    Positions = non_triv_positions(lhs1)\n",
    "    for u in Positions:\n",
    "        𝜇 = unify(subterm(lhs1, u), lhs2)\n",
    "        if 𝜇 != None:\n",
    "            lhs1_new = apply(replace_at(lhs1, u, rhs2), 𝜇)\n",
    "            rhs1_new = apply(rhs1, 𝜇)\n",
    "            Result.add( (('=', lhs1_new, rhs1_new), eq1, eq2))\n",
    "    return Result"
   ]
  },
  {
   "cell_type": "code",
   "execution_count": 49,
   "metadata": {},
   "outputs": [
    {
     "name": "stdout",
     "output_type": "stream",
     "text": [
      "critical_pairs((x * y) * z = x * (y * z), i(x) * x = 1) = {1 * z = i(c) * (c * z)}\n"
     ]
    }
   ],
   "source": [
    "def test():\n",
    "    eq1 = parse_equation('(x * y) * z = x * (y * z)')\n",
    "    eq2 = parse_equation('i(x) * x = 1')\n",
    "    for ((_, s, t), _, _) in critical_pairs(eq1, eq2):\n",
    "        print(f'critical_pairs({to_str(eq1)}, {to_str(eq2)}) = ' + '{' + f'{to_str(s)} = {to_str(t)}' + '}')\n",
    "        \n",
    "test()"
   ]
  },
  {
   "cell_type": "markdown",
   "metadata": {},
   "source": [
    "[Back to top](#The-Knuth-Bendix-Completion-Algorithm)"
   ]
  },
  {
   "cell_type": "markdown",
   "metadata": {},
   "source": [
    "## The Completion Algorithm"
   ]
  },
  {
   "cell_type": "markdown",
   "metadata": {},
   "source": [
    "Given a set of `RewriteRules` and a newly derived rewrite `rule`, the function `simplify_rules(RewriteRules, rule)` adds `rule` to the set `RewriteRules`.  When the function returns, every equation in the set `RewriteRules` is in normal form with respect to all other equations in `RewriteRules`. "
   ]
  },
  {
   "cell_type": "code",
   "execution_count": 50,
   "metadata": {},
   "outputs": [],
   "source": [
    "def simplify_rules(RewriteRules, rule):\n",
    "    UnusedRules = [ rule ]\n",
    "    while UnusedRules != []:\n",
    "        UnchangedRules = set()\n",
    "        r = UnusedRules.pop()\n",
    "        for eq in RewriteRules:\n",
    "            simple = normal_form(eq, { r })\n",
    "            if simple != eq:\n",
    "                simple = normal_form(simple, RewriteRules | { r })\n",
    "                if simple[1] != simple[2]:\n",
    "                    simple = order_equation(simple)\n",
    "                    UnusedRules.append(simple)\n",
    "                    print('simplified:')\n",
    "                    print(f'old:     {to_str(eq)}')\n",
    "                    print(f'new:     {to_str(simple)}')\n",
    "                else:\n",
    "                    print(f'removed: {to_str(eq)}')\n",
    "            else:\n",
    "                UnchangedRules.add(eq)\n",
    "        RewriteRules = UnchangedRules | { r }\n",
    "    return RewriteRules"
   ]
  },
  {
   "cell_type": "markdown",
   "metadata": {},
   "source": [
    "The function `print_equations` prints the set of `Equations` one by one and numbers them."
   ]
  },
  {
   "cell_type": "code",
   "execution_count": 51,
   "metadata": {},
   "outputs": [],
   "source": [
    "def print_equations(Equations):\n",
    "    cnt = 1\n",
    "    for _, l, r in Equations:\n",
    "        print(f'{cnt}. {to_str(l)} = {to_str(r)}')\n",
    "        cnt += 1"
   ]
  },
  {
   "cell_type": "markdown",
   "metadata": {},
   "source": [
    "Given an equation `eq` of the form `eq = ('=', lhs, rhs)`, the function `complexity(eq)` computes a measure of complexity for the given equation.   This measure of complexity is the length of the string that represents the equation.  This measure of complexity is later used to choose between equations: Less complex equations are more interesting and should be considered first when computing critical pairs."
   ]
  },
  {
   "cell_type": "code",
   "execution_count": 52,
   "metadata": {},
   "outputs": [],
   "source": [
    "def complexity(eq):\n",
    "    return len(to_str(eq))"
   ]
  },
  {
   "cell_type": "markdown",
   "metadata": {},
   "source": [
    "Given a set of equations `RewriteRules` and a single rewrite rule `eq`, the function `all_critical_pairs(RewriteRules, eq)` computes the set of all *critical pairs* that can be build by building critical pairs with an equation from `RewriteRules` and the equation `eq`.  It is assumed that `eq` is already an element of `RewriteRules`.  "
   ]
  },
  {
   "cell_type": "code",
   "execution_count": 53,
   "metadata": {},
   "outputs": [],
   "source": [
    "def all_critical_pairs(RewriteRules, eq):\n",
    "    Result = set()\n",
    "    for eq1 in RewriteRules:\n",
    "        Result |= { cp for cp in critical_pairs(eq1, eq) }\n",
    "        Result |= { cp for cp in critical_pairs(eq, eq1) }\n",
    "    return Result"
   ]
  },
  {
   "cell_type": "markdown",
   "metadata": {},
   "source": [
    "The module `heapq` provides heap-based priority queues, which are implemented as lists."
   ]
  },
  {
   "cell_type": "code",
   "execution_count": 54,
   "metadata": {},
   "outputs": [],
   "source": [
    "import heapq as hq"
   ]
  },
  {
   "cell_type": "markdown",
   "metadata": {},
   "source": [
    "Given a file name that contains a set of equations and a dictionary encoding an ordering of the function symbols, the function `knuth_bendix_algorithm` implements the *Knuth-Bendix algorithm*:\n",
    "1. The equations read from the file are oriented into rewrite rules.\n",
    "2. These oriented equations are pushed onto the priority queue `EquationQueue` according to their complexity.\n",
    "3. The set `RewriteRules` is initialized as the empty set.  The idea is that all critical pairs between\n",
    "   equations in `RewriteRules` have already been computed and that the resulting new equations have been added\n",
    "   to the priority queue `EquationQueue`. \n",
    "4. As long as the priority queue `EquationQueue` is not empty, the least complex equation `eq` is removed from the \n",
    "   priority queue and simplified using the known `RewriteRules`.  \n",
    "5. If the simplified version of `eq` is not trivial, all critical pairs between `eq` and the \n",
    "   existing `RewriteRules` are computed.  The resulting equations are pushed onto the priority queue `EquationQueue`.\n",
    "6. When no new critical pairs can be found, the set of `RewriteRules` is returned.\n",
    "   This set is then guaranteed to be a *confluent* set of rewrite rules."
   ]
  },
  {
   "cell_type": "code",
   "execution_count": 55,
   "metadata": {},
   "outputs": [],
   "source": [
    "def knuth_bendix_algorithm(file):\n",
    "    Equations    = set()\n",
    "    Axioms       = set(parse_file(file))\n",
    "    RewriteRules = set()\n",
    "    try:\n",
    "        for eq in Axioms:\n",
    "            ordered_eq = order_equation(eq)\n",
    "            Equations.add(ordered_eq)\n",
    "            print(f'given:   {to_str(ordered_eq)}')\n",
    "        EquationQueue = []\n",
    "        for eq in Equations:\n",
    "            hq.heappush(EquationQueue, (complexity(eq), eq))\n",
    "        while EquationQueue != []:\n",
    "            _, eq = hq.heappop(EquationQueue)\n",
    "            eq = normal_form(eq, RewriteRules)\n",
    "            if eq[1] != eq[2]:\n",
    "                lr = order_equation(eq)\n",
    "                print(f'added:   {to_str(lr)}')\n",
    "                Pairs = all_critical_pairs(RewriteRules | { lr }, lr)\n",
    "                for eq, r1, r2 in Pairs:\n",
    "                    new_eq = normal_form(eq, RewriteRules)\n",
    "                    if new_eq[1] != new_eq[2]:\n",
    "                        print(f'found:   {to_str(eq)} from {to_str(r1)}, {to_str(r2)}')\n",
    "                        hq.heappush(EquationQueue, (complexity(new_eq), new_eq))\n",
    "                RewriteRules = simplify_rules(RewriteRules, lr)\n",
    "    except OrderException as e:\n",
    "        print(e)\n",
    "    print()\n",
    "    print_equations(RewriteRules)\n",
    "    return RewriteRules"
   ]
  },
  {
   "cell_type": "markdown",
   "metadata": {},
   "source": [
    "[Back to top](#The-Knuth-Bendix-Completion-Algorithm)"
   ]
  },
  {
   "cell_type": "markdown",
   "metadata": {},
   "source": [
    "## Examples"
   ]
  },
  {
   "cell_type": "markdown",
   "metadata": {},
   "source": [
    "In this section we present a number of examples where the *Knuth-Bendix completion* algorithm is able to produce a confluent system of equations.  In detail, we discuss the following examples:\n",
    "1. [Group Theory](#Group-Theory)\n",
    "2. [Central Groupoids](#Central-Groupoids)\n",
    "3. [Quasigroups](#Quasigroups)\n",
    "4. [Quasigroups with Idempotence](#Quasigroups-with-Idempotence)\n",
    "5. [Quasigroups with Unipotence](#Quasigroups-with-Unipotence)\n",
    "6. [Loops](#Loops)"
   ]
  },
  {
   "cell_type": "markdown",
   "metadata": {},
   "source": [
    "### Group Theory\n",
    "\n",
    "A structure $\\mathcal{G} = \\langle G, 1, *, i \\rangle$ is a [group](https://en.wikipedia.org/wiki/Group_(mathematics)) iff\n",
    "1. $G$ is a set.\n",
    "2. $1 \\in G$,\n",
    "\n",
    "   where $1$ is called the *left-neutral element*.\n",
    "3. $*: G \\times G \\rightarrow G$,\n",
    "\n",
    "   where $*$ is called the *multiplication* of $\\mathcal{G}$.\n",
    "4. $i: G \\rightarrow G$,\n",
    "\n",
    "   where for any $x \\in G$ the element $i(x)$ is called the *left-inverse* of $x$.\n",
    "5. The following equations hold for all $x,y,z \\in G$:\n",
    "   * $1 * x = x$, i.e. $1$ is a *left-neutral element*.\n",
    "   * $i(x) * x = 1$, i.e. $i(x)$ is a *left-inverse* of $x$.\n",
    "   * $(x * y) * z = x * (y * z)$, i.e. the multiplication is *associative*.\n",
    "\n",
    "A typical example of a group is the set of invertible $n \\times n$ matrices.\n",
    "\n",
    "Given the axioms defining a group, the *Knuth-Bendix completion* algorithm is able to prove the following:\n",
    "1. The *left neutral element* is also a *right neutral element*, we have:\n",
    "   $$ x * 1 = x \\quad \\mbox{for all $x\\in G$.} $$\n",
    "2. The *left inverse* is also a *right inverse*, we have:\n",
    "   $$ x * i(x) = 1 \\quad \\mbox{for all $x\\in G$.} $$\n",
    "3. The operations $i$ and $*$ commute as follows:\n",
    "   $$ i(x * y) = i(y) * i(x) \\quad \\mbox{for all $x,y\\in G$.}$$"
   ]
  },
  {
   "cell_type": "code",
   "execution_count": 56,
   "metadata": {},
   "outputs": [
    {
     "name": "stdout",
     "output_type": "stream",
     "text": [
      "      1 * x = x;\r\n",
      "   i(x) * x = 1;\r\n",
      "(x * y) * z = x * (y * z);"
     ]
    }
   ],
   "source": [
    "!cat Examples/group-theory-1.eqn || type Examples\\group-theory-1.eqn"
   ]
  },
  {
   "cell_type": "code",
   "execution_count": 57,
   "metadata": {
    "scrolled": false
   },
   "outputs": [
    {
     "name": "stdout",
     "output_type": "stream",
     "text": [
      "given:   (x * y) * z = x * (y * z)\n",
      "given:   1 * x = x\n",
      "given:   i(x) * x = 1\n",
      "added:   1 * x = x\n",
      "added:   i(x) * x = 1\n",
      "added:   (x * y) * z = x * (y * z)\n",
      "found:   (c * (a * b)) * z = (c * a) * (b * z) from (x * y) * z = x * (y * z), (c * a) * b = c * (a * b)\n",
      "found:   1 * z = i(c) * (c * z) from (x * y) * z = x * (y * z), i(c) * c = 1\n",
      "added:   i(c) * (c * z) = z\n",
      "found:   i(e * a) * (e * (a * b)) = b from i(c) * (c * z) = z, (e * a) * b = e * (a * b)\n",
      "found:   i(i(d)) * 1 = d from i(c) * (c * z) = z, i(d) * d = 1\n",
      "found:   i(i(b)) * a = b * a from i(c) * (c * z) = z, i(b) * (b * a) = a\n",
      "found:   i(1) * d = d from i(c) * (c * z) = z, 1 * d = d\n",
      "found:   b * z = i(d) * ((d * b) * z) from (x * y) * z = x * (y * z), i(d) * (d * b) = b\n",
      "added:   i(1) * d = d\n",
      "found:   i(i(1)) * e = e from i(c) * (c * z) = z, i(1) * e = e\n",
      "found:   c * z = i(1) * (c * z) from (x * y) * z = x * (y * z), i(1) * c = c\n",
      "added:   i(i(d)) * 1 = d\n",
      "found:   c * z = i(i(c)) * (1 * z) from (x * y) * z = x * (y * z), i(i(c)) * 1 = c\n",
      "found:   i(i(i(e))) * e = 1 from i(c) * (c * z) = z, i(i(e)) * 1 = e\n",
      "added:   i(i(1)) * e = e\n",
      "found:   i(i(i(1))) * d = d from i(c) * (c * z) = z, i(i(1)) * d = d\n",
      "found:   i(1) = 1 from i(x) * x = 1, i(i(1)) * a = a\n",
      "found:   c * z = i(i(1)) * (c * z) from (x * y) * z = x * (y * z), i(i(1)) * c = c\n",
      "found:   1 = i(1) from i(i(1)) * e = e, i(b) * b = 1\n",
      "added:   i(1) = 1\n",
      "removed: i(1) * d = d\n",
      "removed: i(i(1)) * e = e\n",
      "added:   i(i(i(e))) * e = 1\n",
      "found:   1 * z = i(i(i(c))) * (c * z) from (x * y) * z = x * (y * z), i(i(i(c))) * c = 1\n",
      "found:   i(i(i(i(d)))) * 1 = d from i(c) * (c * z) = z, i(i(i(d))) * d = 1\n",
      "added:   i(i(d)) = d\n",
      "found:   a * 1 = a from i(i(d)) * 1 = d, i(i(a)) = a\n",
      "found:   a * i(a) = 1 from i(x) * x = 1, i(i(a)) = a\n",
      "found:   i(a) * 1 = i(a) from i(i(d)) * 1 = d, i(i(a)) = a\n",
      "found:   e * (i(e) * z) = z from i(c) * (c * z) = z, i(i(e)) = e\n",
      "simplified:\n",
      "old:     i(i(d)) * 1 = d\n",
      "new:     d * 1 = d\n",
      "removed: i(i(i(e))) * e = 1\n",
      "added:   a * i(a) = 1\n",
      "found:   1 * z = d * (i(d) * z) from (x * y) * z = x * (y * z), d * i(d) = 1\n",
      "found:   e * (b * i(e * b)) = 1 from a * i(a) = 1, (e * b) * c = e * (b * c)\n",
      "found:   1 = x * (y * i(x * y)) from (x * y) * z = x * (y * z), d * i(d) = 1\n",
      "added:   d * (i(d) * z) = z\n",
      "found:   b * z = c * ((i(c) * b) * z) from (x * y) * z = x * (y * z), c * (i(c) * b) = b\n",
      "found:   c * (a * (i(c * a) * z)) = z from d * (i(d) * z) = z, (c * a) * b = c * (a * b)\n",
      "found:   b = x * (y * (i(x * y) * b)) from (x * y) * z = x * (y * z), c * (i(c) * b) = b\n",
      "added:   e * (b * i(e * b)) = 1\n",
      "found:   i(g) * 1 = d * i(g * d) from i(c) * (c * z) = z, g * (d * i(g * d)) = 1\n",
      "found:   1 * z = f * ((d * i(f * d)) * z) from (x * y) * z = x * (y * z), f * (d * i(f * d)) = 1\n",
      "found:   (g * a) * (d * i(g * (a * d))) = 1 from e * (b * i(e * b)) = 1, (g * a) * d = g * (a * d)\n",
      "found:   d * 1 = c * i(i(d) * c) from d * (i(d) * z) = z, f * (c * i(f * c)) = 1\n",
      "found:   c * ((a * i(c * a)) * i(1)) = 1 from e * (b * i(e * b)) = 1, c * (a * i(c * a)) = 1\n",
      "found:   g * (a * (b * i((g * a) * b))) = 1 from e * (b * i(e * b)) = 1, (g * a) * d = g * (a * d)\n",
      "found:   1 = x * (y * (d * i((x * y) * d))) from (x * y) * z = x * (y * z), f * (d * i(f * d)) = 1\n",
      "found:   e * (g * (a * i(e * (g * a)))) = 1 from e * (b * i(e * b)) = 1, (g * a) * d = g * (a * d)\n",
      "added:   c * i(i(d) * c) = d\n",
      "found:   (a * i(i(d) * a)) * i(1) = d from c * i(i(d) * c) = d, g * (a * i(g * a)) = 1\n",
      "found:   i(b) * e = i(i(e) * b) from i(c) * (c * z) = z, b * i(i(e) * b) = e\n",
      "found:   f * (i(i(h) * f) * i(h)) = 1 from e * (b * i(e * b)) = 1, f * i(i(h) * f) = h\n",
      "found:   f = x * (y * i(i(f) * (x * y))) from (x * y) * z = x * (y * z), e * i(i(f) * e) = f\n",
      "found:   c * i(b * c) = i(b) from c * i(i(d) * c) = d, i(i(b)) = b\n",
      "found:   d * e = i(i(e) * i(d)) from d * (i(d) * z) = z, b * i(i(e) * b) = e\n",
      "found:   f * z = e * (i(i(f) * e) * z) from (x * y) * z = x * (y * z), e * i(i(f) * e) = f\n",
      "found:   f * (a * i(i(d) * (f * a))) = d from c * i(i(d) * c) = d, (f * a) * b = f * (a * b)\n",
      "found:   i(i(b) * i(d)) * i(b) = d from c * i(i(d) * c) = d, a * i(i(b) * a) = b\n",
      "added:   c * i(b * c) = i(b)\n",
      "found:   i(i(f) * e) * i(f) = i(e) from c * i(b * c) = i(b), e * i(i(f) * e) = f\n",
      "found:   i(e) = x * (y * i(e * (x * y))) from (x * y) * z = x * (y * z), f * i(e * f) = i(e)\n",
      "found:   d * i(e) = i(e * i(d)) from d * (i(d) * z) = z, f * i(e * f) = i(e)\n",
      "found:   g * (a * i(b * (g * a))) = i(b) from c * i(b * c) = i(b), (g * a) * e = g * (a * e)\n",
      "found:   i(a * i(d)) * i(i(a)) = d from c * i(i(d) * c) = d, e * i(a * e) = i(a)\n",
      "found:   e * i(g * (a * e)) = i(g * a) from c * i(b * c) = i(b), (g * a) * e = g * (a * e)\n",
      "found:   i(e) * z = f * (i(e * f) * z) from (x * y) * z = x * (y * z), f * i(e * f) = i(e)\n",
      "found:   i(a * d) * i(i(a)) = i(d) from c * i(b * c) = i(b), d * i(a * d) = i(a)\n",
      "found:   (a * i(f * a)) * i(1) = i(f) from c * i(b * c) = i(b), f * (a * i(f * a)) = 1\n",
      "found:   d * (i(a * d) * i(i(a))) = 1 from e * (b * i(e * b)) = 1, d * i(a * d) = i(a)\n",
      "found:   i(e) * i(d) = i(d * e) from i(c) * (c * z) = z, e * i(d * e) = i(d)\n",
      "removed: e * (b * i(e * b)) = 1\n",
      "removed: c * i(i(d) * c) = d\n",
      "added:   i(a * d) * a = i(d)\n",
      "found:   i(e * (b * c)) * (e * b) = i(c) from i(a * d) * a = i(d), (e * b) * c = e * (b * c)\n",
      "found:   i(b) * i(e) = i(e * b) from i(a * d) * a = i(d), i(e) * (e * b) = b\n",
      "found:   i(b) * e = i(i(e) * b) from i(a * d) * a = i(d), e * (i(e) * b) = b\n",
      "found:   i(e) * z = i(f * e) * (f * z) from (x * y) * z = x * (y * z), i(f * e) * f = i(e)\n",
      "added:   i(i(e) * i(d)) = d * e\n",
      "found:   i(b * a) = i(a) * i(b) from i(i(d)) = d, i(i(a) * i(b)) = b * a\n",
      "found:   i(b * i(d)) = d * i(b) from i(i(e) * i(d)) = d * e, i(i(b)) = b\n",
      "found:   i(i(e) * (b * a)) = (i(a) * i(b)) * e from i(i(e) * i(d)) = d * e, i(i(a) * i(b)) = b * a\n",
      "found:   i((b * a) * i(d)) = d * (i(a) * i(b)) from i(i(e) * i(d)) = d * e, i(i(a) * i(b)) = b * a\n",
      "found:   i(i(e) * b) = i(b) * e from i(i(e) * i(d)) = d * e, i(i(b)) = b\n",
      "added:   i(e * i(d)) = d * i(e)\n",
      "found:   i(e * b) = i(b) * i(e) from i(e * i(d)) = d * i(e), i(i(b)) = b\n",
      "found:   i((b * i(a)) * i(d)) = d * (a * i(b)) from i(i(e) * i(d)) = d * e, i(a * i(b)) = b * i(a)\n",
      "found:   i(e * (b * a)) = (i(a) * i(b)) * i(e) from i(e * i(d)) = d * i(e), i(i(a) * i(b)) = b * a\n",
      "found:   i(e * (b * i(a))) = (a * i(b)) * i(e) from i(e * i(d)) = d * i(e), i(a * i(b)) = b * i(a)\n",
      "found:   i(b * i(a)) = a * i(b) from i(i(d)) = d, i(a * i(b)) = b * i(a)\n",
      "found:   i(i(e) * (b * i(a))) = (a * i(b)) * e from i(i(e) * i(d)) = d * e, i(a * i(b)) = b * i(a)\n",
      "found:   i(f * (a * i(d))) = d * i(f * a) from i(e * i(d)) = d * i(e), (f * a) * b = f * (a * b)\n",
      "removed: i(i(e) * i(d)) = d * e\n",
      "added:   i(i(e) * b) = i(b) * e\n",
      "found:   i((f * i(c)) * b) = i(b) * (c * i(f)) from i(i(e) * b) = i(b) * e, i(c * i(f)) = f * i(c)\n",
      "found:   i(e * (i(a) * c)) = (i(c) * a) * i(e) from i(e * i(d)) = d * i(e), i(i(c) * a) = i(a) * c\n",
      "found:   i(i(a) * c) = i(c) * a from i(i(d)) = d, i(i(c) * a) = i(a) * c\n",
      "found:   i(f * b) = i(b) * i(f) from i(i(e) * b) = i(b) * e, i(i(f)) = f\n",
      "found:   i((i(a) * c) * b) = i(b) * (i(c) * a) from i(i(e) * b) = i(b) * e, i(i(c) * a) = i(a) * c\n",
      "added:   i(e * b) = i(b) * i(e)\n",
      "found:   i(g * (a * d)) = i(d) * i(g * a) from i(e * b) = i(b) * i(e), (g * a) * d = g * (a * d)\n",
      "found:   i(e * (i(a) * i(c))) = (c * a) * i(e) from i(e * i(d)) = d * i(e), i(c * a) = i(a) * i(c)\n",
      "removed: c * i(b * c) = i(b)\n",
      "removed: i(e * i(d)) = d * i(e)\n",
      "removed: i(i(e) * b) = i(b) * e\n",
      "removed: i(a * d) * a = i(d)\n",
      "\n",
      "1. (x * y) * z = x * (y * z)\n",
      "2. i(c) * (c * z) = z\n",
      "3. i(x) * x = 1\n",
      "4. d * 1 = d\n",
      "5. i(i(d)) = d\n",
      "6. i(1) = 1\n",
      "7. i(e * b) = i(b) * i(e)\n",
      "8. a * i(a) = 1\n",
      "9. 1 * x = x\n",
      "10. d * (i(d) * z) = z\n",
      "CPU times: user 74 ms, sys: 4.55 ms, total: 78.5 ms\n",
      "Wall time: 76 ms\n"
     ]
    }
   ],
   "source": [
    "%%time\n",
    "Rules = knuth_bendix_algorithm('Examples/group-theory-1.eqn')"
   ]
  },
  {
   "cell_type": "markdown",
   "metadata": {},
   "source": [
    "It is natural to ask whether the axiom describing the *left neutral element* and the axiom describing the *left inverse* can be replaced by corresponding axioms that require $1$ to be a *right neutral element* and $i(x)$ to be a *right inverse*.  The *Knuth-Bendix completion* algorithm shows that this is indeed the case."
   ]
  },
  {
   "cell_type": "code",
   "execution_count": 58,
   "metadata": {},
   "outputs": [
    {
     "name": "stdout",
     "output_type": "stream",
     "text": [
      "      x * 1 = x;\r\n",
      "   x * i(x) = 1;\r\n",
      "(x * y) * z = x * (y * z);"
     ]
    }
   ],
   "source": [
    "!cat Examples/group-theory-2.eqn || type Examples\\group-theory-2.eqn"
   ]
  },
  {
   "cell_type": "code",
   "execution_count": 59,
   "metadata": {
    "scrolled": false
   },
   "outputs": [
    {
     "name": "stdout",
     "output_type": "stream",
     "text": [
      "given:   (x * y) * z = x * (y * z)\n",
      "given:   x * 1 = x\n",
      "given:   x * i(x) = 1\n",
      "added:   x * 1 = x\n",
      "added:   x * i(x) = 1\n",
      "added:   (x * y) * z = x * (y * z)\n",
      "found:   c * z = c * (1 * z) from (x * y) * z = x * (y * z), c * 1 = c\n",
      "found:   (c * (a * b)) * z = (c * a) * (b * z) from (x * y) * z = x * (y * z), (c * a) * b = c * (a * b)\n",
      "found:   1 = x * (y * i(x * y)) from (x * y) * z = x * (y * z), c * i(c) = 1\n",
      "found:   c * (a * i(c * a)) = 1 from x * i(x) = 1, (c * a) * b = c * (a * b)\n",
      "found:   1 * z = c * (i(c) * z) from (x * y) * z = x * (y * z), c * i(c) = 1\n",
      "added:   c * (1 * z) = c * z\n",
      "found:   e * (a * (1 * z)) = (e * a) * z from c * (1 * z) = c * z, (e * a) * b = e * (a * b)\n",
      "found:   (d * b) * z = d * ((1 * b) * z) from (x * y) * z = x * (y * z), d * (1 * b) = d * b\n",
      "found:   (x * y) * b = x * (y * (1 * b)) from (x * y) * z = x * (y * z), d * (1 * b) = d * b\n",
      "found:   c * 1 = c * i(1) from c * (1 * z) = c * z, d * i(d) = 1\n",
      "added:   c * i(1) = c\n",
      "found:   d * z = d * (i(1) * z) from (x * y) * z = x * (y * z), d * i(1) = d\n",
      "found:   c * 1 = c * i(1) from c * (1 * z) = c * z, b * i(1) = b\n",
      "found:   e * (a * i(1)) = e * a from c * i(1) = c, (e * a) * b = e * (a * b)\n",
      "found:   x * y = x * (y * i(1)) from (x * y) * z = x * (y * z), d * i(1) = d\n",
      "added:   c * (a * i(c * a)) = 1\n",
      "found:   c * (g * (b * i(c * (g * b)))) = 1 from c * (a * i(c * a)) = 1, (g * b) * d = g * (b * d)\n",
      "found:   g * (b * (a * i((g * b) * a))) = 1 from c * (a * i(c * a)) = 1, (g * b) * d = g * (b * d)\n",
      "found:   b * ((d * i(b * d)) * i(1)) = 1 from c * (a * i(c * a)) = 1, b * (d * i(b * d)) = 1\n",
      "found:   b * (i(1) * i(b)) = 1 from c * (a * i(c * a)) = 1, b * i(1) = b\n",
      "found:   1 * z = e * ((f * i(e * f)) * z) from (x * y) * z = x * (y * z), e * (f * i(e * f)) = 1\n",
      "found:   d * ((1 * b) * i(d * b)) = 1 from c * (a * i(c * a)) = 1, d * (1 * b) = d * b\n",
      "found:   1 = x * (y * (f * i((x * y) * f))) from (x * y) * z = x * (y * z), e * (f * i(e * f)) = 1\n",
      "found:   c * 1 = c * (e * i(1 * e)) from c * (1 * z) = c * z, d * (e * i(d * e)) = 1\n",
      "found:   (g * b) * (d * i(g * (b * d))) = 1 from c * (a * i(c * a)) = 1, (g * b) * d = g * (b * d)\n",
      "added:   b * (i(1) * i(b)) = 1\n",
      "found:   i(1) * 1 = 1 from b * (i(1) * i(b)) = 1, c * i(c) = 1\n",
      "found:   e * (c * (i(1) * i(e * c))) = 1 from b * (i(1) * i(b)) = 1, (e * c) * a = e * (c * a)\n",
      "found:   1 * z = d * ((i(1) * i(d)) * z) from (x * y) * z = x * (y * z), d * (i(1) * i(d)) = 1\n",
      "found:   1 = x * (y * (i(1) * i(x * y))) from (x * y) * z = x * (y * z), d * (i(1) * i(d)) = 1\n",
      "found:   d * ((i(1) * i(d)) * i(1)) = 1 from c * (a * i(c * a)) = 1, d * (i(1) * i(d)) = 1\n",
      "added:   i(1) = 1\n",
      "removed: b * (i(1) * i(b)) = 1\n",
      "removed: c * i(1) = c\n",
      "added:   c * (e * i(1 * e)) = c\n",
      "found:   c * 1 = c * (d * i(1 * d)) from c * (1 * z) = c * z, b * (d * i(1 * d)) = b\n",
      "found:   c * ((b * i(1 * b)) * i(1)) = c from c * (e * i(1 * e)) = c, d * (b * i(d * b)) = 1\n",
      "found:   c * ((1 * a) * i(1 * a)) = c from c * (e * i(1 * e)) = c, b * (1 * a) = b * a\n",
      "found:   d * z = d * ((f * i(1 * f)) * z) from (x * y) * z = x * (y * z), d * (f * i(1 * f)) = d\n",
      "found:   g * (a * (e * i(1 * e))) = g * a from c * (e * i(1 * e)) = c, (g * a) * b = g * (a * b)\n",
      "found:   x * y = x * (y * (f * i(1 * f))) from (x * y) * z = x * (y * z), d * (f * i(1 * f)) = d\n",
      "found:   c * ((b * i(1 * b)) * i(1)) = c from c * (e * i(1 * e)) = c, a * (b * i(1 * b)) = a\n",
      "found:   c * (g * (a * i(1 * (g * a)))) = c from c * (e * i(1 * e)) = c, (g * a) * b = g * (a * b)\n",
      "found:   d * ((b * i(1 * b)) * i(d)) = 1 from c * (a * i(c * a)) = 1, d * (b * i(1 * b)) = d\n",
      "added:   c * (i(c) * z) = 1 * z\n",
      "found:   1 * i(1 * i(b)) = b from c * (e * i(1 * e)) = c, b * (i(b) * a) = 1 * a\n",
      "found:   1 * b = x * (y * (i(x * y) * b)) from (x * y) * z = x * (y * z), d * (i(d) * b) = 1 * b\n",
      "found:   b = 1 * i(1 * i(b)) from c * (i(c) * z) = 1 * z, b * (d * i(1 * d)) = b\n",
      "found:   c * 1 = 1 * i(i(c)) from c * (i(c) * z) = 1 * z, d * i(d) = 1\n",
      "found:   c * (1 * a) = 1 * (i(i(c)) * a) from c * (i(c) * z) = 1 * z, b * (i(b) * a) = 1 * a\n",
      "found:   e * (a * (i(e * a) * z)) = 1 * z from c * (i(c) * z) = 1 * z, (e * a) * b = e * (a * b)\n",
      "found:   c * (i(c) * a) = 1 * (1 * a) from c * (i(c) * z) = 1 * z, b * (1 * a) = b * a\n",
      "found:   (1 * b) * z = d * ((i(d) * b) * z) from (x * y) * z = x * (y * z), d * (i(d) * b) = 1 * b\n",
      "found:   c * 1 = 1 * (e * i(i(c) * e)) from c * (i(c) * z) = 1 * z, d * (e * i(d * e)) = 1\n",
      "added:   1 * i(i(c)) = c\n",
      "found:   1 * (i(i(b)) * i(b)) = 1 from c * (a * i(c * a)) = 1, 1 * i(i(b)) = b\n",
      "found:   c * b = c * i(i(b)) from c * (1 * z) = c * z, 1 * i(i(b)) = b\n",
      "found:   c * (i(i(a)) * i(a)) = c from c * (e * i(1 * e)) = c, 1 * i(i(a)) = a\n",
      "found:   d * z = 1 * (i(i(d)) * z) from (x * y) * z = x * (y * z), 1 * i(i(d)) = d\n",
      "added:   1 * i(1 * i(b)) = b\n",
      "found:   c * (i(1 * i(a)) * i(a)) = c from c * (e * i(1 * e)) = c, 1 * i(1 * i(a)) = a\n",
      "found:   d * z = 1 * (i(1 * i(d)) * z) from (x * y) * z = x * (y * z), 1 * i(1 * i(d)) = d\n",
      "found:   1 * (i(1 * i(d)) * i(d)) = 1 from c * (a * i(c * a)) = 1, 1 * i(1 * i(d)) = d\n",
      "found:   1 * i(d) = i(d) from 1 * i(1 * i(b)) = b, 1 * i(i(d)) = d\n",
      "found:   c * d = c * i(1 * i(d)) from c * (1 * z) = c * z, 1 * i(1 * i(d)) = d\n",
      "added:   1 * i(d) = i(d)\n",
      "found:   i(c) * z = 1 * (i(c) * z) from (x * y) * z = x * (y * z), 1 * i(c) = i(c)\n",
      "found:   i(i(c)) = c from 1 * i(i(c)) = c, 1 * i(b) = i(b)\n",
      "found:   a = i(1 * i(a)) from 1 * i(d) = i(d), 1 * i(1 * i(a)) = a\n",
      "found:   i(1 * i(b)) = b from 1 * i(1 * i(b)) = b, 1 * i(c) = i(c)\n",
      "found:   a = i(i(a)) from 1 * i(d) = i(d), 1 * i(i(a)) = a\n",
      "simplified:\n",
      "old:     1 * i(i(c)) = c\n",
      "new:     i(i(c)) = c\n",
      "simplified:\n",
      "old:     1 * i(1 * i(b)) = b\n",
      "new:     i(i(b)) = b\n",
      "removed: i(i(b)) = b\n",
      "added:   1 * (e * i(i(c) * e)) = c\n",
      "found:   1 * (e * i(a * e)) = i(a) from 1 * (e * i(i(c) * e)) = c, i(i(a)) = a\n",
      "found:   1 * (g * (a * i(i(c) * (g * a)))) = c from 1 * (e * i(i(c) * e)) = c, (g * a) * b = g * (a * b)\n",
      "found:   d * z = 1 * ((f * i(i(d) * f)) * z) from (x * y) * z = x * (y * z), 1 * (f * i(i(d) * f)) = d\n",
      "found:   1 * (i(i(c)) * i(1)) = c from 1 * (e * i(i(c) * e)) = c, d * i(d) = 1\n",
      "found:   1 * ((b * i(1 * b)) * i(i(c))) = c from 1 * (e * i(i(c) * e)) = c, a * (b * i(1 * b)) = a\n",
      "found:   1 * ((b * i(i(d) * b)) * i(d)) = 1 from c * (a * i(c * a)) = 1, 1 * (b * i(i(d) * b)) = d\n",
      "found:   1 * ((b * i(i(c) * b)) * i(1)) = c from 1 * (e * i(i(c) * e)) = c, d * (b * i(d * b)) = 1\n",
      "found:   c * ((b * i(i(a) * b)) * i(a)) = c from c * (e * i(1 * e)) = c, 1 * (b * i(i(a) * b)) = a\n",
      "found:   1 * ((1 * a) * i(i(c) * a)) = c from 1 * (e * i(i(c) * e)) = c, b * (1 * a) = b * a\n",
      "found:   c * b = c * (d * i(i(b) * d)) from c * (1 * z) = c * z, 1 * (d * i(i(b) * d)) = b\n",
      "added:   1 * c = c\n",
      "found:   e * i(1 * e) = 1 from c * (e * i(1 * e)) = c, 1 * a = a\n",
      "found:   e * i(i(c) * e) = c from 1 * (e * i(i(c) * e)) = c, 1 * a = a\n",
      "found:   1 = d * i(1 * d) from 1 * c = c, b * (d * i(b * d)) = 1\n",
      "found:   1 = b * i(1 * b) from 1 * c = c, a * (b * i(1 * b)) = a\n",
      "found:   a = b * i(i(a) * b) from 1 * c = c, 1 * (b * i(i(a) * b)) = a\n",
      "found:   a * i(1 * a) = 1 from c * (a * i(c * a)) = 1, 1 * b = b\n",
      "found:   d * z = 1 * (d * z) from (x * y) * z = x * (y * z), 1 * d = d\n",
      "removed: c * (e * i(1 * e)) = c\n",
      "removed: c * (1 * z) = c * z\n",
      "simplified:\n",
      "old:     1 * (e * i(i(c) * e)) = c\n",
      "new:     e * i(i(c) * e) = c\n",
      "removed: 1 * i(d) = i(d)\n",
      "removed: c * (i(c) * z) = 1 * z\n",
      "added:   e * i(a * e) = i(a)\n",
      "found:   i(b * i(c)) * i(i(b)) = c from e * i(i(c) * e) = c, f * i(b * f) = i(b)\n",
      "found:   i(i(d) * b) * i(d) = i(b) from e * i(a * e) = i(a), b * i(i(d) * b) = d\n",
      "found:   i(f) * z = d * (i(f * d) * z) from (x * y) * z = x * (y * z), d * i(f * d) = i(f)\n",
      "found:   i(f) = x * (y * i(f * (x * y))) from (x * y) * z = x * (y * z), d * i(f * d) = i(f)\n",
      "found:   c * i(g * (b * c)) = i(g * b) from e * i(a * e) = i(a), (g * b) * c = g * (b * c)\n",
      "found:   (f * i(d * f)) * i(1) = i(d) from e * i(a * e) = i(a), d * (f * i(d * f)) = 1\n",
      "found:   b * (i(f * b) * i(i(f))) = 1 from c * (a * i(c * a)) = 1, b * i(f * b) = i(f)\n",
      "found:   i(c * b) * i(i(c)) = i(b) from e * i(a * e) = i(a), b * i(c * b) = i(c)\n",
      "found:   g * (b * i(a * (g * b))) = i(a) from e * i(a * e) = i(a), (g * b) * c = g * (b * c)\n",
      "removed: c * (a * i(c * a)) = 1\n",
      "removed: e * i(i(c) * e) = c\n",
      "added:   i(b * i(c)) * b = c\n",
      "found:   i(b * d) * b = i(d) from i(b * i(c)) * b = c, i(i(d)) = d\n",
      "found:   i(g * (a * i(c))) * (g * a) = c from i(b * i(c)) * b = c, (g * a) * e = g * (a * e)\n",
      "found:   f * z = i(e * i(f)) * (e * z) from (x * y) * z = x * (y * z), i(e * i(f)) * e = f\n",
      "found:   i(b * 1) * b = 1 from i(b * i(c)) * b = c, i(1) = 1\n",
      "added:   i(b) * b = 1\n",
      "found:   1 * z = i(d) * (d * z) from (x * y) * z = x * (y * z), i(d) * d = 1\n",
      "added:   i(d) * (d * z) = z\n",
      "found:   i(f) * i(b) = i(b * f) from i(d) * (d * z) = z, f * i(b * f) = i(b)\n",
      "found:   i(c * a) * (c * (a * b)) = b from i(d) * (d * z) = z, (c * a) * b = c * (a * b)\n",
      "found:   b * z = i(c) * ((c * b) * z) from (x * y) * z = x * (y * z), i(c) * (c * b) = b\n",
      "found:   b * (i(b) * z) = z from i(d) * (d * z) = z, i(i(b)) = b\n",
      "added:   b * (i(b) * z) = z\n",
      "found:   c = x * (y * (i(x * y) * c)) from (x * y) * z = x * (y * z), d * (i(d) * c) = c\n",
      "found:   e * (a * (i(e * a) * z)) = z from b * (i(b) * z) = z, (e * a) * c = e * (a * c)\n",
      "found:   b * i(c) = i(c * i(b)) from b * (i(b) * z) = z, g * i(c * g) = i(c)\n",
      "found:   c * z = d * ((i(d) * c) * z) from (x * y) * z = x * (y * z), d * (i(d) * c) = c\n",
      "added:   i(b * d) * b = i(d)\n",
      "found:   i(f * (a * e)) * (f * a) = i(e) from i(b * d) * b = i(d), (f * a) * e = f * (a * e)\n",
      "found:   i(a) * i(e) = i(e * a) from i(b * d) * b = i(d), i(e) * (e * a) = a\n",
      "found:   i(a) * c = i(i(c) * a) from i(b * d) * b = i(d), c * (i(c) * a) = a\n",
      "found:   i(f) * z = i(e * f) * (e * z) from (x * y) * z = x * (y * z), i(e * f) * e = i(f)\n",
      "removed: i(b * i(c)) * b = c\n",
      "added:   i(c * i(b)) = b * i(c)\n",
      "found:   i(c * (a * i(d))) = (d * i(a)) * i(c) from i(c * i(b)) = b * i(c), i(d * i(a)) = a * i(d)\n",
      "found:   i(a * i(d)) = d * i(a) from i(i(c)) = c, i(d * i(a)) = a * i(d)\n",
      "found:   i(c * d) = i(d) * i(c) from i(c * i(b)) = b * i(c), i(i(d)) = d\n",
      "found:   i(g * (a * i(b))) = b * i(g * a) from i(c * i(b)) = b * i(c), (g * a) * e = g * (a * e)\n",
      "added:   i(i(c) * a) = i(a) * c\n",
      "found:   i(c * (i(f) * e)) = (i(e) * f) * i(c) from i(c * i(b)) = b * i(c), i(i(e) * f) = i(f) * e\n",
      "found:   i(b * a) = i(a) * i(b) from i(i(c) * a) = i(a) * c, i(i(b)) = b\n",
      "found:   i((d * i(e)) * a) = i(a) * (e * i(d)) from i(i(c) * a) = i(a) * c, i(e * i(d)) = d * i(e)\n",
      "found:   i((i(d) * b) * a) = i(a) * (i(b) * d) from i(i(c) * a) = i(a) * c, i(i(b) * d) = i(d) * b\n",
      "found:   i(i(d) * b) = i(b) * d from i(i(c)) = c, i(i(b) * d) = i(d) * b\n",
      "added:   i(e * a) = i(a) * i(e)\n",
      "found:   i(g * (b * c)) = i(c) * i(g * b) from i(e * a) = i(a) * i(e), (g * b) * c = g * (b * c)\n",
      "found:   i(c * (i(h) * i(f))) = (f * h) * i(c) from i(c * i(b)) = b * i(c), i(f * h) = i(h) * i(f)\n",
      "removed: i(c * i(b)) = b * i(c)\n",
      "removed: e * i(a * e) = i(a)\n",
      "removed: i(i(c) * a) = i(a) * c\n",
      "removed: i(b * d) * b = i(d)\n",
      "\n",
      "1. (x * y) * z = x * (y * z)\n",
      "2. x * 1 = x\n",
      "3. i(d) * (d * z) = z\n",
      "4. i(1) = 1\n",
      "5. i(i(c)) = c\n",
      "6. b * (i(b) * z) = z\n",
      "7. 1 * c = c\n",
      "8. i(e * a) = i(a) * i(e)\n",
      "9. i(b) * b = 1\n",
      "10. x * i(x) = 1\n",
      "CPU times: user 84.4 ms, sys: 5.1 ms, total: 89.5 ms\n",
      "Wall time: 87.6 ms\n"
     ]
    }
   ],
   "source": [
    "%%time\n",
    "Rules = knuth_bendix_algorithm('Examples/group-theory-2.eqn')"
   ]
  },
  {
   "cell_type": "markdown",
   "metadata": {},
   "source": [
    "#### LR Systems\n",
    "\n",
    "Next, it is natural to ask what happens if we have a *left neutral element* and a *right inverse*.  Algebraic Structures of this kind are called *LR systems*.  The *Knuth-Bendix completion algorithm* shows that, in general, *LR systems* are different from groups."
   ]
  },
  {
   "cell_type": "code",
   "execution_count": 60,
   "metadata": {},
   "outputs": [
    {
     "name": "stdout",
     "output_type": "stream",
     "text": [
      "      1 * x = x;\r\n",
      "   x * i(x) = 1;\r\n",
      "(x * y) * z = x * (y * z);"
     ]
    }
   ],
   "source": [
    "!cat Examples/lr-system.eqn || type Examples\\lr-system.eqn"
   ]
  },
  {
   "cell_type": "code",
   "execution_count": 61,
   "metadata": {
    "scrolled": false
   },
   "outputs": [
    {
     "name": "stdout",
     "output_type": "stream",
     "text": [
      "given:   (x * y) * z = x * (y * z)\n",
      "given:   1 * x = x\n",
      "given:   x * i(x) = 1\n",
      "added:   1 * x = x\n",
      "added:   x * i(x) = 1\n",
      "found:   i(1) = 1 from x * i(x) = 1, 1 * a = a\n",
      "found:   1 = i(1) from 1 * x = x, a * i(a) = 1\n",
      "added:   i(1) = 1\n",
      "added:   (x * y) * z = x * (y * z)\n",
      "found:   (c * (a * b)) * z = (c * a) * (b * z) from (x * y) * z = x * (y * z), (c * a) * b = c * (a * b)\n",
      "found:   1 = x * (y * i(x * y)) from (x * y) * z = x * (y * z), c * i(c) = 1\n",
      "found:   c * (a * i(c * a)) = 1 from x * i(x) = 1, (c * a) * b = c * (a * b)\n",
      "found:   1 * z = c * (i(c) * z) from (x * y) * z = x * (y * z), c * i(c) = 1\n",
      "added:   c * (i(c) * z) = z\n",
      "found:   c * a = i(i(c)) * a from c * (i(c) * z) = z, b * (i(b) * a) = a\n",
      "found:   c * 1 = i(i(c)) from c * (i(c) * z) = z, d * i(d) = 1\n",
      "found:   e * (a * (i(e * a) * z)) = z from c * (i(c) * z) = z, (e * a) * b = e * (a * b)\n",
      "found:   b * z = d * ((i(d) * b) * z) from (x * y) * z = x * (y * z), d * (i(d) * b) = b\n",
      "found:   b = x * (y * (i(x * y) * b)) from (x * y) * z = x * (y * z), d * (i(d) * b) = b\n",
      "added:   c * 1 = i(i(c))\n",
      "found:   c * i(i(i(c))) = 1 from c * (i(c) * z) = z, b * 1 = i(i(b))\n",
      "found:   i(i(d)) * z = d * (1 * z) from (x * y) * z = x * (y * z), d * 1 = i(i(d))\n",
      "found:   i(i(x * y)) = x * (y * 1) from (x * y) * z = x * (y * z), d * 1 = i(i(d))\n",
      "found:   e * (a * 1) = i(i(e * a)) from c * 1 = i(i(c)), (e * a) * b = e * (a * b)\n",
      "added:   c * i(i(i(c))) = 1\n",
      "found:   1 = x * (y * i(i(i(x * y)))) from (x * y) * z = x * (y * z), d * i(i(i(d))) = 1\n",
      "found:   e * (a * i(i(i(e * a)))) = 1 from c * i(i(i(c))) = 1, (e * a) * b = e * (a * b)\n",
      "found:   1 * z = d * (i(i(i(d))) * z) from (x * y) * z = x * (y * z), d * i(i(i(d))) = 1\n",
      "found:   c * 1 = i(i(i(i(c)))) from c * (i(c) * z) = z, b * i(i(i(b))) = 1\n",
      "added:   i(i(c)) * a = c * a\n",
      "found:   b * i(i(i(i(i(b))))) = 1 from c * i(i(i(c))) = 1, i(i(b)) * d = b * d\n",
      "found:   i(d) * (d * e) = e from c * (i(c) * z) = z, i(i(d)) * e = d * e\n",
      "found:   (e * f) * z = i(i(e)) * (f * z) from (x * y) * z = x * (y * z), i(i(e)) * f = e * f\n",
      "found:   i(i(i(i(c)))) = c * 1 from i(i(c)) * a = c * a, b * 1 = i(i(b))\n",
      "found:   b * 1 = i(i(i(i(b)))) from c * 1 = i(i(c)), i(i(b)) * d = b * d\n",
      "found:   1 = c * i(i(i(i(i(c))))) from i(i(c)) * a = c * a, b * i(i(i(b))) = 1\n",
      "found:   b = c * (i(i(i(c))) * b) from i(i(c)) * a = c * a, d * (i(d) * b) = b\n",
      "found:   d * (i(i(i(d))) * z) = z from c * (i(c) * z) = z, i(i(d)) * e = d * e\n",
      "added:   i(d) * (d * e) = e\n",
      "found:   i(a) * 1 = i(a) from i(d) * (d * e) = e, a * i(a) = 1\n",
      "found:   i(f * a) * (f * (a * b)) = b from i(d) * (d * e) = e, (f * a) * b = f * (a * b)\n",
      "found:   i(i(i(f))) * (f * b) = b from i(d) * (d * e) = e, i(i(f)) * b = f * b\n",
      "found:   c * z = i(f) * ((f * c) * z) from (x * y) * z = x * (y * z), i(f) * (f * c) = c\n",
      "added:   i(i(i(a))) = i(a)\n",
      "removed: c * i(i(i(c))) = 1\n",
      "added:   c * (a * i(c * a)) = 1\n",
      "found:   c * (g * (b * i(c * (g * b)))) = 1 from c * (a * i(c * a)) = 1, (g * b) * d = g * (b * d)\n",
      "found:   i(f) * 1 = b * i(f * b) from i(d) * (d * e) = e, f * (b * i(f * b)) = 1\n",
      "found:   g * (b * (a * i((g * b) * a))) = 1 from c * (a * i(c * a)) = 1, (g * b) * d = g * (b * d)\n",
      "found:   b * ((d * i(b * d)) * i(1)) = 1 from c * (a * i(c * a)) = 1, b * (d * i(b * d)) = 1\n",
      "found:   c * (b * i(c * i(i(b)))) = 1 from c * (a * i(c * a)) = 1, i(i(b)) * d = b * d\n",
      "found:   1 = c * (d * i(i(i(c)) * d)) from i(i(c)) * a = c * a, b * (d * i(b * d)) = 1\n",
      "found:   1 * z = e * ((f * i(e * f)) * z) from (x * y) * z = x * (y * z), e * (f * i(e * f)) = 1\n",
      "found:   i(i(h) * h) = 1 from c * (a * i(c * a)) = 1, i(h) * (h * b) = b\n",
      "found:   1 = x * (y * (f * i((x * y) * f))) from (x * y) * z = x * (y * z), e * (f * i(e * f)) = 1\n",
      "found:   i(i(b)) * (d * i(b * d)) = 1 from c * (a * i(c * a)) = 1, i(i(b)) * d = b * d\n",
      "found:   c * 1 = e * i(i(c) * e) from c * (i(c) * z) = z, d * (e * i(d * e)) = 1\n",
      "found:   (g * b) * (d * i(g * (b * d))) = 1 from c * (a * i(c * a)) = 1, (g * b) * d = g * (b * d)\n",
      "found:   b * (a * i(i(i(b)) * a)) = 1 from c * (a * i(c * a)) = 1, i(i(b)) * d = b * d\n",
      "found:   1 = i(i(b) * b) from i(d) * (d * e) = e, f * (b * i(f * b)) = 1\n",
      "added:   i(i(b) * b) = 1\n",
      "found:   i(1 * (i(a) * a)) = 1 from i(i(b) * b) = 1, i(i(a) * a) = 1\n",
      "found:   i(i(1)) = i(i(c) * c) from i(i(i(a))) = i(a), i(i(c) * c) = 1\n",
      "added:   b * i(f * b) = i(f)\n",
      "found:   i(e) = x * (y * i(e * (x * y))) from (x * y) * z = x * (y * z), d * i(e * d) = i(e)\n",
      "found:   i(e) = c * i(e * i(i(c))) from i(i(c)) * a = c * a, d * i(e * d) = i(e)\n",
      "found:   i(a) * i(c) = i(c * a) from i(d) * (d * e) = e, a * i(c * a) = i(c)\n",
      "found:   i(c * a) * i(i(c)) = i(a) from b * i(f * b) = i(f), a * i(c * a) = i(c)\n",
      "found:   h * i(g * h) = i(i(i(g))) from b * i(f * b) = i(f), i(i(g)) * h = g * h\n",
      "found:   g * (a * i(f * (g * a))) = i(f) from b * i(f * b) = i(f), (g * a) * d = g * (a * d)\n",
      "found:   c * i(a) = i(a * i(c)) from c * (i(c) * z) = z, e * i(a * e) = i(a)\n",
      "found:   d * i(g * (a * d)) = i(g * a) from b * i(f * b) = i(f), (g * a) * d = g * (a * d)\n",
      "found:   i(e) * z = d * (i(e * d) * z) from (x * y) * z = x * (y * z), d * i(e * d) = i(e)\n",
      "found:   (h * i(g * h)) * i(1) = i(g) from b * i(f * b) = i(f), g * (h * i(g * h)) = 1\n",
      "found:   g * i(f * i(i(g))) = i(f) from b * i(f * b) = i(f), i(i(g)) * h = g * h\n",
      "found:   d * (i(e * d) * i(i(e))) = 1 from c * (a * i(c * a)) = 1, d * i(e * d) = i(e)\n",
      "removed: c * (a * i(c * a)) = 1\n",
      "added:   i(a * i(c)) = c * i(a)\n",
      "found:   i(a * i(d)) = i(i(d)) * i(a) from i(a * i(c)) = c * i(a), i(i(i(d))) = i(d)\n",
      "found:   i(b * i(c)) = c * i(i(i(b))) from i(a * i(c)) = c * i(a), i(i(b)) * d = b * d\n",
      "found:   i(i(b * i(d))) = i(d * i(b)) from i(i(i(a))) = i(a), i(d * i(b)) = b * i(d)\n",
      "found:   i(a * (b * i(d))) = (d * i(b)) * i(a) from i(a * i(c)) = c * i(a), i(d * i(b)) = b * i(d)\n",
      "found:   i(g * (b * i(c))) = c * i(g * b) from i(a * i(c)) = c * i(a), (g * b) * d = g * (b * d)\n",
      "found:   i(b * i(d)) * a = (d * i(b)) * a from i(i(c)) * a = c * a, i(d * i(b)) = b * i(d)\n",
      "added:   i(c * a) = i(a) * i(c)\n",
      "found:   i(b) = i(i(d) * b) * i(d) from i(c * a) = i(a) * i(c), d * (i(d) * b) = b\n",
      "found:   i(b * d) = i(d) * i(i(i(b))) from i(c * a) = i(a) * i(c), i(i(b)) * d = b * d\n",
      "found:   i(i(i(d) * i(b))) = i(b * d) from i(i(i(a))) = i(a), i(b * d) = i(d) * i(b)\n",
      "found:   i(a * (i(d) * i(b))) = (b * d) * i(a) from i(a * i(c)) = c * i(a), i(b * d) = i(d) * i(b)\n",
      "found:   i(g * (b * d)) = i(d) * i(g * b) from i(c * a) = i(a) * i(c), (g * b) * d = g * (b * d)\n",
      "found:   i(b) = i(h * b) * i(i(h)) from i(c * a) = i(a) * i(c), i(h) * (h * b) = b\n",
      "removed: b * i(f * b) = i(f)\n",
      "removed: i(a * i(c)) = c * i(a)\n",
      "removed: i(i(b) * b) = 1\n",
      "\n",
      "1. i(c * a) = i(a) * i(c)\n",
      "2. (x * y) * z = x * (y * z)\n",
      "3. c * 1 = i(i(c))\n",
      "4. i(i(i(a))) = i(a)\n",
      "5. i(d) * (d * e) = e\n",
      "6. i(1) = 1\n",
      "7. c * (i(c) * z) = z\n",
      "8. 1 * x = x\n",
      "9. i(i(c)) * a = c * a\n",
      "10. x * i(x) = 1\n",
      "CPU times: user 61.6 ms, sys: 5.06 ms, total: 66.7 ms\n",
      "Wall time: 63.8 ms\n"
     ]
    }
   ],
   "source": [
    "%%time\n",
    "Rules = knuth_bendix_algorithm('Examples/lr-system.eqn')"
   ]
  },
  {
   "cell_type": "markdown",
   "metadata": {},
   "source": [
    "#### RL Systems\n",
    "\n",
    "Similarly, if we have a *right neutral element* and a *left inverse* the resulting structure need not be a group. Systems of this kind are called *RL system*."
   ]
  },
  {
   "cell_type": "code",
   "execution_count": 62,
   "metadata": {},
   "outputs": [
    {
     "name": "stdout",
     "output_type": "stream",
     "text": [
      "      x * 1 = x;\r\n",
      "   i(x) * x = 1;\r\n",
      "(x * y) * z = x * (y * z);"
     ]
    }
   ],
   "source": [
    "!cat Examples/rl-system.eqn || type Examples\\rl-system.eqn"
   ]
  },
  {
   "cell_type": "code",
   "execution_count": 63,
   "metadata": {
    "scrolled": false
   },
   "outputs": [
    {
     "name": "stdout",
     "output_type": "stream",
     "text": [
      "given:   (x * y) * z = x * (y * z)\n",
      "given:   x * 1 = x\n",
      "given:   i(x) * x = 1\n",
      "added:   x * 1 = x\n",
      "added:   i(x) * x = 1\n",
      "found:   1 = i(1) from x * 1 = x, i(a) * a = 1\n",
      "found:   i(1) = 1 from i(x) * x = 1, a * 1 = a\n",
      "added:   i(1) = 1\n",
      "added:   (x * y) * z = x * (y * z)\n",
      "found:   c * z = c * (1 * z) from (x * y) * z = x * (y * z), c * 1 = c\n",
      "found:   (c * (a * b)) * z = (c * a) * (b * z) from (x * y) * z = x * (y * z), (c * a) * b = c * (a * b)\n",
      "found:   1 * z = i(c) * (c * z) from (x * y) * z = x * (y * z), i(c) * c = 1\n",
      "added:   c * (1 * z) = c * z\n",
      "found:   e * (a * (1 * z)) = (e * a) * z from c * (1 * z) = c * z, (e * a) * b = e * (a * b)\n",
      "found:   1 = i(1 * z) * z from c * (1 * z) = c * z, i(d) * d = 1\n",
      "found:   (d * b) * z = d * ((1 * b) * z) from (x * y) * z = x * (y * z), d * (1 * b) = d * b\n",
      "found:   (x * y) * b = x * (y * (1 * b)) from (x * y) * z = x * (y * z), d * (1 * b) = d * b\n",
      "found:   i(1 * a) * a = 1 from i(x) * x = 1, b * (1 * a) = b * a\n",
      "added:   i(1 * a) * a = 1\n",
      "found:   i(1 * (1 * b)) * b = 1 from i(1 * a) * a = 1, d * (1 * b) = d * b\n",
      "found:   1 = i(1 * (1 * z)) * z from c * (1 * z) = c * z, i(1 * e) * e = 1\n",
      "found:   1 * z = i(1 * d) * (d * z) from (x * y) * z = x * (y * z), i(1 * d) * d = 1\n",
      "added:   i(c) * (c * z) = 1 * z\n",
      "found:   i(i(d)) * 1 = 1 * d from i(c) * (c * z) = 1 * z, i(d) * d = 1\n",
      "found:   (1 * b) * z = i(d) * ((d * b) * z) from (x * y) * z = x * (y * z), i(d) * (d * b) = 1 * b\n",
      "found:   i(i(1 * e)) * 1 = 1 * e from i(c) * (c * z) = 1 * z, i(1 * e) * e = 1\n",
      "found:   i(e * a) * (e * (a * b)) = 1 * b from i(c) * (c * z) = 1 * z, (e * a) * b = e * (a * b)\n",
      "found:   i(i(b)) * (1 * a) = 1 * (b * a) from i(c) * (c * z) = 1 * z, i(b) * (b * a) = 1 * a\n",
      "found:   i(b) * (b * a) = 1 * (1 * a) from i(c) * (c * z) = 1 * z, b * (1 * a) = b * a\n",
      "added:   1 * d = i(i(d))\n",
      "found:   i(i(c)) * z = 1 * (c * z) from (x * y) * z = x * (y * z), 1 * c = i(i(c))\n",
      "found:   c * i(i(e)) = c * e from c * (1 * z) = c * z, 1 * e = i(i(e))\n",
      "found:   i(i(1 * z)) = 1 * z from c * (1 * z) = c * z, 1 * e = i(i(e))\n",
      "found:   i(i(i(c))) * c = 1 from i(1 * a) * a = 1, 1 * c = i(i(c))\n",
      "found:   1 * a = i(i(1 * a)) from 1 * d = i(i(d)), b * (1 * a) = b * a\n",
      "found:   i(1) * i(i(e)) = 1 * e from i(c) * (c * z) = 1 * z, 1 * e = i(i(e))\n",
      "simplified:\n",
      "old:     i(1 * a) * a = 1\n",
      "new:     i(i(i(a))) * a = 1\n",
      "removed: i(c) * (c * z) = 1 * z\n",
      "simplified:\n",
      "old:     c * (1 * z) = c * z\n",
      "new:     c * i(i(z)) = c * z\n",
      "added:   i(i(i(i(a)))) = i(i(a))\n",
      "added:   i(b) * (b * a) = i(i(a))\n",
      "found:   i(i(f)) * z = i(e) * ((e * f) * z) from (x * y) * z = x * (y * z), i(e) * (e * f) = i(i(f))\n",
      "found:   i(g * c) * (g * (c * e)) = i(i(e)) from i(b) * (b * a) = i(i(a)), (g * c) * e = g * (c * e)\n",
      "found:   i(i(c)) * i(i(d)) = i(i(c * d)) from i(b) * (b * a) = i(i(a)), i(c) * (c * d) = i(i(d))\n",
      "found:   i(f) * (f * d) = i(i(i(i(d)))) from i(b) * (b * a) = i(i(a)), f * i(i(d)) = f * d\n",
      "found:   i(i(d)) * (i(i(i(d))) * a) = i(i(a)) from i(b) * (b * a) = i(i(a)), i(i(i(i(d)))) = i(i(d))\n",
      "added:   i(i(b * a)) = i(i(b)) * a\n",
      "found:   c * i(i(i(e)) * g) = c * i(e * g) from c * i(i(z)) = c * z, i(i(e * g)) = i(i(e)) * g\n",
      "found:   i(i(i(c)) * d) * (c * d) = 1 from i(i(i(a))) * a = 1, i(i(c * d)) = i(i(c)) * d\n",
      "found:   i(i(i(i(i(c)) * d))) = i(i(i(c * d))) from i(i(i(i(a)))) = i(i(a)), i(i(c * d)) = i(i(c)) * d\n",
      "found:   i(i(f * d)) = i(i(f)) * i(i(d)) from i(i(b * a)) = i(i(b)) * a, f * i(i(d)) = f * d\n",
      "found:   i(i(i(i(c)) * d)) = i(i(c * d)) from i(i(i(i(a)))) = i(i(a)), i(i(c * d)) = i(i(c)) * d\n",
      "found:   c * (i(i(e)) * g) = c * (e * g) from c * i(i(z)) = c * z, i(i(e * g)) = i(i(e)) * g\n",
      "found:   (i(i(c)) * d) * (i(c * d) * a) = i(i(a)) from i(b) * (b * a) = i(i(a)), i(i(c * d)) = i(i(c)) * d\n",
      "found:   (i(i(c)) * d) * i(c * d) = 1 from i(x) * x = 1, i(i(c * d)) = i(i(c)) * d\n",
      "found:   i(i(i(i(c)) * d)) * i(c * d) = 1 from i(i(i(a))) * a = 1, i(i(c * d)) = i(i(c)) * d\n",
      "found:   i(i(i(i(d)))) = i(i(i(c))) * (c * d) from i(i(b * a)) = i(i(b)) * a, i(c) * (c * d) = i(i(d))\n",
      "found:   i(i(g * (c * e))) = i(i(g * c)) * e from i(i(b * a)) = i(i(b)) * a, (g * c) * e = g * (c * e)\n",
      "added:   i(i(i(d))) * (d * z) = i(i(z))\n",
      "found:   i(i(i(e)) * f) * ((e * f) * z) = i(i(z)) from i(i(i(d))) * (d * z) = i(i(z)), i(i(e * f)) = i(i(e)) * f\n",
      "found:   i(i(i(i(c)))) = i(i(i(i(i(g))))) * (g * c) from i(i(b * a)) = i(i(b)) * a, i(i(i(g))) * (g * c) = i(i(c))\n",
      "found:   i(i(i(i(e)) * f)) * (i(e * f) * z) = i(i(z)) from i(i(i(d))) * (d * z) = i(i(z)), i(i(e * f)) = i(i(e)) * f\n",
      "found:   i(i(i(c * a))) * (c * (a * b)) = i(i(b)) from i(i(i(d))) * (d * z) = i(i(z)), (c * a) * b = c * (a * b)\n",
      "found:   i(i(i(b))) * (b * a) = i(i(i(i(a)))) from i(i(i(d))) * (d * z) = i(i(z)), b * i(i(a)) = b * a\n",
      "found:   i(i(b)) * z = i(i(i(c))) * ((c * b) * z) from (x * y) * z = x * (y * z), i(i(i(c))) * (c * b) = i(i(b))\n",
      "added:   i(i(i(c)) * d) * (c * d) = 1\n",
      "found:   i(i(i(f * a)) * b) * (f * (a * b)) = 1 from i(i(i(c)) * d) * (c * d) = 1, (f * a) * b = f * (a * b)\n",
      "found:   i(i(i(i(i(i(a)) * b))) * (a * b)) * 1 = 1 from i(i(i(c)) * d) * (c * d) = 1, i(i(i(a)) * b) * (a * b) = 1\n",
      "found:   i(i(i(b)) * i(i(a))) * (b * a) = 1 from i(i(i(c)) * d) * (c * d) = 1, b * i(i(a)) = b * a\n",
      "found:   i(i(1)) = i(i(i(i(i(f)) * h))) * (f * h) from i(i(b * a)) = i(i(b)) * a, i(i(i(f)) * h) * (f * h) = 1\n",
      "found:   i(i(i(c)) * a) * (c * i(i(a))) = 1 from i(i(i(c)) * d) * (c * d) = 1, b * i(i(a)) = b * a\n",
      "found:   i(i(i(i(e)) * g) * d) * (i(e * g) * d) = 1 from i(i(i(c)) * d) * (c * d) = 1, i(i(e * g)) = i(i(e)) * g\n",
      "found:   i(i(i(g))) * (c * (i(c) * g)) = 1 from i(i(i(c)) * d) * (c * d) = 1, i(e) * (e * g) = i(i(g))\n",
      "found:   1 * z = i(i(i(e)) * f) * ((e * f) * z) from (x * y) * z = x * (y * z), i(i(i(e)) * f) * (e * f) = 1\n",
      "found:   i((i(i(e)) * g) * d) * ((e * g) * d) = 1 from i(i(i(c)) * d) * (c * d) = 1, i(i(e * g)) = i(i(e)) * g\n",
      "added:   i(i(c)) * (d * i(c * d)) = 1\n",
      "found:   i(i(f * a)) * (b * i(f * (a * b))) = 1 from i(i(c)) * (d * i(c * d)) = 1, (f * a) * b = f * (a * b)\n",
      "found:   i(i(i(i(a)))) * ((b * i(a * b)) * i(1)) = 1 from i(i(c)) * (d * i(c * d)) = 1, i(i(a)) * (b * i(a * b)) = 1\n",
      "found:   (i(i(e)) * g) * (d * i((e * g) * d)) = 1 from i(i(c)) * (d * i(c * d)) = 1, i(i(e * g)) = i(i(e)) * g\n",
      "found:   i(i(c)) * (f * (a * i(c * (f * a)))) = 1 from i(i(c)) * (d * i(c * d)) = 1, (f * a) * b = f * (a * b)\n",
      "found:   1 * z = i(i(e)) * ((f * i(e * f)) * z) from (x * y) * z = x * (y * z), i(i(e)) * (f * i(e * f)) = 1\n",
      "found:   i(i(b)) * (i(i(a)) * i(b * a)) = 1 from i(i(c)) * (d * i(c * d)) = 1, b * i(i(a)) = b * a\n",
      "found:   i(i(1)) = i(i(i(i(f)))) * (h * i(f * h)) from i(i(b * a)) = i(i(b)) * a, i(i(f)) * (h * i(f * h)) = 1\n",
      "found:   i(1) * (a * (b * i(a * b))) = 1 from i(i(i(c)) * d) * (c * d) = 1, i(i(a)) * (b * i(a * b)) = 1\n",
      "found:   i(i(i(f))) * 1 = i(i(h * i(f * h))) from i(b) * (b * a) = i(i(a)), i(i(f)) * (h * i(f * h)) = 1\n",
      "found:   i(i(i(e)) * g) * (d * i(i(e * g) * d)) = 1 from i(i(c)) * (d * i(c * d)) = 1, i(i(e * g)) = i(i(e)) * g\n",
      "found:   i(i(i(i(i(a)))) * (b * i(a * b))) * 1 = 1 from i(i(i(c)) * d) * (c * d) = 1, i(i(a)) * (b * i(a * b)) = 1\n",
      "found:   i(i(i(i(i(b))))) * 1 = i(i(e * i(b * e))) from i(i(i(d))) * (d * z) = i(i(z)), i(i(b)) * (e * i(b * e)) = 1\n",
      "found:   i(i(i(e))) * (d * i(i(i(i(e))) * d)) = 1 from i(i(c)) * (d * i(c * d)) = 1, i(i(i(i(e)))) = i(i(e))\n",
      "found:   i(i(e)) * (d * i(i(i(e)) * d)) = 1 from i(i(c)) * (d * i(c * d)) = 1, i(i(i(i(e)))) = i(i(e))\n",
      "added:   c * (i(i(e)) * g) = c * (e * g)\n",
      "found:   i(i(i(c)) * (b * f)) * (c * (i(i(b)) * f)) = 1 from i(i(i(c)) * d) * (c * d) = 1, a * (i(i(b)) * f) = a * (b * f)\n",
      "found:   c * i(i(j)) = c * (e * (i(e) * j)) from c * (i(i(e)) * g) = c * (e * g), i(d) * (d * j) = i(i(j))\n",
      "found:   c * 1 = c * (e * i(e)) from c * (i(i(e)) * g) = c * (e * g), i(f) * f = 1\n",
      "found:   c * ((i(i(d)) * j) * g) = c * ((d * j) * g) from c * (i(i(e)) * g) = c * (e * g), i(i(d * j)) = i(i(d)) * j\n",
      "found:   c * (i(i(e)) * (b * d)) = c * (e * (i(i(b)) * d)) from c * (i(i(e)) * g) = c * (e * g), a * (i(i(b)) * d) = a * (b * d)\n",
      "found:   c * 1 = c * (a * (h * i(a * h))) from c * (i(i(e)) * g) = c * (e * g), i(i(a)) * (h * i(a * h)) = 1\n",
      "found:   (d * (f * h)) * z = d * ((i(i(f)) * h) * z) from (x * y) * z = x * (y * z), d * (i(i(f)) * h) = d * (f * h)\n",
      "found:   (x * y) * (f * h) = x * (y * (i(i(f)) * h)) from (x * y) * z = x * (y * z), d * (i(i(f)) * h) = d * (f * h)\n",
      "found:   c * (i(i(e)) * a) = c * (e * i(i(a))) from c * (i(i(e)) * g) = c * (e * g), b * i(i(a)) = b * a\n",
      "found:   i * (a * (i(i(e)) * g)) = (i * a) * (e * g) from c * (i(i(e)) * g) = c * (e * g), (i * a) * b = i * (a * b)\n",
      "found:   c * (i(i(i(d)) * j) * g) = c * (i(d * j) * g) from c * (i(i(e)) * g) = c * (e * g), i(i(d * j)) = i(i(d)) * j\n",
      "found:   i(i(a)) * ((i(i(b)) * f) * i(a * (b * f))) = 1 from i(i(c)) * (d * i(c * d)) = 1, a * (i(i(b)) * f) = a * (b * f)\n",
      "found:   i(i(f * (h * i))) = i(i(f)) * (i(i(h)) * i) from i(i(b * a)) = i(i(b)) * a, f * (i(i(h)) * i) = f * (h * i)\n",
      "found:   i(i(i(a)) * (i(i(b)) * f)) * (a * (b * f)) = 1 from i(i(i(c)) * d) * (c * d) = 1, a * (i(i(b)) * f) = a * (b * f)\n",
      "added:   c * (e * i(e)) = c\n",
      "found:   i(i(g)) = i(i(g)) * (f * i(f)) from i(i(b * a)) = i(i(b)) * a, g * (f * i(f)) = g\n",
      "found:   a * (b * i(i(i(b)))) = a from c * (e * i(e)) = c, a * (i(i(b)) * d) = a * (b * d)\n",
      "found:   x * y = x * (y * (f * i(f))) from (x * y) * z = x * (y * z), d * (f * i(f)) = d\n",
      "found:   i(i(i(f))) = i(f) from c * (e * i(e)) = c, i(f) * (f * d) = i(i(d))\n",
      "found:   a = a * (e * i(i(i(e)))) from c * (i(i(e)) * g) = c * (e * g), a * (b * i(b)) = a\n",
      "found:   i(i(i(a)) * (b * i(b))) * a = 1 from i(i(i(c)) * d) * (c * d) = 1, a * (b * i(b)) = a\n",
      "found:   i(i(a)) * ((b * i(b)) * i(a)) = 1 from i(i(c)) * (d * i(c * d)) = 1, a * (b * i(b)) = a\n",
      "found:   c * i(i(e)) = c * (e * (b * i(b))) from c * (i(i(e)) * g) = c * (e * g), a * (b * i(b)) = a\n",
      "found:   1 = i(e * i(e)) from c * (e * i(e)) = c, i(d) * d = 1\n",
      "found:   c * (g * (a * i(g * a))) = c from c * (e * i(e)) = c, (g * a) * b = g * (a * b)\n",
      "found:   i(b * i(b)) = 1 from i(x) * x = 1, a * (b * i(b)) = a\n",
      "found:   i(f) = i(i(i(f))) from i(b) * (b * a) = i(i(a)), g * (f * i(f)) = g\n",
      "found:   d * z = d * ((f * i(f)) * z) from (x * y) * z = x * (y * z), d * (f * i(f)) = d\n",
      "found:   g * (a * (e * i(e))) = g * a from c * (e * i(e)) = c, (g * a) * b = g * (a * b)\n",
      "added:   i(e * i(e)) = 1\n",
      "found:   i(1) * (d * i((b * i(b)) * d)) = 1 from i(i(c)) * (d * i(c * d)) = 1, i(b * i(b)) = 1\n",
      "found:   i(d * (a * i(d * a))) = 1 from i(e * i(e)) = 1, (d * a) * b = d * (a * b)\n",
      "found:   i((a * i(a)) * 1) = 1 from i(e * i(e)) = 1, i(a * i(a)) = 1\n",
      "found:   i(i(1) * d) * ((b * i(b)) * d) = 1 from i(i(i(c)) * d) * (c * d) = 1, i(b * i(b)) = 1\n",
      "found:   c * (i(1) * g) = c * ((d * i(d)) * g) from c * (i(i(e)) * g) = c * (e * g), i(d * i(d)) = 1\n",
      "added:   i(i(i(f))) = i(f)\n",
      "found:   i(i(a)) * (d * i(i(i(a)) * d)) = 1 from i(i(c)) * (d * i(c * d)) = 1, i(i(i(a))) = i(a)\n",
      "found:   i(i(i(d)) * e) = i(d * e) from i(i(i(f))) = i(f), i(i(d * e)) = i(i(d)) * e\n",
      "found:   i(a) * (d * i(i(a) * d)) = 1 from i(i(c)) * (d * i(c * d)) = 1, i(i(i(a))) = i(a)\n",
      "removed: i(i(i(a))) * a = 1\n",
      "removed: i(i(i(d))) * (d * z) = i(i(z))\n",
      "removed: i(i(i(i(a)))) = i(i(a))\n",
      "added:   i(d * (a * i(d * a))) = 1\n",
      "found:   i(b * (f * i(b * i(i(f))))) = 1 from i(d * (a * i(d * a))) = 1, b * (i(i(f)) * h) = b * (f * h)\n",
      "found:   i(i(1) * d) * ((f * (e * i(f * e))) * d) = 1 from i(i(i(c)) * d) * (c * d) = 1, i(f * (e * i(f * e))) = 1\n",
      "found:   i(f * ((b * i(b)) * i(f))) = 1 from i(d * (a * i(d * a))) = 1, f * (b * i(b)) = f\n",
      "found:   i(c * ((b * i(c * b)) * 1)) = 1 from i(d * (a * i(d * a))) = 1, i(c * (b * i(c * b))) = 1\n",
      "found:   i(e * (b * (a * i((e * b) * a)))) = 1 from i(d * (a * i(d * a))) = 1, (e * b) * c = e * (b * c)\n",
      "found:   i((f * (b * i(f * b))) * 1) = 1 from i(e * i(e)) = 1, i(f * (b * i(f * b))) = 1\n",
      "found:   1 * ((f * (e * i(f * e))) * a) = i(i(a)) from i(b) * (b * a) = i(i(a)), i(f * (e * i(f * e))) = 1\n",
      "found:   c * i(1) = c * (g * (f * i(g * f))) from c * i(i(z)) = c * z, i(g * (f * i(g * f))) = 1\n",
      "found:   i(e * (i(i(b)) * i(e * b))) = 1 from i(d * (a * i(d * a))) = 1, e * i(i(b)) = e * b\n",
      "found:   1 * (c * (e * i(i(i(c)) * e))) = 1 from i(i(i(c)) * d) * (c * d) = 1, i(f * (e * i(f * e))) = 1\n",
      "found:   c * ((h * (b * i(h * b))) * 1) = c from c * (e * i(e)) = c, i(h * (b * i(h * b))) = 1\n",
      "found:   i(d * (e * (b * i(d * (e * b))))) = 1 from i(d * (a * i(d * a))) = 1, (e * b) * c = e * (b * c)\n",
      "found:   i(1) * (d * i((f * (e * i(f * e))) * d)) = 1 from i(i(c)) * (d * i(c * d)) = 1, i(f * (e * i(f * e))) = 1\n",
      "found:   i(b * ((i(i(f)) * h) * i(b * (f * h)))) = 1 from i(d * (a * i(d * a))) = 1, b * (i(i(f)) * h) = b * (f * h)\n",
      "found:   i(i(1)) = i(e * (c * i(e * c))) from i(i(i(f))) = i(f), i(e * (c * i(e * c))) = 1\n",
      "found:   i((e * b) * (c * i(e * (b * c)))) = 1 from i(d * (a * i(d * a))) = 1, (e * b) * c = e * (b * c)\n",
      "found:   c * (i(1) * g) = c * ((j * (i * i(j * i))) * g) from c * (i(i(e)) * g) = c * (e * g), i(j * (i * i(j * i))) = 1\n",
      "added:   i(i(i(d)) * e) = i(d * e)\n",
      "found:   i(i(i(c * b))) = i(i(i(c)) * b) from i(i(i(f))) = i(f), i(i(i(c)) * b) = i(c * b)\n",
      "found:   i(f * (a * i(i(i(f)) * a))) = 1 from i(d * (a * i(d * a))) = 1, i(i(i(f)) * b) = i(f * b)\n",
      "found:   i(i(i(d)) * (b * f)) = i(d * (i(i(b)) * f)) from i(i(i(d)) * e) = i(d * e), a * (i(i(b)) * f) = a * (b * f)\n",
      "found:   i(i(f * b)) * (d * i((i(i(f)) * b) * d)) = 1 from i(i(c)) * (d * i(c * d)) = 1, i(i(i(f)) * b) = i(f * b)\n",
      "found:   i(i(1) * e) = i((a * i(a)) * e) from i(i(i(d)) * e) = i(d * e), i(a * i(a)) = 1\n",
      "found:   c * ((i(i(f)) * b) * i(f * b)) = c from c * (e * i(e)) = c, i(i(i(f)) * b) = i(f * b)\n",
      "found:   i((i(i(f)) * c) * e) = i((f * c) * e) from i(i(i(d)) * e) = i(d * e), i(i(f * c)) = i(i(f)) * c\n",
      "found:   i(i(i(c))) = i(d * (i(d) * c)) from i(i(i(d)) * e) = i(d * e), i(f) * (f * c) = i(i(c))\n",
      "found:   i(i(i(d)) * a) = i(d * i(i(a))) from i(i(i(d)) * e) = i(d * e), b * i(i(a)) = b * a\n",
      "found:   1 = i(d * (b * i(i(i(d)) * b))) from i(i(i(d)) * e) = i(d * e), i(f * (b * i(f * b))) = 1\n",
      "found:   i(i(i(i(f)) * c) * e) = i(i(f * c) * e) from i(i(i(d)) * e) = i(d * e), i(i(f * c)) = i(i(f)) * c\n",
      "found:   i(i(1) * e) = i((f * (b * i(f * b))) * e) from i(i(i(d)) * e) = i(d * e), i(f * (b * i(f * b))) = 1\n",
      "found:   i(h * f) * ((i(i(h)) * f) * a) = i(i(a)) from i(b) * (b * a) = i(i(a)), i(i(i(h)) * f) = i(h * f)\n",
      "removed: i(i(i(c)) * d) * (c * d) = 1\n",
      "added:   i(d * (i(d) * c)) = i(c)\n",
      "found:   i((b * (i(b) * a)) * (i(a) * c)) = i(c) from i(d * (i(d) * c)) = i(c), i(b * (i(b) * a)) = i(a)\n",
      "found:   i(i(a)) * (d * i((b * (i(b) * a)) * d)) = 1 from i(i(c)) * (d * i(c * d)) = 1, i(b * (i(b) * a)) = i(a)\n",
      "found:   i((b * i(b)) * (1 * c)) = i(c) from i(d * (i(d) * c)) = i(c), i(b * i(b)) = 1\n",
      "found:   i(b) * (a * (i(a) * b)) = 1 from i(x) * x = 1, i(a * (i(a) * b)) = i(b)\n",
      "found:   i(f * (i(i(i(f))) * c)) = i(c) from i(d * (i(d) * c)) = i(c), i(i(i(f)) * b) = i(f * b)\n",
      "found:   i(f * (a * (i(f * a) * c))) = i(c) from i(d * (i(d) * c)) = i(c), (f * a) * b = f * (a * b)\n",
      "found:   i(d * (i(d) * (b * f))) = i(i(i(b)) * f) from i(d * (i(d) * c)) = i(c), a * (i(i(b)) * f) = a * (b * f)\n",
      "found:   i(a) = i(d * (i(i(i(d))) * a)) from i(i(i(d)) * e) = i(d * e), i(f * (i(f) * a)) = i(a)\n",
      "found:   i((f * (e * i(f * e))) * (1 * c)) = i(c) from i(d * (i(d) * c)) = i(c), i(f * (e * i(f * e))) = 1\n",
      "found:   i(i(i(a)) * e) = i((f * (i(f) * a)) * e) from i(i(i(d)) * e) = i(d * e), i(f * (i(f) * a)) = i(a)\n",
      "found:   c * (i(i(a)) * g) = c * ((h * (i(h) * a)) * g) from c * (i(i(e)) * g) = c * (e * g), i(h * (i(h) * a)) = i(a)\n",
      "found:   i(i(a) * 1) = i(b * i(a * b)) from i(d * (i(d) * c)) = i(c), i(i(a)) * (b * i(a * b)) = 1\n",
      "found:   c * i(i(b)) = c * (e * (i(e) * b)) from c * i(i(z)) = c * z, i(e * (i(e) * b)) = i(b)\n",
      "found:   i(f) * ((h * (i(h) * f)) * a) = i(i(a)) from i(b) * (b * a) = i(i(a)), i(h * (i(h) * f)) = i(f)\n",
      "found:   i(i(e * g) * ((i(i(e)) * g) * c)) = i(c) from i(d * (i(d) * c)) = i(c), i(i(e * g)) = i(i(e)) * g\n",
      "found:   i(i(i(b))) = i(e * (i(e) * b)) from i(i(i(f))) = i(f), i(e * (i(e) * b)) = i(b)\n",
      "found:   i(d * (i(d) * a)) = i(i(i(a))) from i(d * (i(d) * c)) = i(c), b * i(i(a)) = b * a\n",
      "found:   i(i(i(a)) * (i(a) * c)) = i(c) from i(d * (i(d) * c)) = i(c), i(i(i(a))) = i(a)\n",
      "found:   i((i(i(f)) * b) * (i(f * b) * c)) = i(c) from i(d * (i(d) * c)) = i(c), i(i(i(f)) * b) = i(f * b)\n",
      "added:   i(b * i(a * b)) = i(i(a))\n",
      "found:   i(i(d)) * ((c * i(d * c)) * a) = i(i(a)) from i(b) * (b * a) = i(i(a)), i(c * i(d * c)) = i(i(d))\n",
      "found:   i((d * i(c * d)) * i(i(c))) = 1 from i(e * i(e)) = 1, i(d * i(c * d)) = i(i(c))\n",
      "found:   i(i(d * c) * i(i(d))) = i(i(c)) from i(b * i(a * b)) = i(i(a)), i(c * i(d * c)) = i(i(d))\n",
      "found:   i((e * i(f * e)) * 1) = i(i(f)) from i(b * i(a * b)) = i(i(a)), i(f * (e * i(f * e))) = 1\n",
      "found:   i(i(c)) = i(d * i(c * i(i(d)))) from i(i(i(d)) * e) = i(d * e), i(f * i(c * f)) = i(i(c))\n",
      "found:   i((h * i(f * h)) * i(1)) = i(i(i(i(f)))) from i(b * i(a * b)) = i(i(a)), i(i(f)) * (h * i(f * h)) = 1\n",
      "found:   i(i(i(i(e)))) = i(d * i(e * d)) from i(i(i(f))) = i(f), i(d * i(e * d)) = i(i(e))\n",
      "found:   i(i(e)) * (i(g * e) * i(i(g))) = 1 from i(i(c)) * (d * i(c * d)) = 1, i(e * i(g * e)) = i(i(g))\n",
      "found:   i(c * (i(e * c) * i(i(e)))) = 1 from i(d * (a * i(d * a))) = 1, i(c * i(e * c)) = i(i(e))\n",
      "found:   i(g * (c * i(a * (g * c)))) = i(i(a)) from i(b * i(a * b)) = i(i(a)), (g * c) * e = g * (c * e)\n",
      "found:   c * i(i(i(g))) = c * (e * i(g * e)) from c * i(i(z)) = c * z, i(e * i(g * e)) = i(i(g))\n",
      "found:   c * ((f * i(d * f)) * i(i(d))) = c from c * (e * i(e)) = c, i(f * i(d * f)) = i(i(d))\n",
      "found:   i(e * i(g * (c * e))) = i(i(g * c)) from i(b * i(a * b)) = i(i(a)), (g * c) * e = g * (c * e)\n",
      "found:   i(i(i(i(c))) * e) = i((f * i(c * f)) * e) from i(i(i(d)) * e) = i(d * e), i(f * i(c * f)) = i(i(c))\n",
      "found:   i(i(i(d))) = i(i(c)) * i(d * c) from i(i(b * a)) = i(i(b)) * a, i(c * i(d * c)) = i(i(d))\n",
      "found:   i(i(i(g))) * (d * i((e * i(g * e)) * d)) = 1 from i(i(c)) * (d * i(c * d)) = 1, i(e * i(g * e)) = i(i(g))\n",
      "found:   i(f * i(h * f)) = i(i(i(i(h)))) from i(b * i(a * b)) = i(i(a)), i(i(i(h)) * f) = i(h * f)\n",
      "found:   i(i(i(d)) * i(f * d)) = i(i(f)) from i(b * i(a * b)) = i(i(a)), f * i(i(d)) = f * d\n",
      "found:   i(h * i(a * i(i(h)))) = i(i(a)) from i(b * i(a * b)) = i(i(a)), i(i(i(h)) * f) = i(h * f)\n",
      "found:   c * (i(i(i(j))) * g) = c * ((d * i(j * d)) * g) from c * (i(i(e)) * g) = c * (e * g), i(d * i(j * d)) = i(i(j))\n",
      "found:   i((i(i(h)) * i) * i(f * (h * i))) = i(i(f)) from i(b * i(a * b)) = i(i(a)), f * (i(i(h)) * i) = f * (h * i)\n",
      "found:   i((e * i(g * e)) * (i(i(g)) * c)) = i(c) from i(d * (i(d) * c)) = i(c), i(e * i(g * e)) = i(i(g))\n",
      "added:   i(i(c)) * i(d * c) = i(d)\n",
      "found:   c * i(h) = c * (a * i(h * a)) from c * (i(i(e)) * g) = c * (e * g), i(i(a)) * i(h * a) = i(h)\n",
      "found:   i(i(i(b)) * (i(f * b) * i(i(f)))) = 1 from i(d * (a * i(d * a))) = 1, i(i(b)) * i(f * b) = i(f)\n",
      "found:   i(i(b)) * i(f * b) = i(i(i(f))) from i(i(c)) * i(d * c) = i(d), i(i(i(f)) * b) = i(f * b)\n",
      "found:   i(i(i(b * a))) * i(i(b)) = i(i(i(a))) from i(i(c)) * i(d * c) = i(d), i(i(a)) * i(b * a) = i(b)\n",
      "found:   i(i(f * b)) * i(d * (i(i(f)) * b)) = i(d) from i(i(c)) * i(d * c) = i(d), i(i(i(f)) * b) = i(f * b)\n",
      "found:   i(i(i(e)) * g) * i(d * i(e * g)) = i(d) from i(i(c)) * i(d * c) = i(d), i(i(e * g)) = i(i(e)) * g\n",
      "found:   i(i(i(i(b)) * f)) * i(a * (b * f)) = i(a) from i(i(c)) * i(d * c) = i(d), a * (i(i(b)) * f) = a * (b * f)\n",
      "found:   i(i(b)) * i(f * (a * b)) = i(f * a) from i(i(c)) * i(d * c) = i(d), (f * a) * b = f * (a * b)\n",
      "found:   i(i(h * f) * i(i(h))) = i(i(i(i(f)))) from i(b * i(a * b)) = i(i(a)), i(i(f)) * i(h * f) = i(h)\n",
      "found:   i(i(a)) * i(d * i(i(a))) = i(d) from i(i(c)) * i(d * c) = i(d), i(i(i(a))) = i(a)\n",
      "found:   i(i(a) * i(b)) = i(i(b * a)) from i(d * (i(d) * c)) = i(c), i(i(a)) * i(b * a) = i(b)\n",
      "found:   i(i(b * i(a * b))) * i(1) = i(i(i(a))) from i(i(c)) * i(d * c) = i(d), i(i(a)) * (b * i(a * b)) = 1\n",
      "found:   i(i(i(i(a)))) * (i(b * a) * i(i(b))) = 1 from i(i(c)) * (d * i(c * d)) = 1, i(i(a)) * i(b * a) = i(b)\n",
      "found:   i(i(e * i(f * e))) * 1 = i(f) from i(i(c)) * i(d * c) = i(d), i(f * (e * i(f * e))) = 1\n",
      "found:   i(i(i(f))) * i(h) = i(i(i(h * f))) from i(b) * (b * a) = i(i(a)), i(i(f)) * i(h * f) = i(h)\n",
      "found:   i(i(i(i(a)))) * i(b * a) = i(b) from i(i(c)) * i(d * c) = i(d), b * i(i(a)) = b * a\n",
      "found:   i(i(a)) * i(d * (b * (i(b) * a))) = i(d) from i(i(c)) * i(d * c) = i(d), i(b * (i(b) * a)) = i(a)\n",
      "found:   (i(i(e)) * g) * i(d * (e * g)) = i(d) from i(i(c)) * i(d * c) = i(d), i(i(e * g)) = i(i(e)) * g\n",
      "found:   i(i(i(g))) * i(d * (e * i(g * e))) = i(d) from i(i(c)) * i(d * c) = i(d), i(e * i(g * e)) = i(i(g))\n",
      "found:   i(f) * z = i(i(e)) * (i(f * e) * z) from (x * y) * z = x * (y * z), i(i(e)) * i(f * e) = i(f)\n",
      "found:   i(1) * i(d * (f * (e * i(f * e)))) = i(d) from i(i(c)) * i(d * c) = i(d), i(f * (e * i(f * e))) = 1\n",
      "found:   i(i(i(h))) = i(i(i(i(f)))) * i(h * f) from i(i(b * a)) = i(i(b)) * a, i(i(f)) * i(h * f) = i(h)\n",
      "found:   i(a) * i(d * i(a)) = i(d) from i(i(c)) * i(d * c) = i(d), i(i(i(a))) = i(a)\n",
      "found:   i(i(i(g * e))) * i(i(g)) = i(e) from i(i(c)) * i(d * c) = i(d), i(e * i(g * e)) = i(i(g))\n",
      "added:   i(b * a) * b = i(a)\n",
      "found:   i(i(i(d))) * i(c) = i(c * d) from i(b * a) * b = i(a), i(c) * (c * d) = i(i(d))\n",
      "found:   i(g * (c * e)) * (g * c) = i(e) from i(b * a) * b = i(a), (g * c) * e = g * (c * e)\n",
      "found:   i((i(i(h)) * i) * a) * (h * i) = i(a) from i(b * a) * b = i(a), f * (i(i(h)) * i) = f * (h * i)\n",
      "found:   i(h * f) * i(i(h)) = i(f) from i(b * a) * b = i(a), i(i(i(h)) * f) = i(h * f)\n",
      "found:   i(i(i(d))) = i(i(i(c * d))) * c from i(i(b * a)) = i(i(b)) * a, i(c * d) * c = i(d)\n",
      "found:   i(g) = i(i(i(z)) * g) * z from c * i(i(z)) = c * z, i(e * g) * e = i(g)\n",
      "found:   i(f * (h * i)) * f = i(i(i(h)) * i) from i(b * a) * b = i(a), f * (i(i(h)) * i) = f * (h * i)\n",
      "found:   i(j) = i((i(i(e)) * g) * j) * (e * g) from c * (i(i(e)) * g) = c * (e * g), i(d * j) * d = i(j)\n",
      "found:   i(f) * z = i(e * f) * (e * z) from (x * y) * z = x * (y * z), i(e * f) * e = i(f)\n",
      "found:   i(i(i(d)) * a) * d = i(a) from i(b * a) * b = i(a), f * i(i(d)) = f * d\n",
      "found:   i(f) * h = i(i(h) * f) from i(b * a) * b = i(a), i(h * (i(h) * f)) = i(f)\n",
      "found:   i(f * d) * f = i(i(i(d))) from i(b * a) * b = i(a), f * i(i(d)) = f * d\n",
      "added:   i(c * d) = i(d) * i(c)\n",
      "found:   c * ((a * f) * (i(f) * i(a))) = c from c * (e * i(e)) = c, i(a * f) = i(f) * i(a)\n",
      "found:   i(a * (b * f)) = i(i(i(b)) * f) * i(a) from i(c * d) = i(d) * i(c), a * (i(i(b)) * f) = a * (b * f)\n",
      "found:   i((a * b) * ((i(b) * i(a)) * c)) = i(c) from i(d * (i(d) * c)) = i(c), i(a * b) = i(b) * i(a)\n",
      "found:   i(i(i(e) * i(b))) = i(b * e) from i(i(i(f))) = i(f), i(b * e) = i(e) * i(b)\n",
      "found:   i(b * (f * (i(f) * i(b)))) = 1 from i(d * (a * i(d * a))) = 1, i(b * f) = i(f) * i(b)\n",
      "found:   i(i(b) * i(a)) * (d * i((a * b) * d)) = 1 from i(i(c)) * (d * i(c * d)) = 1, i(a * b) = i(b) * i(a)\n",
      "found:   i(f) * i(i(i(d))) = i(d * f) from i(i(i(d)) * e) = i(d * e), i(a * f) = i(f) * i(a)\n",
      "found:   i(i(i(f) * i(a)) * e) = i((a * f) * e) from i(i(i(d)) * e) = i(d * e), i(a * f) = i(f) * i(a)\n",
      "found:   i(i(h) * i(f)) = i(i(f)) * h from i(i(b * a)) = i(i(b)) * a, i(f * h) = i(h) * i(f)\n",
      "found:   i(f * (a * b)) = i(b) * i(f * a) from i(c * d) = i(d) * i(c), (f * a) * b = f * (a * b)\n",
      "found:   i((a * f) * (i(f) * i(a))) = 1 from i(e * i(e)) = 1, i(a * f) = i(f) * i(a)\n",
      "found:   i(f * b) = i(b) * i(i(i(f))) from i(c * d) = i(d) * i(c), i(i(i(f)) * b) = i(f * b)\n",
      "found:   i(i(b) * i(a)) * i(d * (a * b)) = i(d) from i(i(c)) * i(d * c) = i(d), i(a * b) = i(b) * i(a)\n",
      "found:   i(i(a)) * (b * (i(b) * i(a))) = 1 from i(i(c)) * (d * i(c * d)) = 1, i(a * b) = i(b) * i(a)\n",
      "found:   c * (i(i(h) * i(a)) * g) = c * ((a * h) * g) from c * (i(i(e)) * g) = c * (e * g), i(a * h) = i(h) * i(a)\n",
      "found:   c * i(i(e) * i(b)) = c * (b * e) from c * i(i(z)) = c * z, i(b * e) = i(e) * i(b)\n",
      "found:   i(b * a) = i(i(i(a))) * i(b) from i(c * d) = i(d) * i(c), b * i(i(a)) = b * a\n",
      "removed: i(e * i(e)) = 1\n",
      "simplified:\n",
      "old:     i(i(c)) * (d * i(c * d)) = 1\n",
      "new:     i(i(c)) * (d * (i(d) * i(c))) = 1\n",
      "removed: i(i(c)) * i(d * c) = i(d)\n",
      "removed: i(b * a) * b = i(a)\n",
      "removed: i(i(b * a)) = i(i(b)) * a\n",
      "removed: i(b * i(a * b)) = i(i(a))\n",
      "simplified:\n",
      "old:     i(d * (a * i(d * a))) = 1\n",
      "new:     i(i(d)) * (a * (i(a) * i(d))) = 1\n",
      "removed: i(d * (i(d) * c)) = i(c)\n",
      "removed: i(i(i(d)) * e) = i(d * e)\n",
      "removed: i(i(d)) * (a * (i(a) * i(d))) = 1\n",
      "added:   i(b) * (a * (i(a) * b)) = 1\n",
      "found:   (i(h) * i(f)) * (a * (i(a) * (f * h))) = 1 from i(b) * (a * (i(a) * b)) = 1, i(f * h) = i(h) * i(f)\n",
      "found:   i(d) * (a * (i(a) * i(i(d)))) = 1 from i(b) * (a * (i(a) * b)) = 1, i(i(i(d))) = i(d)\n",
      "found:   i(b) * (g * (c * (i(g * c) * b))) = 1 from i(b) * (a * (i(a) * b)) = 1, (g * c) * e = g * (c * e)\n",
      "found:   i(b) * (h * (i(i(i(h))) * b)) = 1 from i(b) * (a * (i(a) * b)) = 1, f * (i(i(h)) * i) = f * (h * i)\n",
      "found:   i(b) * (i(i(d)) * (i(d) * b)) = 1 from i(b) * (a * (i(a) * b)) = 1, i(i(i(d))) = i(d)\n",
      "found:   c * 1 = c * (e * (j * (i(j) * i(e)))) from c * (i(i(e)) * g) = c * (e * g), i(d) * (j * (i(j) * d)) = 1\n",
      "found:   1 * z = i(e) * ((f * (i(f) * e)) * z) from (x * y) * z = x * (y * z), i(e) * (f * (i(f) * e)) = 1\n",
      "found:   i(i(i(d))) * (a * (i(a) * d)) = 1 from i(b) * (a * (i(a) * b)) = 1, f * i(i(d)) = f * d\n",
      "found:   1 = i(d) * (e * (i(i(i(e))) * d)) from c * (i(i(e)) * g) = c * (e * g), i(d) * (j * (i(j) * d)) = 1\n",
      "found:   i(i(i(h)) * i) * (a * (i(a) * (h * i))) = 1 from i(b) * (a * (i(a) * b)) = 1, f * (i(i(h)) * i) = f * (h * i)\n",
      "found:   i(b) * ((f * h) * ((i(h) * i(f)) * b)) = 1 from i(b) * (a * (i(a) * b)) = 1, i(f * h) = i(h) * i(f)\n",
      "removed: i(i(c)) * (d * (i(d) * i(c))) = 1\n",
      "added:   c * (a * (h * (i(h) * i(a)))) = c\n",
      "found:   f * z = f * ((g * (e * (i(e) * i(g)))) * z) from (x * y) * z = x * (y * z), f * (g * (e * (i(e) * i(g)))) = f\n",
      "found:   d = d * (e * (b * (i(b) * i(i(i(e)))))) from c * (i(i(e)) * g) = c * (e * g), d * (j * (b * (i(b) * i(j)))) = d\n",
      "found:   c * ((e * g) * (h * (i(h) * (i(g) * i(e))))) = c from c * (a * (h * (i(h) * i(a)))) = c, i(e * g) = i(g) * i(e)\n",
      "found:   c * (d * (f * (i(i(i(f))) * i(d)))) = c from c * (a * (h * (i(h) * i(a)))) = c, d * (i(i(f)) * i) = d * (f * i)\n",
      "found:   i(e) = i(f * (b * (i(b) * i(f)))) * i(e) from i(c * d) = i(d) * i(c), e * (f * (b * (i(b) * i(f)))) = e\n",
      "found:   i * (b * (a * (h * (i(h) * i(a))))) = i * b from c * (a * (h * (i(h) * i(a)))) = c, (i * b) * d = i * (b * d)\n",
      "found:   c * (i * (b * (h * (i(h) * i(i * b))))) = c from c * (a * (h * (i(h) * i(a)))) = c, (i * b) * d = i * (b * d)\n",
      "found:   c * (a * ((e * g) * ((i(g) * i(e)) * i(a)))) = c from c * (a * (h * (i(h) * i(a)))) = c, i(e * g) = i(g) * i(e)\n",
      "found:   c * i(i(e)) = c * (e * (j * (b * (i(b) * i(j))))) from c * (i(i(e)) * g) = c * (e * g), d * (j * (b * (i(b) * i(j)))) = d\n",
      "found:   c * (a * (i * (b * (i(i * b) * i(a))))) = c from c * (a * (h * (i(h) * i(a)))) = c, (i * b) * d = i * (b * d)\n",
      "found:   c * (a * (i(i(b)) * (i(b) * i(a)))) = c from c * (a * (h * (i(h) * i(a)))) = c, i(i(i(b))) = i(b)\n",
      "found:   d * (f * (h * (i(h) * i(i(i(f)))))) = d from c * (a * (h * (i(h) * i(a)))) = c, d * (i(i(f)) * i) = d * (f * i)\n",
      "found:   x * y = x * (y * (g * (e * (i(e) * i(g))))) from (x * y) * z = x * (y * z), f * (g * (e * (i(e) * i(g)))) = f\n",
      "found:   c * (i(i(b)) * (h * (i(h) * i(b)))) = c from c * (a * (h * (i(h) * i(a)))) = c, i(i(i(b))) = i(b)\n",
      "added:   c * (e * (i(e) * b)) = c * b\n",
      "found:   c * (i(i(d)) * (i(d) * b)) = c * b from c * (e * (i(e) * b)) = c * b, i(i(i(d))) = i(d)\n",
      "found:   d * a = d * (e * (i(i(i(e))) * a)) from c * (i(i(e)) * g) = c * (e * g), d * (f * (i(f) * a)) = d * a\n",
      "found:   i * (a * (e * (i(e) * b))) = (i * a) * b from c * (e * (i(e) * b)) = c * b, (i * a) * f = i * (a * f)\n",
      "found:   (g * f) * z = g * ((h * (i(h) * f)) * z) from (x * y) * z = x * (y * z), g * (h * (i(h) * f)) = g * f\n",
      "found:   c * (e * (i(e) * d)) = c * i(i(d)) from c * (e * (i(e) * b)) = c * b, f * i(i(d)) = f * d\n",
      "found:   c * (d * 1) = c * (h * (i(h) * d)) from c * (e * (i(e) * b)) = c * b, i(d) * (h * (i(h) * d)) = 1\n",
      "found:   c * (i(i(e)) * a) = c * (e * (f * (i(f) * a))) from c * (i(i(e)) * g) = c * (e * g), d * (f * (i(f) * a)) = d * a\n",
      "found:   c * (i * (a * (i(i * a) * b))) = c * b from c * (e * (i(e) * b)) = c * b, (i * a) * f = i * (a * f)\n",
      "found:   c * (e * (i(e) * a)) = c * (f * (i(f) * a)) from c * (e * (i(e) * b)) = c * b, d * (f * (i(f) * a)) = d * a\n",
      "found:   i(f * a) = i(g * (i(g) * a)) * i(f) from i(c * d) = i(d) * i(c), f * (g * (i(g) * a)) = f * a\n",
      "found:   i(g * (i(g) * d)) * (a * (i(a) * d)) = 1 from i(b) * (a * (i(a) * b)) = 1, f * (g * (i(g) * d)) = f * d\n",
      "found:   c * ((f * h) * ((i(h) * i(f)) * b)) = c * b from c * (e * (i(e) * b)) = c * b, i(f * h) = i(h) * i(f)\n",
      "found:   c * g = c * (f * (i(f) * i(i(g)))) from c * (e * (i(e) * b)) = c * b, g * (j * (f * (i(f) * i(j)))) = g\n",
      "found:   c * (e * (i(e) * (f * h))) = c * (i(i(f)) * h) from c * (e * (i(e) * b)) = c * b, d * (i(i(f)) * h) = d * (f * h)\n",
      "found:   (x * y) * f = x * (y * (h * (i(h) * f))) from (x * y) * z = x * (y * z), g * (h * (i(h) * f)) = g * f\n",
      "found:   d * (f * (i(i(i(f))) * b)) = d * b from c * (e * (i(e) * b)) = c * b, d * (i(i(f)) * h) = d * (f * h)\n",
      "removed: c * (a * (h * (i(h) * i(a)))) = c\n",
      "removed: i(b) * (a * (i(a) * b)) = 1\n"
     ]
    },
    {
     "name": "stdout",
     "output_type": "stream",
     "text": [
      "\n",
      "1. (x * y) * z = x * (y * z)\n",
      "2. x * 1 = x\n",
      "3. c * (i(i(e)) * g) = c * (e * g)\n",
      "4. i(x) * x = 1\n",
      "5. i(c * d) = i(d) * i(c)\n",
      "6. c * i(i(z)) = c * z\n",
      "7. i(1) = 1\n",
      "8. i(b) * (b * a) = i(i(a))\n",
      "9. i(i(i(f))) = i(f)\n",
      "10. c * (e * (i(e) * b)) = c * b\n",
      "11. c * (e * i(e)) = c\n",
      "12. 1 * d = i(i(d))\n",
      "CPU times: user 208 ms, sys: 7.14 ms, total: 215 ms\n",
      "Wall time: 213 ms\n"
     ]
    }
   ],
   "source": [
    "%%time\n",
    "Rules = knuth_bendix_algorithm('Examples/rl-system.eqn')"
   ]
  },
  {
   "cell_type": "markdown",
   "metadata": {},
   "source": [
    "### Central Groupoids\n",
    "\n",
    "A structure $\\mathcal{G} = \\langle G, *\\rangle$ is a *central groupoid* iff\n",
    "1. $G$ is a a non-empty set.\n",
    "2. $*: G \\times G \\rightarrow G$,\n",
    "3. The following equation holds for all $x,y,z \\in G$:\n",
    "   $$ (x * y) * (y * z) = y $$\n",
    "   \n",
    "Central Groupoids have been defined by Trevor Adams in his paper [Products of Points—Some Simple Algebras and Their Identities](https://www.semanticscholar.org/paper/Products-of-Points—Some-Simple-Algebras-and-Their-Evans/0d9885e3cb4398234735759119a3dd7c67e9541d) and are also discussed by Donald E. Knuth in his paper [notes on Central Groupoids](https://www.sciencedirect.com/science/article/pii/S0021980070800321)."
   ]
  },
  {
   "cell_type": "code",
   "execution_count": 64,
   "metadata": {},
   "outputs": [
    {
     "name": "stdout",
     "output_type": "stream",
     "text": [
      "(x * y) * (y * z) = y;"
     ]
    }
   ],
   "source": [
    "!cat Examples/central-groupoid.eqn || type Examples\\central-groupoid.eqn"
   ]
  },
  {
   "cell_type": "code",
   "execution_count": 65,
   "metadata": {},
   "outputs": [
    {
     "name": "stdout",
     "output_type": "stream",
     "text": [
      "given:   (x * y) * (y * z) = y\n",
      "added:   (x * y) * (y * z) = y\n",
      "found:   (x * (c * a)) * a = c * a from (x * y) * (y * z) = y, (c * a) * (a * b) = a\n",
      "found:   a * ((a * b) * z) = a * b from (x * y) * (y * z) = y, (c * a) * (a * b) = a\n",
      "added:   a * ((a * b) * z) = a * b\n",
      "found:   a * ((a * b) * d) = a * b from a * ((a * b) * z) = a * b, e * ((e * d) * c) = e * d\n",
      "found:   (f * e) * (((f * e) * d) * z) = (f * e) * d from (x * y) * (y * z) = y, f * ((f * e) * d) = f * e\n",
      "found:   e * ((e * d) * z) = e * ((e * d) * c) from a * ((a * b) * z) = a * b, e * ((e * d) * c) = e * d\n",
      "added:   (x * (c * a)) * a = c * a\n",
      "found:   (h * (f * g)) * ((f * g) * z) = (h * (f * g)) * g from a * ((a * b) * z) = a * b, (h * (f * g)) * g = f * g\n",
      "found:   (x * (b * d)) * d = (e * (b * d)) * d from (x * (c * a)) * a = c * a, (e * (b * d)) * d = b * d\n",
      "found:   (b * (c * a)) * a = c * a from (x * (c * a)) * a = c * a, (e * (b * d)) * d = b * d\n",
      "found:   (x * (g * (e * f))) * (e * f) = g * (e * f) from (x * y) * (y * z) = y, (g * (e * f)) * f = e * f\n",
      "\n",
      "1. a * ((a * b) * z) = a * b\n",
      "2. (x * y) * (y * z) = y\n",
      "3. (x * (c * a)) * a = c * a\n",
      "CPU times: user 10.4 ms, sys: 4.35 ms, total: 14.8 ms\n",
      "Wall time: 11.6 ms\n"
     ]
    }
   ],
   "source": [
    "%%time\n",
    "Rules = knuth_bendix_algorithm('Examples/central-groupoid.eqn')"
   ]
  },
  {
   "cell_type": "markdown",
   "metadata": {},
   "source": [
    "[Back to top](#The-Knuth-Bendix-Completion-Algorithm)"
   ]
  },
  {
   "cell_type": "markdown",
   "metadata": {},
   "source": [
    "### Quasigroups\n",
    "\n",
    "A structure $\\mathcal{G} = \\langle G, *, /, \\backslash \\rangle$ is a [quasigroup](https://en.wikipedia.org/wiki/Quasigroup) iff\n",
    "1. $G$ is a non-empty set.\n",
    "2. $*: G \\times G \\rightarrow G$, \n",
    "\n",
    "   where $*$ is called the *multiplication* of $\\mathcal{G}$.\n",
    "3. $/: G \\times G \\rightarrow G$, \n",
    "\n",
    "   where $/$ is called the *left division* of $\\mathcal{G}$.   \n",
    "4. $\\backslash: G \\times G \\rightarrow G$, \n",
    "\n",
    "   where $\\backslash$ is called the *right division* of $\\mathcal{G}$.   \n",
    "5. The following equations hold for all $x,y \\in G$:\n",
    "   * $x * (x \\backslash y) = y$, \n",
    "   * $(x / y) * y = x$,\n",
    "   * $x \\backslash (x * y) = y$,\n",
    "   * $(x * y) / y = x$."
   ]
  },
  {
   "cell_type": "code",
   "execution_count": 66,
   "metadata": {},
   "outputs": [
    {
     "name": "stdout",
     "output_type": "stream",
     "text": [
      "x * (x \\ y) = y;\r\n",
      "(x / y) * y = x;\r\n",
      "x \\ (x * y) = y;\r\n",
      "(x * y) / y = x;"
     ]
    }
   ],
   "source": [
    "!cat Examples/quasigroups.eqn || type Examples\\quasigroups.eqn"
   ]
  },
  {
   "cell_type": "code",
   "execution_count": 67,
   "metadata": {},
   "outputs": [
    {
     "name": "stdout",
     "output_type": "stream",
     "text": [
      "given:   (x / y) * y = x\n",
      "given:   x \\ (x * y) = y\n",
      "given:   x * (x \\ y) = y\n",
      "given:   (x * y) / y = x\n",
      "added:   x * (x \\ y) = y\n",
      "added:   (x / y) * y = x\n",
      "added:   (x * y) / y = x\n",
      "found:   a / (b \\ a) = b from (x * y) / y = x, b * (b \\ a) = a\n",
      "added:   a / (b \\ a) = b\n",
      "added:   x \\ (x * y) = y\n",
      "found:   (b / a) \\ b = a from x \\ (x * y) = y, (b / a) * a = b\n",
      "added:   (b / a) \\ b = a\n",
      "\n",
      "1. a / (b \\ a) = b\n",
      "2. (b / a) \\ b = a\n",
      "3. x \\ (x * y) = y\n",
      "4. (x * y) / y = x\n",
      "5. (x / y) * y = x\n",
      "6. x * (x \\ y) = y\n",
      "CPU times: user 8.97 ms, sys: 2.44 ms, total: 11.4 ms\n",
      "Wall time: 10.7 ms\n"
     ]
    }
   ],
   "source": [
    "%%time\n",
    "Rules = knuth_bendix_algorithm('Examples/quasigroups.eqn')"
   ]
  },
  {
   "cell_type": "markdown",
   "metadata": {},
   "source": [
    "### Quasigroups with Idempotence\n",
    "\n",
    "A *quasigroup with idempotence* is a quasigroup that additionally satisfies the identity $x * x = x$.  Therefore, a structure $\\mathcal{G} = \\langle G, *, /, \\backslash \\rangle$ is a *quasigroup with idempotence* iff\n",
    "1. $G$ is a set.\n",
    "2. $*: G \\times G \\rightarrow G$, \n",
    "\n",
    "   where $*$ is called the *multiplication* of $\\mathcal{G}$.\n",
    "3. $/: G \\times G \\rightarrow G$, \n",
    "\n",
    "   where $/$ is called the *left division* of $\\mathcal{G}$.   \n",
    "4. $\\backslash: G \\times G \\rightarrow G$, \n",
    "\n",
    "   where $\\backslash$ is called the *right division* of $\\mathcal{G}$.   \n",
    "5. The following equations hold for all $x,y \\in G$:\n",
    "   * $x * (x \\backslash y) = y$, \n",
    "   * $(x / y) * y = x$,\n",
    "   * $x \\backslash (x * y) = y$,\n",
    "   * $(x * y) / y = x$,\n",
    "   * $x * x = x$."
   ]
  },
  {
   "cell_type": "code",
   "execution_count": null,
   "metadata": {},
   "outputs": [],
   "source": [
    "!cat Examples/quasigroup-idempotence.eqn || type Examples\\quasigroup-idempotence.eqn"
   ]
  },
  {
   "cell_type": "code",
   "execution_count": null,
   "metadata": {},
   "outputs": [],
   "source": [
    "%%time\n",
    "Rules = knuth_bendix_algorithm('Examples/quasigroup-idempotence.eqn')"
   ]
  },
  {
   "cell_type": "markdown",
   "metadata": {},
   "source": [
    "### Quasigroups with Unipotence\n",
    "\n",
    "A *quasigroup with idempotence* is a quasigroup that additionally satisfies the identity $x * x = 1$\n",
    "where $1$ is a constant symbol. Therefore, a structure $\\mathcal{G} = \\langle G, 1, *, /, \\backslash \\rangle$ is a *quasigroup with idempotence* iff\n",
    "1. $G$ is a set.\n",
    "2. $1 \\in G$.\n",
    "2. $*: G \\times G \\rightarrow G$, \n",
    "\n",
    "   where $*$ is called the *multiplication* of $\\mathcal{G}$.\n",
    "3. $/: G \\times G \\rightarrow G$, \n",
    "\n",
    "   where $/$ is called the *left division* of $\\mathcal{G}$.   \n",
    "4. $\\backslash: G \\times G \\rightarrow G$, \n",
    "\n",
    "   where $\\backslash$ is called the *right division* of $\\mathcal{G}$.   \n",
    "5. The following equations hold for all $x,y \\in G$:\n",
    "   * $x * (x \\backslash y) = y$, \n",
    "   * $(x / y) * y = x$,\n",
    "   * $x \\backslash (x * y) = y$,\n",
    "   * $(x * y) / y = x$,\n",
    "   * $x * x = 1$."
   ]
  },
  {
   "cell_type": "code",
   "execution_count": null,
   "metadata": {},
   "outputs": [],
   "source": [
    "!cat Examples/quasigroup-unipotence.eqn || type Examples\\quasigroup-unipotence.eqn"
   ]
  },
  {
   "cell_type": "code",
   "execution_count": null,
   "metadata": {},
   "outputs": [],
   "source": [
    "%%time\n",
    "Rules = knuth_bendix_algorithm('Examples/quasigroup-unipotence.eqn')"
   ]
  },
  {
   "cell_type": "markdown",
   "metadata": {},
   "source": [
    "### Loops\n",
    "\n",
    "A *loop* is a quasigroup that additionally has an identity element.  Therefore, a structure $\\mathcal{G} = \\langle G, 1, *, /, \\backslash \\rangle$ is a [loop](https://en.wikipedia.org/wiki/Quasigroup#Loops) iff\n",
    "1. $G$ is a set.\n",
    "2. $1 \\in G$.\n",
    "2. $*: G \\times G \\rightarrow G$, \n",
    "\n",
    "   where $*$ is called the *multiplication* of $\\mathcal{G}$.\n",
    "3. $/: G \\times G \\rightarrow G$, \n",
    "\n",
    "   where $/$ is called the *left division* of $\\mathcal{G}$.   \n",
    "4. $\\backslash: G \\times G \\rightarrow G$, \n",
    "\n",
    "   where $\\backslash$ is called the *right division* of $\\mathcal{G}$.   \n",
    "5. The following equations hold for all $x,y \\in G$:\n",
    "   * $1 * x = x$,\n",
    "   * $x * 1 = x$,\n",
    "   * $x * (x \\backslash y) = y$, \n",
    "   * $(x / y) * y = x$,\n",
    "   * $x \\backslash (x * y) = y$,\n",
    "   * $(x * y) / y = x$."
   ]
  },
  {
   "cell_type": "code",
   "execution_count": null,
   "metadata": {},
   "outputs": [],
   "source": [
    "!cat Examples/loops.eqn || type Examples\\loops.eqn"
   ]
  },
  {
   "cell_type": "code",
   "execution_count": null,
   "metadata": {},
   "outputs": [],
   "source": [
    "%%time\n",
    "Rules = knuth_bendix_algorithm('Examples/loops.eqn')"
   ]
  },
  {
   "cell_type": "code",
   "execution_count": null,
   "metadata": {},
   "outputs": [],
   "source": []
  }
 ],
 "metadata": {
  "kernelspec": {
   "display_name": "Python 3 (ipykernel)",
   "language": "python",
   "name": "python3"
  },
  "language_info": {
   "codemirror_mode": {
    "name": "ipython",
    "version": 3
   },
   "file_extension": ".py",
   "mimetype": "text/x-python",
   "name": "python",
   "nbconvert_exporter": "python",
   "pygments_lexer": "ipython3",
   "version": "3.12.8"
  },
  "varInspector": {
   "cols": {
    "lenName": 16,
    "lenType": 16,
    "lenVar": 40
   },
   "kernels_config": {
    "python": {
     "delete_cmd_postfix": "",
     "delete_cmd_prefix": "del ",
     "library": "var_list.py",
     "varRefreshCmd": "print(var_dic_list())"
    },
    "r": {
     "delete_cmd_postfix": ") ",
     "delete_cmd_prefix": "rm(",
     "library": "var_list.r",
     "varRefreshCmd": "cat(var_dic_list()) "
    }
   },
   "types_to_exclude": [
    "module",
    "function",
    "builtin_function_or_method",
    "instance",
    "_Feature"
   ],
   "window_display": false
  }
 },
 "nbformat": 4,
 "nbformat_minor": 4
}
