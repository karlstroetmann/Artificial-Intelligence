{
 "cells": [
  {
   "cell_type": "code",
   "execution_count": 1,
   "metadata": {},
   "outputs": [
    {
     "data": {
      "text/html": [
       "<link href='http://fonts.googleapis.com/css?family=Alegreya+Sans:100,300,400,500,700,800,900,100italic,300italic,400italic,500italic,700italic,800italic,900italic' rel='stylesheet' type='text/css'>\n",
       "<link href='http://fonts.googleapis.com/css?family=Arvo:400,700,400italic' rel='stylesheet' type='text/css'>\n",
       "<link href='http://fonts.googleapis.com/css?family=PT+Mono' rel='stylesheet' type='text/css'>\n",
       "<link href='http://fonts.googleapis.com/css?family=Shadows+Into+Light' rel='stylesheet' type='text/css'>\n",
       "<link href='http://fonts.googleapis.com/css?family=Philosopher:400,700,400italic,700italic' rel='stylesheet' type='text/css'>\n",
       "<link href=\"http://fonts.googleapis.com/css?family=Sacramento\" rel=\"stylesheet\" type=\"text/css\">\n",
       "\n",
       "<style>\n",
       "\n",
       "@font-face {\n",
       "    font-family: \"Computer Modern\";\n",
       "    src: url('http://mirrors.ctan.org/fonts/cm-unicode/fonts/otf/cmunss.otf');\n",
       "}\n",
       "\n",
       ".container { width: 100% }\n",
       "\n",
       "/* Formatting for header cells */\n",
       ".text_cell_render h1 {\n",
       "    font-family: 'Philosopher', sans-serif;\n",
       "    font-weight: 400;\n",
       "    font-size: 2.2em;\n",
       "    line-height: 100%;\n",
       "    color: rgb(0, 80, 120);\n",
       "    margin-bottom: 0.1em;\n",
       "    margin-top: 0.1em;\n",
       "    display: block;\n",
       "}\t\n",
       ".text_cell_render h2 {\n",
       "    font-family: 'Philosopher', serif;\n",
       "    font-weight: 400;\n",
       "    font-size: 1.9em;\n",
       "    line-height: 100%;\n",
       "    color: rgb(200,100,0);\n",
       "    margin-bottom: 0.1em;\n",
       "    margin-top: 0.1em;\n",
       "    display: block;\n",
       "}\t\n",
       "\n",
       ".text_cell_render h3 {\n",
       "    font-family: 'Philosopher', serif;\n",
       "    margin-top:12px;\n",
       "    margin-bottom: 3px;\n",
       "    font-style: italic;\n",
       "    color: rgb(94,127,192);\n",
       "}\n",
       "\n",
       ".text_cell_render h4 {\n",
       "    font-family: 'Philosopher', serif;\n",
       "}\n",
       "\n",
       ".text_cell_render h5 {\n",
       "    font-family: 'Alegreya Sans', sans-serif;\n",
       "    font-weight: 300;\n",
       "    font-size: 16pt;\n",
       "    color: grey;\n",
       "    font-style: italic;\n",
       "    margin-bottom: .1em;\n",
       "    margin-top: 0.1em;\n",
       "    display: block;\n",
       "}\n",
       "\n",
       ".text_cell_render h6 {\n",
       "    font-family: 'PT Mono', sans-serif;\n",
       "    font-weight: 300;\n",
       "    font-size: 10pt;\n",
       "    color: grey;\n",
       "    margin-bottom: 1px;\n",
       "    margin-top: 1px;\n",
       "}\n",
       "\n",
       ".text_cell_render em {\n",
       "    font-family: 'Philosopher', sans-serif;\n",
       "    color:        blue;\n",
       "    background-color: rgb(255,220,180);\n",
       "    font-size:    110%;\n",
       "    margin-left:   2px;\n",
       "    margin-right:  2px;\n",
       "    font-weight:   100;\n",
       "}\n",
       "\n",
       ".text_cell_render b {\n",
       "    color:            rgb(255,195,195);\n",
       "    background-color: rgb(0,0,0);\n",
       "    font-size:    110%;\n",
       "    margin-left:   2px;\n",
       "    margin-right:  2px;\n",
       "    font-weight:   650;\n",
       "}\n",
       "\n",
       ".text_cell_render u {\n",
       "    color:            blue;\n",
       "    font-size:    110%;\n",
       "    margin-left:   2px;\n",
       "    margin-right:  2px;\n",
       "    font-weight:   650;\n",
       "}\n",
       "\n",
       ".text_cell_render tt {\n",
       "    font-size:    120%;\n",
       "    margin-left:   2px;\n",
       "    margin-right:  2px;\n",
       "    font-weight:   150;\n",
       "}\n",
       "\n",
       ".Codemirror {\n",
       "    font-family: \"PT Mono\";\n",
       "    font-size: 100%;\n",
       "}\n",
       "\n",
       "#fancy {\n",
       "    font-family:      Georgia;\n",
       "    position:         relative;\n",
       "    float:            left;\n",
       "    border:           2px solid red;\n",
       "    width:            600px;\n",
       "    padding-left:     20px;\n",
       "    padding-right:    20px;\n",
       "    padding-top:      10px;\n",
       "    font-family:      'Sacramento', cursive;\n",
       "    font-size:        26px;\n",
       "    background-color: #F4EBF3;\n",
       "    border-radius:    15px;\n",
       "}\n",
       "\n",
       "</Style>\n",
       "\n"
      ],
      "text/plain": [
       "<IPython.core.display.HTML object>"
      ]
     },
     "execution_count": 1,
     "metadata": {},
     "output_type": "execute_result"
    }
   ],
   "source": [
    "from IPython.display import HTML\n",
    "HTML(open('../style.css', 'r').read())"
   ]
  },
  {
   "cell_type": "markdown",
   "metadata": {},
   "source": [
    "# A Simple Parser for Term Rewriting\n",
    "\n",
    "This file implements a parser for terms and equations.  It uses the parser generator `Ply`.  To install [Ply](https://www.dabeaz.com/ply/ply.html), change the cell below into a code cell and execute it.  If the package `ply` is already installed, this command will only produce a message that the package is already installed."
   ]
  },
  {
   "cell_type": "code",
   "execution_count": 2,
   "metadata": {},
   "outputs": [
    {
     "name": "stdout",
     "output_type": "stream",
     "text": [
      "/Users/stroetmann/opt/anaconda3/lib/python3.12/site-packages/conda/base/context.py:201: FutureWarning: Adding 'defaults' to channel list implicitly is deprecated and will be removed in 25.3. \n",
      "\n",
      "To remove this warning, please choose a default channel explicitly with conda's regular configuration system, e.g. by adding 'defaults' to the list of channels:\n",
      "\n",
      "  conda config --add channels defaults\n",
      "\n",
      "For more information see https://docs.conda.io/projects/conda/en/stable/user-guide/configuration/use-condarc.html\n",
      "\n",
      "  deprecated.topic(\n",
      "doneieving notices: - \n",
      "Channels:\n",
      " - anaconda\n",
      " - defaults\n",
      "Platform: osx-arm64\n",
      "doneecting package metadata (repodata.json): - \n",
      "doneing environment: / \n",
      "\n",
      "\n",
      "==> WARNING: A newer version of conda exists. <==\n",
      "    current version: 24.11.3\n",
      "    latest version: 25.1.1\n",
      "\n",
      "Please update conda by running\n",
      "\n",
      "    $ conda update -n base -c defaults conda\n",
      "\n",
      "\n",
      "\n",
      "## Package Plan ##\n",
      "\n",
      "  environment location: /Users/stroetmann/opt/anaconda3/envs/ai\n",
      "\n",
      "  added / updated specs:\n",
      "    - ply\n",
      "\n",
      "\n",
      "The following packages will be downloaded:\n",
      "\n",
      "    package                    |            build\n",
      "    ---------------------------|-----------------\n",
      "    ca-certificates-2025.2.25  |       hca03da5_0         138 KB  anaconda\n",
      "    ------------------------------------------------------------\n",
      "                                           Total:         138 KB\n",
      "\n",
      "The following packages will be UPDATED:\n",
      "\n",
      "  ca-certificates    pkgs/main::ca-certificates-2024.12.31~ --> anaconda::ca-certificates-2025.2.25-hca03da5_0 \n",
      "\n",
      "\n",
      "\n",
      "Downloading and Extracting Packages:\n",
      "                                                                                \n",
      "donearing transaction: / \n",
      "donefying transaction: \\ \n",
      "doneuting transaction: - \n"
     ]
    }
   ],
   "source": [
    "!conda install -y -c anaconda ply"
   ]
  },
  {
   "cell_type": "markdown",
   "metadata": {},
   "source": [
    "## Specification of the Scanner\n",
    "\n",
    "The scanner that is implemented below recognizes *numbers*, *variable names*, *function symbols*, and various *operator symbols*.  Variable names have to start with a lower case letter, while function names start with an uppercase letter."
   ]
  },
  {
   "cell_type": "code",
   "execution_count": 3,
   "metadata": {},
   "outputs": [],
   "source": [
    "import ply.lex as lex"
   ]
  },
  {
   "cell_type": "code",
   "execution_count": 4,
   "metadata": {},
   "outputs": [],
   "source": [
    "tokens = [ 'NUMBER', 'VAR', 'FCT', 'BACKSLASH' ]"
   ]
  },
  {
   "cell_type": "markdown",
   "metadata": {},
   "source": [
    "The token `Number` specifies a *natural number*.  Syntactically, numbers are treated a *function symbols*."
   ]
  },
  {
   "cell_type": "code",
   "execution_count": 5,
   "metadata": {},
   "outputs": [],
   "source": [
    "def t_NUMBER(t):\n",
    "    r'0|[1-9][0-9]*'\n",
    "    return t"
   ]
  },
  {
   "cell_type": "markdown",
   "metadata": {},
   "source": [
    "Variables start with a letter, followed by letters, digits, and underscores. They must be followed by a character that is not an opening parenthesis `(`.  The operator `(?=` is the *lookahead* operator."
   ]
  },
  {
   "cell_type": "code",
   "execution_count": 6,
   "metadata": {},
   "outputs": [],
   "source": [
    "def t_VAR(t):\n",
    "    r'[a-zA-Z][a-zA-Z0-9_]*(?=[^(a-zA-Z0-9_])'\n",
    "    return t"
   ]
  },
  {
   "cell_type": "markdown",
   "metadata": {},
   "source": [
    "Function names start with a letter, followed by letters, digits, and underscores. \n",
    "They have to be followed by an opening parenthesis `(`."
   ]
  },
  {
   "cell_type": "code",
   "execution_count": 7,
   "metadata": {},
   "outputs": [],
   "source": [
    "def t_FCT(t):\n",
    "    r'[a-zA-Z][a-zA-Z0-9_]*(?=[(])'\n",
    "    return t"
   ]
  },
  {
   "cell_type": "code",
   "execution_count": 8,
   "metadata": {},
   "outputs": [],
   "source": [
    "def t_BACKSLASH(t):\n",
    "    r'\\\\'\n",
    "    return t"
   ]
  },
  {
   "cell_type": "markdown",
   "metadata": {},
   "source": [
    "Single line comments are supported and work as in `C`."
   ]
  },
  {
   "cell_type": "code",
   "execution_count": 9,
   "metadata": {},
   "outputs": [],
   "source": [
    "def t_COMMENT(t):\n",
    "    r'//[^\\n]*'\n",
    "    t.lexer.lineno += t.value.count('\\n')\n",
    "    pass"
   ]
  },
  {
   "cell_type": "markdown",
   "metadata": {},
   "source": [
    "The arithmetic operators and a few other symbols are supported."
   ]
  },
  {
   "cell_type": "code",
   "execution_count": 10,
   "metadata": {},
   "outputs": [],
   "source": [
    "literals = ['+', '-', '*', '/', '%', '^', '(', ')', ';', '=', ',']"
   ]
  },
  {
   "cell_type": "markdown",
   "metadata": {},
   "source": [
    "White space, i.e. *space characters*, *tabulators*, and *carriage returns* are ignored. "
   ]
  },
  {
   "cell_type": "code",
   "execution_count": 11,
   "metadata": {},
   "outputs": [],
   "source": [
    "t_ignore  = ' \\t\\r'"
   ]
  },
  {
   "cell_type": "markdown",
   "metadata": {},
   "source": [
    "Syntactically, newline characters are ignored. However, we still need to keep track of them in order to know which line we are in.  This information is needed later for error messages."
   ]
  },
  {
   "cell_type": "code",
   "execution_count": 12,
   "metadata": {},
   "outputs": [],
   "source": [
    "def t_newline(t):\n",
    "    r'\\n'\n",
    "    t.lexer.lineno += 1\n",
    "    return"
   ]
  },
  {
   "cell_type": "markdown",
   "metadata": {},
   "source": [
    "Given a `token`, the function `find_colum` returns the column where `token` starts.\n",
    "This is possible, because `token.lexer.lexdata` stores the string that is given to the scanner and `token.lexpos` is the number of characters that precede `token`."
   ]
  },
  {
   "cell_type": "code",
   "execution_count": 13,
   "metadata": {},
   "outputs": [],
   "source": [
    "def find_column(token):\n",
    "    data       = token.lexer.lexdata\n",
    "    line_start = data.rfind('\\n', 0, token.lexpos) + 1\n",
    "    return (token.lexpos - line_start) + 1"
   ]
  },
  {
   "cell_type": "markdown",
   "metadata": {},
   "source": [
    "The function `t_error` is called for any token `t` that can not be scanned by the lexer.  In this case, `t.value[0]` is the first character that can not be recognized by the scanner."
   ]
  },
  {
   "cell_type": "code",
   "execution_count": 14,
   "metadata": {},
   "outputs": [],
   "source": [
    "def t_error(t):\n",
    "    column = find_column(t)\n",
    "    print(f\"Illegal character '{t.value[0]}' in line {t.lineno}, column {column}.\")\n",
    "    t.lexer.skip(1)"
   ]
  },
  {
   "cell_type": "markdown",
   "metadata": {},
   "source": [
    "The next assignment is necessary to make the lexer think that the code given above is part of some file."
   ]
  },
  {
   "cell_type": "code",
   "execution_count": 15,
   "metadata": {},
   "outputs": [],
   "source": [
    "__file__ = 'main'"
   ]
  },
  {
   "cell_type": "code",
   "execution_count": 16,
   "metadata": {},
   "outputs": [],
   "source": [
    "lexer = lex.lex()"
   ]
  },
  {
   "cell_type": "code",
   "execution_count": 17,
   "metadata": {},
   "outputs": [],
   "source": [
    "def test_scanner(file_name):\n",
    "    with open(file_name, 'r') as handle:\n",
    "        program = handle.read() \n",
    "    print(program)\n",
    "    lexer.input(program)\n",
    "    lexer.lineno = 1\n",
    "    return [t for t in lexer]"
   ]
  },
  {
   "cell_type": "code",
   "execution_count": 18,
   "metadata": {},
   "outputs": [
    {
     "name": "stdout",
     "output_type": "stream",
     "text": [
      "x * (x \\ y) = y;\n",
      "(x / y) * y = x;\n",
      "x \\ (x * y) = y;\n",
      "(x * y) / y = x;\n",
      "LexToken(VAR,'x',1,0)\n",
      "LexToken(*,'*',1,2)\n",
      "LexToken((,'(',1,4)\n",
      "LexToken(VAR,'x',1,5)\n",
      "LexToken(BACKSLASH,'\\\\',1,7)\n",
      "LexToken(VAR,'y',1,9)\n",
      "LexToken(),')',1,10)\n",
      "LexToken(=,'=',1,12)\n",
      "LexToken(VAR,'y',1,14)\n",
      "LexToken(;,';',1,15)\n",
      "LexToken((,'(',2,17)\n",
      "LexToken(VAR,'x',2,18)\n",
      "LexToken(/,'/',2,20)\n",
      "LexToken(VAR,'y',2,22)\n",
      "LexToken(),')',2,23)\n",
      "LexToken(*,'*',2,25)\n",
      "LexToken(VAR,'y',2,27)\n",
      "LexToken(=,'=',2,29)\n",
      "LexToken(VAR,'x',2,31)\n",
      "LexToken(;,';',2,32)\n",
      "LexToken(VAR,'x',3,34)\n",
      "LexToken(BACKSLASH,'\\\\',3,36)\n",
      "LexToken((,'(',3,38)\n",
      "LexToken(VAR,'x',3,39)\n",
      "LexToken(*,'*',3,41)\n",
      "LexToken(VAR,'y',3,43)\n",
      "LexToken(),')',3,44)\n",
      "LexToken(=,'=',3,46)\n",
      "LexToken(VAR,'y',3,48)\n",
      "LexToken(;,';',3,49)\n",
      "LexToken((,'(',4,51)\n",
      "LexToken(VAR,'x',4,52)\n",
      "LexToken(*,'*',4,54)\n",
      "LexToken(VAR,'y',4,56)\n",
      "LexToken(),')',4,57)\n",
      "LexToken(/,'/',4,59)\n",
      "LexToken(VAR,'y',4,61)\n",
      "LexToken(=,'=',4,63)\n",
      "LexToken(VAR,'x',4,65)\n",
      "LexToken(;,';',4,66)\n"
     ]
    }
   ],
   "source": [
    "for t in test_scanner('Examples/quasigroups.eqn'):\n",
    "    print(t)"
   ]
  },
  {
   "cell_type": "markdown",
   "metadata": {},
   "source": [
    "## Specification of the Parser"
   ]
  },
  {
   "cell_type": "markdown",
   "metadata": {},
   "source": [
    "We will use the following grammar to specify the language that our compiler can translate:\n",
    "```\n",
    "axioms\n",
    "    : equation\n",
    "    | axioms equation \n",
    "    ;\n",
    "    \n",
    "equation \n",
    "    : term '=' term\n",
    "    ;\n",
    " \n",
    "term: term '+'  term                 \n",
    "    | term '-' term               \n",
    "    | term '*' term               \n",
    "    | term '/' term \n",
    "    | term '\\' term\n",
    "    | term '%' term\n",
    "    | term '^' term\n",
    "    | '(' term ')' \n",
    "    | FCT '(' term_list ')'     \n",
    "    | FCT                     \n",
    "    | VAR\n",
    "    ;\n",
    "    \n",
    "term_list\n",
    "    : /* epsilon */\n",
    "    | term\n",
    "    | term ',' ne_term_list\n",
    "    ;\n",
    "    \n",
    "ne_term_list\n",
    "    : term\n",
    "    | term ',' ne_term_list\n",
    "    ;\n",
    "```\n",
    "We will use precedence declarations to resolve the ambiguity that is inherent in this grammar."
   ]
  },
  {
   "cell_type": "code",
   "execution_count": 19,
   "metadata": {},
   "outputs": [],
   "source": [
    "import ply.yacc as yacc"
   ]
  },
  {
   "cell_type": "markdown",
   "metadata": {},
   "source": [
    "The *start variable* of our grammar is `axioms`."
   ]
  },
  {
   "cell_type": "code",
   "execution_count": 20,
   "metadata": {},
   "outputs": [],
   "source": [
    "start = 'axioms'"
   ]
  },
  {
   "cell_type": "code",
   "execution_count": 21,
   "metadata": {},
   "outputs": [],
   "source": [
    "precedence = (\n",
    "    ('nonassoc', '='),\n",
    "    ('left', '+', '-'),\n",
    "    ('left', '*', '/', 'BACKSLASH', '%'),\n",
    "    ('right', '^')\n",
    ")"
   ]
  },
  {
   "cell_type": "code",
   "execution_count": 22,
   "metadata": {},
   "outputs": [],
   "source": [
    "def p_axioms_one(p):\n",
    "    \"axioms : equation\"\n",
    "    p[0] = ('axioms', p[1])\n",
    "    \n",
    "def p_axioms_more(p):\n",
    "    \"axioms : axioms equation\"\n",
    "    p[0] = p[1] + (p[2],)"
   ]
  },
  {
   "cell_type": "code",
   "execution_count": 23,
   "metadata": {},
   "outputs": [],
   "source": [
    "def p_equation(p):\n",
    "    \"equation : term '=' term ';'\"\n",
    "    p[0] = ('=', p[1], p[3])"
   ]
  },
  {
   "cell_type": "code",
   "execution_count": 24,
   "metadata": {},
   "outputs": [],
   "source": [
    "def p_term_plus(p):\n",
    "    \"term : term '+' term\"\n",
    "    p[0] = ('+', p[1], p[3])\n",
    "    \n",
    "def p_term_minus(p):\n",
    "    \"term : term '-' term\"\n",
    "    p[0] = ('-', p[1], p[3])\n",
    "    \n",
    "def p_term_times(p):\n",
    "    \"term : term '*' term\"\n",
    "    p[0] = ('*', p[1], p[3])\n",
    "    \n",
    "def p_term_divide(p):\n",
    "    \"term : term '/' term\"\n",
    "    p[0] = ('/', p[1], p[3])\n",
    "    \n",
    "def p_term_backslash(p):\n",
    "    \"term : term BACKSLASH term\"\n",
    "    p[0] = ('\\\\', p[1], p[3])\n",
    "    \n",
    "def p_term_modulo(p):\n",
    "    \"term : term '%' term\"\n",
    "    p[0] = ('%', p[1], p[3])\n",
    "    \n",
    "def p_term_power(p):\n",
    "    \"term : term '^' term\"\n",
    "    p[0] = ('^', p[1], p[3])\n",
    "    \n",
    "def p_term_group(p):\n",
    "    \"term : '(' term ')'\"\n",
    "    p[0] = p[2]\n",
    "\n",
    "def p_term_fct_call(p):\n",
    "    \"term : FCT '(' term_list ')'\"\n",
    "    p[0] = (p[1],) + p[3][1:]\n",
    "\n",
    "def p_term_number(p):\n",
    "    \"term : NUMBER\"\n",
    "    p[0] = (p[1],)\n",
    "\n",
    "def p_term_id(p):\n",
    "    \"term : VAR\"\n",
    "    p[0] = ('$var', p[1])"
   ]
  },
  {
   "cell_type": "code",
   "execution_count": 25,
   "metadata": {},
   "outputs": [],
   "source": [
    "def p_term_list_empty(p):\n",
    "    \"term_list :\"\n",
    "    p[0] = ('.',)\n",
    "    \n",
    "def p_term_list_one(p):\n",
    "    \"term_list : term\"\n",
    "    p[0] = ('.', p[1])     \n",
    "\n",
    "def p_term_list_more(p):\n",
    "    \"term_list : term ',' ne_term_list\"\n",
    "    p[0] = ('.', p[1]) + p[3][1:]     \n",
    "\n",
    "def p_ne_term_list_one(p):\n",
    "    \"ne_term_list : term\"\n",
    "    p[0] = ('.', p[1]) \n",
    "    \n",
    "def p_ne_term_list_more(p):\n",
    "    \"ne_term_list : term ',' ne_term_list\"\n",
    "    p[0] = ('.', p[1]) + p[3][1:] "
   ]
  },
  {
   "cell_type": "code",
   "execution_count": 26,
   "metadata": {},
   "outputs": [],
   "source": [
    "def p_error(p):\n",
    "    if p:\n",
    "        column = find_column(p)\n",
    "        print(f'Syntax error at token \"{p.value}\" in line {p.lineno}, column {column}.')\n",
    "    else:\n",
    "        print('Syntax error at end of input.')"
   ]
  },
  {
   "cell_type": "markdown",
   "metadata": {},
   "source": [
    "Setting the optional argument `write_tables` to `False` **is required** to prevent an obscure bug where the parser generator tries to read an empty parse table.  As we have used *precedence declarations* to resolve all shift/reduce conflicts, the action table should contain no conflict. "
   ]
  },
  {
   "cell_type": "code",
   "execution_count": 27,
   "metadata": {},
   "outputs": [
    {
     "name": "stderr",
     "output_type": "stream",
     "text": [
      "Generating LALR tables\n"
     ]
    }
   ],
   "source": [
    "parser = yacc.yacc(write_tables=False, debug=True)"
   ]
  },
  {
   "cell_type": "markdown",
   "metadata": {
    "scrolled": true
   },
   "source": [
    "!cat parser.out"
   ]
  },
  {
   "cell_type": "markdown",
   "metadata": {},
   "source": [
    "The notebook `AST-2-Dot.ipynb` provides the function `tuple2dot`.  This function can be used to visualize the abstract syntax tree that is generated by the function `yacc.parse`."
   ]
  },
  {
   "cell_type": "code",
   "execution_count": 28,
   "metadata": {},
   "outputs": [],
   "source": [
    "%run AST-2-Dot.ipynb"
   ]
  },
  {
   "cell_type": "markdown",
   "metadata": {},
   "source": [
    "The function `parse` takes a `file_name` as its sole argument.  The file is read and parsed. \n",
    "The resulting parse tree is visualized using `graphviz`.  It is important to reset the\n",
    "attribute `lineno` of the scanner, for otherwise error messages will not have the correct line numbers."
   ]
  },
  {
   "cell_type": "code",
   "execution_count": 29,
   "metadata": {},
   "outputs": [],
   "source": [
    "def test_parse(file_name):\n",
    "    lexer.lineno = 1\n",
    "    with open(file_name, 'r') as handle:\n",
    "        program = handle.read() \n",
    "    ast = yacc.parse(program)\n",
    "    print(ast)\n",
    "    return tuple2dot(ast)"
   ]
  },
  {
   "cell_type": "markdown",
   "metadata": {},
   "source": [
    "!cat Examples/quasigroups.eqn"
   ]
  },
  {
   "cell_type": "code",
   "execution_count": 30,
   "metadata": {},
   "outputs": [
    {
     "name": "stdout",
     "output_type": "stream",
     "text": [
      "('axioms', ('=', ('*', ('$var', 'x'), ('\\\\', ('$var', 'x'), ('$var', 'y'))), ('$var', 'y')), ('=', ('*', ('/', ('$var', 'x'), ('$var', 'y')), ('$var', 'y')), ('$var', 'x')), ('=', ('\\\\', ('$var', 'x'), ('*', ('$var', 'x'), ('$var', 'y'))), ('$var', 'y')), ('=', ('/', ('*', ('$var', 'x'), ('$var', 'y')), ('$var', 'y')), ('$var', 'x')))\n"
     ]
    },
    {
     "data": {
      "image/svg+xml": [
       "<?xml version=\"1.0\" encoding=\"UTF-8\" standalone=\"no\"?>\n",
       "<!DOCTYPE svg PUBLIC \"-//W3C//DTD SVG 1.1//EN\"\n",
       " \"http://www.w3.org/Graphics/SVG/1.1/DTD/svg11.dtd\">\n",
       "<!-- Generated by graphviz version 2.50.0 (0)\n",
       " -->\n",
       "<!-- Title: Abstract Syntax Tree Pages: 1 -->\n",
       "<svg width=\"908pt\" height=\"404pt\"\n",
       " viewBox=\"0.00 0.00 908.00 404.00\" xmlns=\"http://www.w3.org/2000/svg\" xmlns:xlink=\"http://www.w3.org/1999/xlink\">\n",
       "<g id=\"graph0\" class=\"graph\" transform=\"scale(1 1) rotate(0) translate(4 400)\">\n",
       "<title>Abstract Syntax Tree</title>\n",
       "<polygon fill=\"white\" stroke=\"transparent\" points=\"-4,4 -4,-400 904,-400 904,4 -4,4\"/>\n",
       "<!-- 0 -->\n",
       "<g id=\"node1\" class=\"node\">\n",
       "<title>0</title>\n",
       "<ellipse fill=\"none\" stroke=\"black\" cx=\"504\" cy=\"-378\" rx=\"36.29\" ry=\"18\"/>\n",
       "<text text-anchor=\"middle\" x=\"504\" y=\"-374.3\" font-family=\"Times,serif\" font-size=\"14.00\">axioms</text>\n",
       "</g>\n",
       "<!-- 1 -->\n",
       "<g id=\"node2\" class=\"node\">\n",
       "<title>1</title>\n",
       "<ellipse fill=\"none\" stroke=\"black\" cx=\"216\" cy=\"-306\" rx=\"27\" ry=\"18\"/>\n",
       "<text text-anchor=\"middle\" x=\"216\" y=\"-302.3\" font-family=\"Times,serif\" font-size=\"14.00\">=</text>\n",
       "</g>\n",
       "<!-- 0&#45;&gt;1 -->\n",
       "<g id=\"edge1\" class=\"edge\">\n",
       "<title>0&#45;&gt;1</title>\n",
       "<path fill=\"none\" stroke=\"black\" d=\"M472.08,-369.24C417.62,-356 307.19,-329.16 250.81,-315.46\"/>\n",
       "<polygon fill=\"black\" stroke=\"black\" points=\"251.49,-312.02 240.94,-313.06 249.83,-318.83 251.49,-312.02\"/>\n",
       "</g>\n",
       "<!-- 12 -->\n",
       "<g id=\"node13\" class=\"node\">\n",
       "<title>12</title>\n",
       "<ellipse fill=\"none\" stroke=\"black\" cx=\"432\" cy=\"-306\" rx=\"27\" ry=\"18\"/>\n",
       "<text text-anchor=\"middle\" x=\"432\" y=\"-302.3\" font-family=\"Times,serif\" font-size=\"14.00\">=</text>\n",
       "</g>\n",
       "<!-- 0&#45;&gt;12 -->\n",
       "<g id=\"edge12\" class=\"edge\">\n",
       "<title>0&#45;&gt;12</title>\n",
       "<path fill=\"none\" stroke=\"black\" d=\"M488.02,-361.46C478.06,-351.78 465.09,-339.17 454.15,-328.53\"/>\n",
       "<polygon fill=\"black\" stroke=\"black\" points=\"456.56,-326 446.95,-321.54 451.68,-331.02 456.56,-326\"/>\n",
       "</g>\n",
       "<!-- 23 -->\n",
       "<g id=\"node24\" class=\"node\">\n",
       "<title>23</title>\n",
       "<ellipse fill=\"none\" stroke=\"black\" cx=\"540\" cy=\"-306\" rx=\"27\" ry=\"18\"/>\n",
       "<text text-anchor=\"middle\" x=\"540\" y=\"-302.3\" font-family=\"Times,serif\" font-size=\"14.00\">=</text>\n",
       "</g>\n",
       "<!-- 0&#45;&gt;23 -->\n",
       "<g id=\"edge23\" class=\"edge\">\n",
       "<title>0&#45;&gt;23</title>\n",
       "<path fill=\"none\" stroke=\"black\" d=\"M512.53,-360.41C516.84,-352.04 522.15,-341.71 526.95,-332.37\"/>\n",
       "<polygon fill=\"black\" stroke=\"black\" points=\"530.07,-333.96 531.53,-323.47 523.84,-330.76 530.07,-333.96\"/>\n",
       "</g>\n",
       "<!-- 34 -->\n",
       "<g id=\"node35\" class=\"node\">\n",
       "<title>34</title>\n",
       "<ellipse fill=\"none\" stroke=\"black\" cx=\"747\" cy=\"-306\" rx=\"27\" ry=\"18\"/>\n",
       "<text text-anchor=\"middle\" x=\"747\" y=\"-302.3\" font-family=\"Times,serif\" font-size=\"14.00\">=</text>\n",
       "</g>\n",
       "<!-- 0&#45;&gt;34 -->\n",
       "<g id=\"edge34\" class=\"edge\">\n",
       "<title>0&#45;&gt;34</title>\n",
       "<path fill=\"none\" stroke=\"black\" d=\"M534.78,-368.13C580.35,-355.01 665.47,-330.49 712.89,-316.83\"/>\n",
       "<polygon fill=\"black\" stroke=\"black\" points=\"714.05,-320.13 722.69,-314 712.11,-313.41 714.05,-320.13\"/>\n",
       "</g>\n",
       "<!-- 2 -->\n",
       "<g id=\"node3\" class=\"node\">\n",
       "<title>2</title>\n",
       "<ellipse fill=\"none\" stroke=\"black\" cx=\"144\" cy=\"-234\" rx=\"27\" ry=\"18\"/>\n",
       "<text text-anchor=\"middle\" x=\"144\" y=\"-230.3\" font-family=\"Times,serif\" font-size=\"14.00\">*</text>\n",
       "</g>\n",
       "<!-- 1&#45;&gt;2 -->\n",
       "<g id=\"edge2\" class=\"edge\">\n",
       "<title>1&#45;&gt;2</title>\n",
       "<path fill=\"none\" stroke=\"black\" d=\"M201.43,-290.83C191.25,-280.94 177.48,-267.55 165.97,-256.36\"/>\n",
       "<polygon fill=\"black\" stroke=\"black\" points=\"168.41,-253.85 158.8,-249.38 163.53,-258.87 168.41,-253.85\"/>\n",
       "</g>\n",
       "<!-- 10 -->\n",
       "<g id=\"node11\" class=\"node\">\n",
       "<title>10</title>\n",
       "<ellipse fill=\"none\" stroke=\"black\" cx=\"216\" cy=\"-234\" rx=\"27\" ry=\"18\"/>\n",
       "<text text-anchor=\"middle\" x=\"216\" y=\"-230.3\" font-family=\"Times,serif\" font-size=\"14.00\">$var</text>\n",
       "</g>\n",
       "<!-- 1&#45;&gt;10 -->\n",
       "<g id=\"edge10\" class=\"edge\">\n",
       "<title>1&#45;&gt;10</title>\n",
       "<path fill=\"none\" stroke=\"black\" d=\"M216,-287.7C216,-279.98 216,-270.71 216,-262.11\"/>\n",
       "<polygon fill=\"black\" stroke=\"black\" points=\"219.5,-262.1 216,-252.1 212.5,-262.1 219.5,-262.1\"/>\n",
       "</g>\n",
       "<!-- 3 -->\n",
       "<g id=\"node4\" class=\"node\">\n",
       "<title>3</title>\n",
       "<ellipse fill=\"none\" stroke=\"black\" cx=\"27\" cy=\"-162\" rx=\"27\" ry=\"18\"/>\n",
       "<text text-anchor=\"middle\" x=\"27\" y=\"-158.3\" font-family=\"Times,serif\" font-size=\"14.00\">$var</text>\n",
       "</g>\n",
       "<!-- 2&#45;&gt;3 -->\n",
       "<g id=\"edge3\" class=\"edge\">\n",
       "<title>2&#45;&gt;3</title>\n",
       "<path fill=\"none\" stroke=\"black\" d=\"M124.42,-221.28C105.52,-209.98 76.71,-192.74 55.31,-179.94\"/>\n",
       "<polygon fill=\"black\" stroke=\"black\" points=\"57.03,-176.89 46.65,-174.75 53.43,-182.89 57.03,-176.89\"/>\n",
       "</g>\n",
       "<!-- 5 -->\n",
       "<g id=\"node6\" class=\"node\">\n",
       "<title>5</title>\n",
       "<ellipse fill=\"none\" stroke=\"black\" cx=\"144\" cy=\"-162\" rx=\"27\" ry=\"18\"/>\n",
       "<text text-anchor=\"middle\" x=\"144\" y=\"-158.3\" font-family=\"Times,serif\" font-size=\"14.00\">\\</text>\n",
       "</g>\n",
       "<!-- 2&#45;&gt;5 -->\n",
       "<g id=\"edge5\" class=\"edge\">\n",
       "<title>2&#45;&gt;5</title>\n",
       "<path fill=\"none\" stroke=\"black\" d=\"M144,-215.7C144,-207.98 144,-198.71 144,-190.11\"/>\n",
       "<polygon fill=\"black\" stroke=\"black\" points=\"147.5,-190.1 144,-180.1 140.5,-190.1 147.5,-190.1\"/>\n",
       "</g>\n",
       "<!-- 4 -->\n",
       "<g id=\"node5\" class=\"node\">\n",
       "<title>4</title>\n",
       "<ellipse fill=\"none\" stroke=\"black\" cx=\"27\" cy=\"-90\" rx=\"27\" ry=\"18\"/>\n",
       "<text text-anchor=\"middle\" x=\"27\" y=\"-86.3\" font-family=\"Times,serif\" font-size=\"14.00\">x</text>\n",
       "</g>\n",
       "<!-- 3&#45;&gt;4 -->\n",
       "<g id=\"edge4\" class=\"edge\">\n",
       "<title>3&#45;&gt;4</title>\n",
       "<path fill=\"none\" stroke=\"black\" d=\"M27,-143.7C27,-135.98 27,-126.71 27,-118.11\"/>\n",
       "<polygon fill=\"black\" stroke=\"black\" points=\"30.5,-118.1 27,-108.1 23.5,-118.1 30.5,-118.1\"/>\n",
       "</g>\n",
       "<!-- 6 -->\n",
       "<g id=\"node7\" class=\"node\">\n",
       "<title>6</title>\n",
       "<ellipse fill=\"none\" stroke=\"black\" cx=\"99\" cy=\"-90\" rx=\"27\" ry=\"18\"/>\n",
       "<text text-anchor=\"middle\" x=\"99\" y=\"-86.3\" font-family=\"Times,serif\" font-size=\"14.00\">$var</text>\n",
       "</g>\n",
       "<!-- 5&#45;&gt;6 -->\n",
       "<g id=\"edge6\" class=\"edge\">\n",
       "<title>5&#45;&gt;6</title>\n",
       "<path fill=\"none\" stroke=\"black\" d=\"M133.79,-145.12C128.15,-136.34 121.03,-125.26 114.7,-115.42\"/>\n",
       "<polygon fill=\"black\" stroke=\"black\" points=\"117.52,-113.34 109.17,-106.82 111.63,-117.13 117.52,-113.34\"/>\n",
       "</g>\n",
       "<!-- 8 -->\n",
       "<g id=\"node9\" class=\"node\">\n",
       "<title>8</title>\n",
       "<ellipse fill=\"none\" stroke=\"black\" cx=\"171\" cy=\"-90\" rx=\"27\" ry=\"18\"/>\n",
       "<text text-anchor=\"middle\" x=\"171\" y=\"-86.3\" font-family=\"Times,serif\" font-size=\"14.00\">$var</text>\n",
       "</g>\n",
       "<!-- 5&#45;&gt;8 -->\n",
       "<g id=\"edge8\" class=\"edge\">\n",
       "<title>5&#45;&gt;8</title>\n",
       "<path fill=\"none\" stroke=\"black\" d=\"M150.4,-144.41C153.51,-136.34 157.33,-126.43 160.83,-117.35\"/>\n",
       "<polygon fill=\"black\" stroke=\"black\" points=\"164.13,-118.55 164.46,-107.96 157.6,-116.03 164.13,-118.55\"/>\n",
       "</g>\n",
       "<!-- 7 -->\n",
       "<g id=\"node8\" class=\"node\">\n",
       "<title>7</title>\n",
       "<ellipse fill=\"none\" stroke=\"black\" cx=\"99\" cy=\"-18\" rx=\"27\" ry=\"18\"/>\n",
       "<text text-anchor=\"middle\" x=\"99\" y=\"-14.3\" font-family=\"Times,serif\" font-size=\"14.00\">x</text>\n",
       "</g>\n",
       "<!-- 6&#45;&gt;7 -->\n",
       "<g id=\"edge7\" class=\"edge\">\n",
       "<title>6&#45;&gt;7</title>\n",
       "<path fill=\"none\" stroke=\"black\" d=\"M99,-71.7C99,-63.98 99,-54.71 99,-46.11\"/>\n",
       "<polygon fill=\"black\" stroke=\"black\" points=\"102.5,-46.1 99,-36.1 95.5,-46.1 102.5,-46.1\"/>\n",
       "</g>\n",
       "<!-- 9 -->\n",
       "<g id=\"node10\" class=\"node\">\n",
       "<title>9</title>\n",
       "<ellipse fill=\"none\" stroke=\"black\" cx=\"171\" cy=\"-18\" rx=\"27\" ry=\"18\"/>\n",
       "<text text-anchor=\"middle\" x=\"171\" y=\"-14.3\" font-family=\"Times,serif\" font-size=\"14.00\">y</text>\n",
       "</g>\n",
       "<!-- 8&#45;&gt;9 -->\n",
       "<g id=\"edge9\" class=\"edge\">\n",
       "<title>8&#45;&gt;9</title>\n",
       "<path fill=\"none\" stroke=\"black\" d=\"M171,-71.7C171,-63.98 171,-54.71 171,-46.11\"/>\n",
       "<polygon fill=\"black\" stroke=\"black\" points=\"174.5,-46.1 171,-36.1 167.5,-46.1 174.5,-46.1\"/>\n",
       "</g>\n",
       "<!-- 11 -->\n",
       "<g id=\"node12\" class=\"node\">\n",
       "<title>11</title>\n",
       "<ellipse fill=\"none\" stroke=\"black\" cx=\"216\" cy=\"-162\" rx=\"27\" ry=\"18\"/>\n",
       "<text text-anchor=\"middle\" x=\"216\" y=\"-158.3\" font-family=\"Times,serif\" font-size=\"14.00\">y</text>\n",
       "</g>\n",
       "<!-- 10&#45;&gt;11 -->\n",
       "<g id=\"edge11\" class=\"edge\">\n",
       "<title>10&#45;&gt;11</title>\n",
       "<path fill=\"none\" stroke=\"black\" d=\"M216,-215.7C216,-207.98 216,-198.71 216,-190.11\"/>\n",
       "<polygon fill=\"black\" stroke=\"black\" points=\"219.5,-190.1 216,-180.1 212.5,-190.1 219.5,-190.1\"/>\n",
       "</g>\n",
       "<!-- 13 -->\n",
       "<g id=\"node14\" class=\"node\">\n",
       "<title>13</title>\n",
       "<ellipse fill=\"none\" stroke=\"black\" cx=\"360\" cy=\"-234\" rx=\"27\" ry=\"18\"/>\n",
       "<text text-anchor=\"middle\" x=\"360\" y=\"-230.3\" font-family=\"Times,serif\" font-size=\"14.00\">*</text>\n",
       "</g>\n",
       "<!-- 12&#45;&gt;13 -->\n",
       "<g id=\"edge13\" class=\"edge\">\n",
       "<title>12&#45;&gt;13</title>\n",
       "<path fill=\"none\" stroke=\"black\" d=\"M417.43,-290.83C407.25,-280.94 393.48,-267.55 381.97,-256.36\"/>\n",
       "<polygon fill=\"black\" stroke=\"black\" points=\"384.41,-253.85 374.8,-249.38 379.53,-258.87 384.41,-253.85\"/>\n",
       "</g>\n",
       "<!-- 21 -->\n",
       "<g id=\"node22\" class=\"node\">\n",
       "<title>21</title>\n",
       "<ellipse fill=\"none\" stroke=\"black\" cx=\"432\" cy=\"-234\" rx=\"27\" ry=\"18\"/>\n",
       "<text text-anchor=\"middle\" x=\"432\" y=\"-230.3\" font-family=\"Times,serif\" font-size=\"14.00\">$var</text>\n",
       "</g>\n",
       "<!-- 12&#45;&gt;21 -->\n",
       "<g id=\"edge21\" class=\"edge\">\n",
       "<title>12&#45;&gt;21</title>\n",
       "<path fill=\"none\" stroke=\"black\" d=\"M432,-287.7C432,-279.98 432,-270.71 432,-262.11\"/>\n",
       "<polygon fill=\"black\" stroke=\"black\" points=\"435.5,-262.1 432,-252.1 428.5,-262.1 435.5,-262.1\"/>\n",
       "</g>\n",
       "<!-- 14 -->\n",
       "<g id=\"node15\" class=\"node\">\n",
       "<title>14</title>\n",
       "<ellipse fill=\"none\" stroke=\"black\" cx=\"288\" cy=\"-162\" rx=\"27\" ry=\"18\"/>\n",
       "<text text-anchor=\"middle\" x=\"288\" y=\"-158.3\" font-family=\"Times,serif\" font-size=\"14.00\">/</text>\n",
       "</g>\n",
       "<!-- 13&#45;&gt;14 -->\n",
       "<g id=\"edge14\" class=\"edge\">\n",
       "<title>13&#45;&gt;14</title>\n",
       "<path fill=\"none\" stroke=\"black\" d=\"M345.43,-218.83C335.25,-208.94 321.48,-195.55 309.97,-184.36\"/>\n",
       "<polygon fill=\"black\" stroke=\"black\" points=\"312.41,-181.85 302.8,-177.38 307.53,-186.87 312.41,-181.85\"/>\n",
       "</g>\n",
       "<!-- 19 -->\n",
       "<g id=\"node20\" class=\"node\">\n",
       "<title>19</title>\n",
       "<ellipse fill=\"none\" stroke=\"black\" cx=\"360\" cy=\"-162\" rx=\"27\" ry=\"18\"/>\n",
       "<text text-anchor=\"middle\" x=\"360\" y=\"-158.3\" font-family=\"Times,serif\" font-size=\"14.00\">$var</text>\n",
       "</g>\n",
       "<!-- 13&#45;&gt;19 -->\n",
       "<g id=\"edge19\" class=\"edge\">\n",
       "<title>13&#45;&gt;19</title>\n",
       "<path fill=\"none\" stroke=\"black\" d=\"M360,-215.7C360,-207.98 360,-198.71 360,-190.11\"/>\n",
       "<polygon fill=\"black\" stroke=\"black\" points=\"363.5,-190.1 360,-180.1 356.5,-190.1 363.5,-190.1\"/>\n",
       "</g>\n",
       "<!-- 15 -->\n",
       "<g id=\"node16\" class=\"node\">\n",
       "<title>15</title>\n",
       "<ellipse fill=\"none\" stroke=\"black\" cx=\"243\" cy=\"-90\" rx=\"27\" ry=\"18\"/>\n",
       "<text text-anchor=\"middle\" x=\"243\" y=\"-86.3\" font-family=\"Times,serif\" font-size=\"14.00\">$var</text>\n",
       "</g>\n",
       "<!-- 14&#45;&gt;15 -->\n",
       "<g id=\"edge15\" class=\"edge\">\n",
       "<title>14&#45;&gt;15</title>\n",
       "<path fill=\"none\" stroke=\"black\" d=\"M277.79,-145.12C272.15,-136.34 265.03,-125.26 258.7,-115.42\"/>\n",
       "<polygon fill=\"black\" stroke=\"black\" points=\"261.52,-113.34 253.17,-106.82 255.63,-117.13 261.52,-113.34\"/>\n",
       "</g>\n",
       "<!-- 17 -->\n",
       "<g id=\"node18\" class=\"node\">\n",
       "<title>17</title>\n",
       "<ellipse fill=\"none\" stroke=\"black\" cx=\"315\" cy=\"-90\" rx=\"27\" ry=\"18\"/>\n",
       "<text text-anchor=\"middle\" x=\"315\" y=\"-86.3\" font-family=\"Times,serif\" font-size=\"14.00\">$var</text>\n",
       "</g>\n",
       "<!-- 14&#45;&gt;17 -->\n",
       "<g id=\"edge17\" class=\"edge\">\n",
       "<title>14&#45;&gt;17</title>\n",
       "<path fill=\"none\" stroke=\"black\" d=\"M294.4,-144.41C297.51,-136.34 301.33,-126.43 304.83,-117.35\"/>\n",
       "<polygon fill=\"black\" stroke=\"black\" points=\"308.13,-118.55 308.46,-107.96 301.6,-116.03 308.13,-118.55\"/>\n",
       "</g>\n",
       "<!-- 16 -->\n",
       "<g id=\"node17\" class=\"node\">\n",
       "<title>16</title>\n",
       "<ellipse fill=\"none\" stroke=\"black\" cx=\"243\" cy=\"-18\" rx=\"27\" ry=\"18\"/>\n",
       "<text text-anchor=\"middle\" x=\"243\" y=\"-14.3\" font-family=\"Times,serif\" font-size=\"14.00\">x</text>\n",
       "</g>\n",
       "<!-- 15&#45;&gt;16 -->\n",
       "<g id=\"edge16\" class=\"edge\">\n",
       "<title>15&#45;&gt;16</title>\n",
       "<path fill=\"none\" stroke=\"black\" d=\"M243,-71.7C243,-63.98 243,-54.71 243,-46.11\"/>\n",
       "<polygon fill=\"black\" stroke=\"black\" points=\"246.5,-46.1 243,-36.1 239.5,-46.1 246.5,-46.1\"/>\n",
       "</g>\n",
       "<!-- 18 -->\n",
       "<g id=\"node19\" class=\"node\">\n",
       "<title>18</title>\n",
       "<ellipse fill=\"none\" stroke=\"black\" cx=\"315\" cy=\"-18\" rx=\"27\" ry=\"18\"/>\n",
       "<text text-anchor=\"middle\" x=\"315\" y=\"-14.3\" font-family=\"Times,serif\" font-size=\"14.00\">y</text>\n",
       "</g>\n",
       "<!-- 17&#45;&gt;18 -->\n",
       "<g id=\"edge18\" class=\"edge\">\n",
       "<title>17&#45;&gt;18</title>\n",
       "<path fill=\"none\" stroke=\"black\" d=\"M315,-71.7C315,-63.98 315,-54.71 315,-46.11\"/>\n",
       "<polygon fill=\"black\" stroke=\"black\" points=\"318.5,-46.1 315,-36.1 311.5,-46.1 318.5,-46.1\"/>\n",
       "</g>\n",
       "<!-- 20 -->\n",
       "<g id=\"node21\" class=\"node\">\n",
       "<title>20</title>\n",
       "<ellipse fill=\"none\" stroke=\"black\" cx=\"387\" cy=\"-90\" rx=\"27\" ry=\"18\"/>\n",
       "<text text-anchor=\"middle\" x=\"387\" y=\"-86.3\" font-family=\"Times,serif\" font-size=\"14.00\">y</text>\n",
       "</g>\n",
       "<!-- 19&#45;&gt;20 -->\n",
       "<g id=\"edge20\" class=\"edge\">\n",
       "<title>19&#45;&gt;20</title>\n",
       "<path fill=\"none\" stroke=\"black\" d=\"M366.4,-144.41C369.51,-136.34 373.33,-126.43 376.83,-117.35\"/>\n",
       "<polygon fill=\"black\" stroke=\"black\" points=\"380.13,-118.55 380.46,-107.96 373.6,-116.03 380.13,-118.55\"/>\n",
       "</g>\n",
       "<!-- 22 -->\n",
       "<g id=\"node23\" class=\"node\">\n",
       "<title>22</title>\n",
       "<ellipse fill=\"none\" stroke=\"black\" cx=\"432\" cy=\"-162\" rx=\"27\" ry=\"18\"/>\n",
       "<text text-anchor=\"middle\" x=\"432\" y=\"-158.3\" font-family=\"Times,serif\" font-size=\"14.00\">x</text>\n",
       "</g>\n",
       "<!-- 21&#45;&gt;22 -->\n",
       "<g id=\"edge22\" class=\"edge\">\n",
       "<title>21&#45;&gt;22</title>\n",
       "<path fill=\"none\" stroke=\"black\" d=\"M432,-215.7C432,-207.98 432,-198.71 432,-190.11\"/>\n",
       "<polygon fill=\"black\" stroke=\"black\" points=\"435.5,-190.1 432,-180.1 428.5,-190.1 435.5,-190.1\"/>\n",
       "</g>\n",
       "<!-- 24 -->\n",
       "<g id=\"node25\" class=\"node\">\n",
       "<title>24</title>\n",
       "<ellipse fill=\"none\" stroke=\"black\" cx=\"540\" cy=\"-234\" rx=\"27\" ry=\"18\"/>\n",
       "<text text-anchor=\"middle\" x=\"540\" y=\"-230.3\" font-family=\"Times,serif\" font-size=\"14.00\">\\</text>\n",
       "</g>\n",
       "<!-- 23&#45;&gt;24 -->\n",
       "<g id=\"edge24\" class=\"edge\">\n",
       "<title>23&#45;&gt;24</title>\n",
       "<path fill=\"none\" stroke=\"black\" d=\"M540,-287.7C540,-279.98 540,-270.71 540,-262.11\"/>\n",
       "<polygon fill=\"black\" stroke=\"black\" points=\"543.5,-262.1 540,-252.1 536.5,-262.1 543.5,-262.1\"/>\n",
       "</g>\n",
       "<!-- 32 -->\n",
       "<g id=\"node33\" class=\"node\">\n",
       "<title>32</title>\n",
       "<ellipse fill=\"none\" stroke=\"black\" cx=\"612\" cy=\"-234\" rx=\"27\" ry=\"18\"/>\n",
       "<text text-anchor=\"middle\" x=\"612\" y=\"-230.3\" font-family=\"Times,serif\" font-size=\"14.00\">$var</text>\n",
       "</g>\n",
       "<!-- 23&#45;&gt;32 -->\n",
       "<g id=\"edge32\" class=\"edge\">\n",
       "<title>23&#45;&gt;32</title>\n",
       "<path fill=\"none\" stroke=\"black\" d=\"M554.57,-290.83C564.75,-280.94 578.52,-267.55 590.03,-256.36\"/>\n",
       "<polygon fill=\"black\" stroke=\"black\" points=\"592.47,-258.87 597.2,-249.38 587.59,-253.85 592.47,-258.87\"/>\n",
       "</g>\n",
       "<!-- 25 -->\n",
       "<g id=\"node26\" class=\"node\">\n",
       "<title>25</title>\n",
       "<ellipse fill=\"none\" stroke=\"black\" cx=\"504\" cy=\"-162\" rx=\"27\" ry=\"18\"/>\n",
       "<text text-anchor=\"middle\" x=\"504\" y=\"-158.3\" font-family=\"Times,serif\" font-size=\"14.00\">$var</text>\n",
       "</g>\n",
       "<!-- 24&#45;&gt;25 -->\n",
       "<g id=\"edge25\" class=\"edge\">\n",
       "<title>24&#45;&gt;25</title>\n",
       "<path fill=\"none\" stroke=\"black\" d=\"M531.65,-216.76C527.29,-208.28 521.85,-197.71 516.96,-188.2\"/>\n",
       "<polygon fill=\"black\" stroke=\"black\" points=\"519.99,-186.44 512.3,-179.15 513.77,-189.64 519.99,-186.44\"/>\n",
       "</g>\n",
       "<!-- 27 -->\n",
       "<g id=\"node28\" class=\"node\">\n",
       "<title>27</title>\n",
       "<ellipse fill=\"none\" stroke=\"black\" cx=\"576\" cy=\"-162\" rx=\"27\" ry=\"18\"/>\n",
       "<text text-anchor=\"middle\" x=\"576\" y=\"-158.3\" font-family=\"Times,serif\" font-size=\"14.00\">*</text>\n",
       "</g>\n",
       "<!-- 24&#45;&gt;27 -->\n",
       "<g id=\"edge27\" class=\"edge\">\n",
       "<title>24&#45;&gt;27</title>\n",
       "<path fill=\"none\" stroke=\"black\" d=\"M548.35,-216.76C552.71,-208.28 558.15,-197.71 563.04,-188.2\"/>\n",
       "<polygon fill=\"black\" stroke=\"black\" points=\"566.23,-189.64 567.7,-179.15 560.01,-186.44 566.23,-189.64\"/>\n",
       "</g>\n",
       "<!-- 26 -->\n",
       "<g id=\"node27\" class=\"node\">\n",
       "<title>26</title>\n",
       "<ellipse fill=\"none\" stroke=\"black\" cx=\"495\" cy=\"-90\" rx=\"27\" ry=\"18\"/>\n",
       "<text text-anchor=\"middle\" x=\"495\" y=\"-86.3\" font-family=\"Times,serif\" font-size=\"14.00\">x</text>\n",
       "</g>\n",
       "<!-- 25&#45;&gt;26 -->\n",
       "<g id=\"edge26\" class=\"edge\">\n",
       "<title>25&#45;&gt;26</title>\n",
       "<path fill=\"none\" stroke=\"black\" d=\"M501.82,-144.05C500.83,-136.35 499.63,-127.03 498.52,-118.36\"/>\n",
       "<polygon fill=\"black\" stroke=\"black\" points=\"501.97,-117.75 497.22,-108.28 495.02,-118.64 501.97,-117.75\"/>\n",
       "</g>\n",
       "<!-- 28 -->\n",
       "<g id=\"node29\" class=\"node\">\n",
       "<title>28</title>\n",
       "<ellipse fill=\"none\" stroke=\"black\" cx=\"567\" cy=\"-90\" rx=\"27\" ry=\"18\"/>\n",
       "<text text-anchor=\"middle\" x=\"567\" y=\"-86.3\" font-family=\"Times,serif\" font-size=\"14.00\">$var</text>\n",
       "</g>\n",
       "<!-- 27&#45;&gt;28 -->\n",
       "<g id=\"edge28\" class=\"edge\">\n",
       "<title>27&#45;&gt;28</title>\n",
       "<path fill=\"none\" stroke=\"black\" d=\"M573.82,-144.05C572.83,-136.35 571.63,-127.03 570.52,-118.36\"/>\n",
       "<polygon fill=\"black\" stroke=\"black\" points=\"573.97,-117.75 569.22,-108.28 567.02,-118.64 573.97,-117.75\"/>\n",
       "</g>\n",
       "<!-- 30 -->\n",
       "<g id=\"node31\" class=\"node\">\n",
       "<title>30</title>\n",
       "<ellipse fill=\"none\" stroke=\"black\" cx=\"639\" cy=\"-90\" rx=\"27\" ry=\"18\"/>\n",
       "<text text-anchor=\"middle\" x=\"639\" y=\"-86.3\" font-family=\"Times,serif\" font-size=\"14.00\">$var</text>\n",
       "</g>\n",
       "<!-- 27&#45;&gt;30 -->\n",
       "<g id=\"edge30\" class=\"edge\">\n",
       "<title>27&#45;&gt;30</title>\n",
       "<path fill=\"none\" stroke=\"black\" d=\"M589.36,-146.15C597.88,-136.69 609.09,-124.24 618.69,-113.56\"/>\n",
       "<polygon fill=\"black\" stroke=\"black\" points=\"621.57,-115.6 625.66,-105.82 616.37,-110.92 621.57,-115.6\"/>\n",
       "</g>\n",
       "<!-- 29 -->\n",
       "<g id=\"node30\" class=\"node\">\n",
       "<title>29</title>\n",
       "<ellipse fill=\"none\" stroke=\"black\" cx=\"567\" cy=\"-18\" rx=\"27\" ry=\"18\"/>\n",
       "<text text-anchor=\"middle\" x=\"567\" y=\"-14.3\" font-family=\"Times,serif\" font-size=\"14.00\">x</text>\n",
       "</g>\n",
       "<!-- 28&#45;&gt;29 -->\n",
       "<g id=\"edge29\" class=\"edge\">\n",
       "<title>28&#45;&gt;29</title>\n",
       "<path fill=\"none\" stroke=\"black\" d=\"M567,-71.7C567,-63.98 567,-54.71 567,-46.11\"/>\n",
       "<polygon fill=\"black\" stroke=\"black\" points=\"570.5,-46.1 567,-36.1 563.5,-46.1 570.5,-46.1\"/>\n",
       "</g>\n",
       "<!-- 31 -->\n",
       "<g id=\"node32\" class=\"node\">\n",
       "<title>31</title>\n",
       "<ellipse fill=\"none\" stroke=\"black\" cx=\"639\" cy=\"-18\" rx=\"27\" ry=\"18\"/>\n",
       "<text text-anchor=\"middle\" x=\"639\" y=\"-14.3\" font-family=\"Times,serif\" font-size=\"14.00\">y</text>\n",
       "</g>\n",
       "<!-- 30&#45;&gt;31 -->\n",
       "<g id=\"edge31\" class=\"edge\">\n",
       "<title>30&#45;&gt;31</title>\n",
       "<path fill=\"none\" stroke=\"black\" d=\"M639,-71.7C639,-63.98 639,-54.71 639,-46.11\"/>\n",
       "<polygon fill=\"black\" stroke=\"black\" points=\"642.5,-46.1 639,-36.1 635.5,-46.1 642.5,-46.1\"/>\n",
       "</g>\n",
       "<!-- 33 -->\n",
       "<g id=\"node34\" class=\"node\">\n",
       "<title>33</title>\n",
       "<ellipse fill=\"none\" stroke=\"black\" cx=\"648\" cy=\"-162\" rx=\"27\" ry=\"18\"/>\n",
       "<text text-anchor=\"middle\" x=\"648\" y=\"-158.3\" font-family=\"Times,serif\" font-size=\"14.00\">y</text>\n",
       "</g>\n",
       "<!-- 32&#45;&gt;33 -->\n",
       "<g id=\"edge33\" class=\"edge\">\n",
       "<title>32&#45;&gt;33</title>\n",
       "<path fill=\"none\" stroke=\"black\" d=\"M620.35,-216.76C624.71,-208.28 630.15,-197.71 635.04,-188.2\"/>\n",
       "<polygon fill=\"black\" stroke=\"black\" points=\"638.23,-189.64 639.7,-179.15 632.01,-186.44 638.23,-189.64\"/>\n",
       "</g>\n",
       "<!-- 35 -->\n",
       "<g id=\"node36\" class=\"node\">\n",
       "<title>35</title>\n",
       "<ellipse fill=\"none\" stroke=\"black\" cx=\"747\" cy=\"-234\" rx=\"27\" ry=\"18\"/>\n",
       "<text text-anchor=\"middle\" x=\"747\" y=\"-230.3\" font-family=\"Times,serif\" font-size=\"14.00\">/</text>\n",
       "</g>\n",
       "<!-- 34&#45;&gt;35 -->\n",
       "<g id=\"edge35\" class=\"edge\">\n",
       "<title>34&#45;&gt;35</title>\n",
       "<path fill=\"none\" stroke=\"black\" d=\"M747,-287.7C747,-279.98 747,-270.71 747,-262.11\"/>\n",
       "<polygon fill=\"black\" stroke=\"black\" points=\"750.5,-262.1 747,-252.1 743.5,-262.1 750.5,-262.1\"/>\n",
       "</g>\n",
       "<!-- 43 -->\n",
       "<g id=\"node44\" class=\"node\">\n",
       "<title>43</title>\n",
       "<ellipse fill=\"none\" stroke=\"black\" cx=\"855\" cy=\"-234\" rx=\"27\" ry=\"18\"/>\n",
       "<text text-anchor=\"middle\" x=\"855\" y=\"-230.3\" font-family=\"Times,serif\" font-size=\"14.00\">$var</text>\n",
       "</g>\n",
       "<!-- 34&#45;&gt;43 -->\n",
       "<g id=\"edge43\" class=\"edge\">\n",
       "<title>34&#45;&gt;43</title>\n",
       "<path fill=\"none\" stroke=\"black\" d=\"M765.81,-292.81C783,-281.67 808.62,-265.06 827.99,-252.5\"/>\n",
       "<polygon fill=\"black\" stroke=\"black\" points=\"829.92,-255.43 836.4,-247.05 826.11,-249.56 829.92,-255.43\"/>\n",
       "</g>\n",
       "<!-- 36 -->\n",
       "<g id=\"node37\" class=\"node\">\n",
       "<title>36</title>\n",
       "<ellipse fill=\"none\" stroke=\"black\" cx=\"729\" cy=\"-162\" rx=\"27\" ry=\"18\"/>\n",
       "<text text-anchor=\"middle\" x=\"729\" y=\"-158.3\" font-family=\"Times,serif\" font-size=\"14.00\">*</text>\n",
       "</g>\n",
       "<!-- 35&#45;&gt;36 -->\n",
       "<g id=\"edge36\" class=\"edge\">\n",
       "<title>35&#45;&gt;36</title>\n",
       "<path fill=\"none\" stroke=\"black\" d=\"M742.64,-216.05C740.61,-208.14 738.14,-198.54 735.86,-189.69\"/>\n",
       "<polygon fill=\"black\" stroke=\"black\" points=\"739.2,-188.6 733.32,-179.79 732.42,-190.35 739.2,-188.6\"/>\n",
       "</g>\n",
       "<!-- 41 -->\n",
       "<g id=\"node42\" class=\"node\">\n",
       "<title>41</title>\n",
       "<ellipse fill=\"none\" stroke=\"black\" cx=\"801\" cy=\"-162\" rx=\"27\" ry=\"18\"/>\n",
       "<text text-anchor=\"middle\" x=\"801\" y=\"-158.3\" font-family=\"Times,serif\" font-size=\"14.00\">$var</text>\n",
       "</g>\n",
       "<!-- 35&#45;&gt;41 -->\n",
       "<g id=\"edge41\" class=\"edge\">\n",
       "<title>35&#45;&gt;41</title>\n",
       "<path fill=\"none\" stroke=\"black\" d=\"M758.98,-217.46C765.98,-208.4 774.94,-196.79 782.79,-186.61\"/>\n",
       "<polygon fill=\"black\" stroke=\"black\" points=\"785.71,-188.55 789.05,-178.49 780.17,-184.27 785.71,-188.55\"/>\n",
       "</g>\n",
       "<!-- 37 -->\n",
       "<g id=\"node38\" class=\"node\">\n",
       "<title>37</title>\n",
       "<ellipse fill=\"none\" stroke=\"black\" cx=\"711\" cy=\"-90\" rx=\"27\" ry=\"18\"/>\n",
       "<text text-anchor=\"middle\" x=\"711\" y=\"-86.3\" font-family=\"Times,serif\" font-size=\"14.00\">$var</text>\n",
       "</g>\n",
       "<!-- 36&#45;&gt;37 -->\n",
       "<g id=\"edge37\" class=\"edge\">\n",
       "<title>36&#45;&gt;37</title>\n",
       "<path fill=\"none\" stroke=\"black\" d=\"M724.64,-144.05C722.61,-136.14 720.14,-126.54 717.86,-117.69\"/>\n",
       "<polygon fill=\"black\" stroke=\"black\" points=\"721.2,-116.6 715.32,-107.79 714.42,-118.35 721.2,-116.6\"/>\n",
       "</g>\n",
       "<!-- 39 -->\n",
       "<g id=\"node40\" class=\"node\">\n",
       "<title>39</title>\n",
       "<ellipse fill=\"none\" stroke=\"black\" cx=\"783\" cy=\"-90\" rx=\"27\" ry=\"18\"/>\n",
       "<text text-anchor=\"middle\" x=\"783\" y=\"-86.3\" font-family=\"Times,serif\" font-size=\"14.00\">$var</text>\n",
       "</g>\n",
       "<!-- 36&#45;&gt;39 -->\n",
       "<g id=\"edge39\" class=\"edge\">\n",
       "<title>36&#45;&gt;39</title>\n",
       "<path fill=\"none\" stroke=\"black\" d=\"M740.98,-145.46C747.98,-136.4 756.94,-124.79 764.79,-114.61\"/>\n",
       "<polygon fill=\"black\" stroke=\"black\" points=\"767.71,-116.55 771.05,-106.49 762.17,-112.27 767.71,-116.55\"/>\n",
       "</g>\n",
       "<!-- 38 -->\n",
       "<g id=\"node39\" class=\"node\">\n",
       "<title>38</title>\n",
       "<ellipse fill=\"none\" stroke=\"black\" cx=\"711\" cy=\"-18\" rx=\"27\" ry=\"18\"/>\n",
       "<text text-anchor=\"middle\" x=\"711\" y=\"-14.3\" font-family=\"Times,serif\" font-size=\"14.00\">x</text>\n",
       "</g>\n",
       "<!-- 37&#45;&gt;38 -->\n",
       "<g id=\"edge38\" class=\"edge\">\n",
       "<title>37&#45;&gt;38</title>\n",
       "<path fill=\"none\" stroke=\"black\" d=\"M711,-71.7C711,-63.98 711,-54.71 711,-46.11\"/>\n",
       "<polygon fill=\"black\" stroke=\"black\" points=\"714.5,-46.1 711,-36.1 707.5,-46.1 714.5,-46.1\"/>\n",
       "</g>\n",
       "<!-- 40 -->\n",
       "<g id=\"node41\" class=\"node\">\n",
       "<title>40</title>\n",
       "<ellipse fill=\"none\" stroke=\"black\" cx=\"783\" cy=\"-18\" rx=\"27\" ry=\"18\"/>\n",
       "<text text-anchor=\"middle\" x=\"783\" y=\"-14.3\" font-family=\"Times,serif\" font-size=\"14.00\">y</text>\n",
       "</g>\n",
       "<!-- 39&#45;&gt;40 -->\n",
       "<g id=\"edge40\" class=\"edge\">\n",
       "<title>39&#45;&gt;40</title>\n",
       "<path fill=\"none\" stroke=\"black\" d=\"M783,-71.7C783,-63.98 783,-54.71 783,-46.11\"/>\n",
       "<polygon fill=\"black\" stroke=\"black\" points=\"786.5,-46.1 783,-36.1 779.5,-46.1 786.5,-46.1\"/>\n",
       "</g>\n",
       "<!-- 42 -->\n",
       "<g id=\"node43\" class=\"node\">\n",
       "<title>42</title>\n",
       "<ellipse fill=\"none\" stroke=\"black\" cx=\"855\" cy=\"-90\" rx=\"27\" ry=\"18\"/>\n",
       "<text text-anchor=\"middle\" x=\"855\" y=\"-86.3\" font-family=\"Times,serif\" font-size=\"14.00\">y</text>\n",
       "</g>\n",
       "<!-- 41&#45;&gt;42 -->\n",
       "<g id=\"edge42\" class=\"edge\">\n",
       "<title>41&#45;&gt;42</title>\n",
       "<path fill=\"none\" stroke=\"black\" d=\"M812.98,-145.46C819.98,-136.4 828.94,-124.79 836.79,-114.61\"/>\n",
       "<polygon fill=\"black\" stroke=\"black\" points=\"839.71,-116.55 843.05,-106.49 834.17,-112.27 839.71,-116.55\"/>\n",
       "</g>\n",
       "<!-- 44 -->\n",
       "<g id=\"node45\" class=\"node\">\n",
       "<title>44</title>\n",
       "<ellipse fill=\"none\" stroke=\"black\" cx=\"873\" cy=\"-162\" rx=\"27\" ry=\"18\"/>\n",
       "<text text-anchor=\"middle\" x=\"873\" y=\"-158.3\" font-family=\"Times,serif\" font-size=\"14.00\">x</text>\n",
       "</g>\n",
       "<!-- 43&#45;&gt;44 -->\n",
       "<g id=\"edge44\" class=\"edge\">\n",
       "<title>43&#45;&gt;44</title>\n",
       "<path fill=\"none\" stroke=\"black\" d=\"M859.36,-216.05C861.39,-208.14 863.86,-198.54 866.14,-189.69\"/>\n",
       "<polygon fill=\"black\" stroke=\"black\" points=\"869.58,-190.35 868.68,-179.79 862.8,-188.6 869.58,-190.35\"/>\n",
       "</g>\n",
       "</g>\n",
       "</svg>\n"
      ],
      "text/plain": [
       "<graphviz.graphs.Digraph at 0x1075e4fb0>"
      ]
     },
     "execution_count": 30,
     "metadata": {},
     "output_type": "execute_result"
    }
   ],
   "source": [
    "test_parse('Examples/quasigroups.eqn')"
   ]
  },
  {
   "cell_type": "code",
   "execution_count": 31,
   "metadata": {},
   "outputs": [],
   "source": [
    "def parse_file(file_name):\n",
    "    lexer.lineno = 1\n",
    "    with open(file_name, 'r') as handle:\n",
    "        program = handle.read() \n",
    "    AST = yacc.parse(program)\n",
    "    if AST:\n",
    "        _, *L = AST\n",
    "        return L\n",
    "    return None"
   ]
  },
  {
   "cell_type": "code",
   "execution_count": 32,
   "metadata": {},
   "outputs": [
    {
     "data": {
      "text/plain": [
       "[('=', ('*', ('1',), ('$var', 'x')), ('$var', 'x')),\n",
       " ('=', ('*', ('i', ('$var', 'x')), ('$var', 'x')), ('1',)),\n",
       " ('=',\n",
       "  ('*', ('*', ('$var', 'x'), ('$var', 'y')), ('$var', 'z')),\n",
       "  ('*', ('$var', 'x'), ('*', ('$var', 'y'), ('$var', 'z'))))]"
      ]
     },
     "execution_count": 32,
     "metadata": {},
     "output_type": "execute_result"
    }
   ],
   "source": [
    "parse_file('Examples/group-theory-1.eqn')"
   ]
  },
  {
   "cell_type": "code",
   "execution_count": 33,
   "metadata": {},
   "outputs": [],
   "source": [
    "def parse_equation(s):\n",
    "    lexer.lineno = 1\n",
    "    AST = yacc.parse(s + ';')\n",
    "    if AST:\n",
    "        _, *L = AST\n",
    "        return L[0]\n",
    "    return None"
   ]
  },
  {
   "cell_type": "code",
   "execution_count": 34,
   "metadata": {},
   "outputs": [
    {
     "data": {
      "text/plain": [
       "('=', ('*', ('i', ('$var', 'x')), ('$var', 'x')), ('1',))"
      ]
     },
     "execution_count": 34,
     "metadata": {},
     "output_type": "execute_result"
    }
   ],
   "source": [
    "parse_equation('i(x) * x = 1')"
   ]
  },
  {
   "cell_type": "code",
   "execution_count": 35,
   "metadata": {},
   "outputs": [],
   "source": [
    "def parse_term(s):\n",
    "    lexer.lineno = 1\n",
    "    AST = yacc.parse(s + '= 1;')\n",
    "    if AST:\n",
    "        _, *L = AST\n",
    "        return L[0][1]\n",
    "    return None"
   ]
  },
  {
   "cell_type": "code",
   "execution_count": 36,
   "metadata": {},
   "outputs": [
    {
     "data": {
      "text/plain": [
       "('*', ('i', ('$var', 'x')), ('$var', 'x'))"
      ]
     },
     "execution_count": 36,
     "metadata": {},
     "output_type": "execute_result"
    }
   ],
   "source": [
    "parse_term('i(x) * x')"
   ]
  },
  {
   "cell_type": "code",
   "execution_count": 37,
   "metadata": {},
   "outputs": [],
   "source": [
    "def to_str(t):\n",
    "    if isinstance(t, set):\n",
    "        return '{' + ', '.join({ f'{to_str(eq)}' for eq in t }) + '}'\n",
    "    if isinstance(t, list):\n",
    "        return '[' + ', '.join([ f'{to_str(eq)}' for eq in t ]) + ']'\n",
    "    if isinstance(t, dict):\n",
    "        return '{' + ', '.join({ f'{k}: {to_str(v)}' for k, v in t.items() }) + '}'\n",
    "    if isinstance(t, str):\n",
    "        return t\n",
    "    if t[0] == '$var':\n",
    "        return t[1]\n",
    "    if len(t) == 3 and t[0] in ['=']:\n",
    "        _, lhs, rhs = t\n",
    "        return f'{to_str(lhs)} = {to_str(rhs)}'\n",
    "    if t[0] == '\\\\':\n",
    "        op, lhs, rhs = t\n",
    "        return to_str_paren(lhs) + ' \\\\ ' + to_str_paren(rhs)\n",
    "    if len(t) == 3 and t[0] in ['+', '-', '*', '/', '%', '^']:\n",
    "        op, lhs, rhs = t\n",
    "        return f'{to_str_paren(lhs)} {op} {to_str_paren(rhs)}'\n",
    "    f, *Args = t\n",
    "    if Args == []:\n",
    "        return f\n",
    "    return f'{f}({to_str_list(Args)})'"
   ]
  },
  {
   "cell_type": "code",
   "execution_count": 38,
   "metadata": {},
   "outputs": [],
   "source": [
    "def to_str_paren(t):\n",
    "    if isinstance(t, str):\n",
    "        return t\n",
    "    if t[0] == '$var':\n",
    "        return t[1]\n",
    "    if len(t) == 3:\n",
    "        op, lhs, rhs = t\n",
    "        return f'({to_str_paren(lhs)} {op} {to_str_paren(rhs)})'\n",
    "    f, *Args = t\n",
    "    if Args == []:\n",
    "        return f\n",
    "    return f'{f}({to_str_list(Args)})'"
   ]
  },
  {
   "cell_type": "code",
   "execution_count": 39,
   "metadata": {},
   "outputs": [],
   "source": [
    "def to_str_list(TL):\n",
    "    if TL == []:\n",
    "        return ''\n",
    "    t, *Ts = TL\n",
    "    if Ts == []:\n",
    "        return f'{to_str(t)}'\n",
    "    return f'{to_str(t)}, {to_str_list(Ts)}'"
   ]
  },
  {
   "cell_type": "code",
   "execution_count": null,
   "metadata": {},
   "outputs": [],
   "source": []
  }
 ],
 "metadata": {
  "kernelspec": {
   "display_name": "Python 3 (ipykernel)",
   "language": "python",
   "name": "python3"
  },
  "language_info": {
   "codemirror_mode": {
    "name": "ipython",
    "version": 3
   },
   "file_extension": ".py",
   "mimetype": "text/x-python",
   "name": "python",
   "nbconvert_exporter": "python",
   "pygments_lexer": "ipython3",
   "version": "3.12.8"
  },
  "varInspector": {
   "cols": {
    "lenName": 16,
    "lenType": 16,
    "lenVar": 40
   },
   "kernels_config": {
    "python": {
     "delete_cmd_postfix": "",
     "delete_cmd_prefix": "del ",
     "library": "var_list.py",
     "varRefreshCmd": "print(var_dic_list())"
    },
    "r": {
     "delete_cmd_postfix": ") ",
     "delete_cmd_prefix": "rm(",
     "library": "var_list.r",
     "varRefreshCmd": "cat(var_dic_list()) "
    }
   },
   "types_to_exclude": [
    "module",
    "function",
    "builtin_function_or_method",
    "instance",
    "_Feature"
   ],
   "window_display": false
  }
 },
 "nbformat": 4,
 "nbformat_minor": 4
}
